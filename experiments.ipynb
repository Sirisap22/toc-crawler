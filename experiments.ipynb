{
 "cells": [
  {
   "cell_type": "code",
   "execution_count": 105,
   "metadata": {
    "collapsed": true
   },
   "outputs": [],
   "source": [
    "import requests\n",
    "import re"
   ]
  },
  {
   "cell_type": "code",
   "execution_count": 106,
   "metadata": {
    "collapsed": false
   },
   "outputs": [],
   "source": [
    "baseURL = 'https://th.wikipedia.org/'"
   ]
  },
  {
   "cell_type": "code",
   "execution_count": 107,
   "metadata": {
    "collapsed": false
   },
   "outputs": [],
   "source": [
    "response = requests.get('https://th.wikipedia.org/wiki/%E0%B8%AB%E0%B8%A1%E0%B8%A7%E0%B8%94%E0%B8%AB%E0%B8%A1%E0%B8%B9%E0%B9%88:%E0%B8%A3%E0%B8%B2%E0%B8%A2%E0%B8%8A%E0%B8%B7%E0%B9%88%E0%B8%AD%E0%B8%A7%E0%B8%B1%E0%B8%94%E0%B9%84%E0%B8%97%E0%B8%A2')"
   ]
  },
  {
   "cell_type": "code",
   "execution_count": 108,
   "metadata": {
    "collapsed": false
   },
   "outputs": [],
   "source": [
    "#response.text"
   ]
  },
  {
   "cell_type": "code",
   "execution_count": 109,
   "metadata": {
    "collapsed": false
   },
   "outputs": [],
   "source": [
    "match = re.search(r'จังหวัดพังงา.*?>(วัด)<', response.text)\n",
    "#print(match)"
   ]
  },
  {
   "cell_type": "code",
   "execution_count": 110,
   "metadata": {
    "collapsed": false
   },
   "outputs": [],
   "source": [
    "provinces = ['พังงา', 'พัทลุง', 'พิจิตร', 'พิษณุโลก', 'อุบลราชธานี']"
   ]
  },
  {
   "cell_type": "code",
   "execution_count": 111,
   "metadata": {},
   "outputs": [
    {
     "data": {
      "text/plain": [
       "'พังงา|พัทลุง|พิจิตร|พิษณุโลก|อุบลราชธานี'"
      ]
     },
     "execution_count": 111,
     "metadata": {},
     "output_type": "execute_result"
    }
   ],
   "source": [
    "'|'.join(provinces)"
   ]
  },
  {
   "cell_type": "code",
   "execution_count": 112,
   "metadata": {
    "collapsed": false
   },
   "outputs": [],
   "source": [
    "match = re.search(f'จังหวัด', response.text)"
   ]
  },
  {
   "cell_type": "code",
   "execution_count": 113,
   "metadata": {
    "collapsed": false
   },
   "outputs": [],
   "source": [
    "achors = []\n",
    "for province in provinces:\n",
    "    reg = f'<a href=\".*\" title=\"รายชื่อวัดในจังหวัด{province}\">'\n",
    "    match = re.findall(reg, response.text)\n",
    "    #print(matches)\n",
    "    achors.append(match[0])\n"
   ]
  },
  {
   "cell_type": "code",
   "execution_count": 114,
   "metadata": {},
   "outputs": [
    {
     "data": {
      "text/plain": [
       "['<a href=\"/wiki/%E0%B8%A3%E0%B8%B2%E0%B8%A2%E0%B8%8A%E0%B8%B7%E0%B9%88%E0%B8%AD%E0%B8%A7%E0%B8%B1%E0%B8%94%E0%B9%83%E0%B8%99%E0%B8%88%E0%B8%B1%E0%B8%87%E0%B8%AB%E0%B8%A7%E0%B8%B1%E0%B8%94%E0%B8%9E%E0%B8%B1%E0%B8%87%E0%B8%87%E0%B8%B2\" title=\"รายชื่อวัดในจังหวัดพังงา\">',\n",
       " '<a href=\"/wiki/%E0%B8%A3%E0%B8%B2%E0%B8%A2%E0%B8%8A%E0%B8%B7%E0%B9%88%E0%B8%AD%E0%B8%A7%E0%B8%B1%E0%B8%94%E0%B9%83%E0%B8%99%E0%B8%88%E0%B8%B1%E0%B8%87%E0%B8%AB%E0%B8%A7%E0%B8%B1%E0%B8%94%E0%B8%9E%E0%B8%B1%E0%B8%97%E0%B8%A5%E0%B8%B8%E0%B8%87\" title=\"รายชื่อวัดในจังหวัดพัทลุง\">',\n",
       " '<a href=\"/wiki/%E0%B8%A3%E0%B8%B2%E0%B8%A2%E0%B8%8A%E0%B8%B7%E0%B9%88%E0%B8%AD%E0%B8%A7%E0%B8%B1%E0%B8%94%E0%B9%83%E0%B8%99%E0%B8%88%E0%B8%B1%E0%B8%87%E0%B8%AB%E0%B8%A7%E0%B8%B1%E0%B8%94%E0%B8%9E%E0%B8%B4%E0%B8%88%E0%B8%B4%E0%B8%95%E0%B8%A3\" title=\"รายชื่อวัดในจังหวัดพิจิตร\">',\n",
       " '<a href=\"/wiki/%E0%B8%A3%E0%B8%B2%E0%B8%A2%E0%B8%8A%E0%B8%B7%E0%B9%88%E0%B8%AD%E0%B8%A7%E0%B8%B1%E0%B8%94%E0%B9%83%E0%B8%99%E0%B8%88%E0%B8%B1%E0%B8%87%E0%B8%AB%E0%B8%A7%E0%B8%B1%E0%B8%94%E0%B8%9E%E0%B8%B4%E0%B8%A9%E0%B8%93%E0%B8%B8%E0%B9%82%E0%B8%A5%E0%B8%81\" title=\"รายชื่อวัดในจังหวัดพิษณุโลก\">',\n",
       " '<a href=\"/wiki/%E0%B8%A3%E0%B8%B2%E0%B8%A2%E0%B8%8A%E0%B8%B7%E0%B9%88%E0%B8%AD%E0%B8%A7%E0%B8%B1%E0%B8%94%E0%B9%83%E0%B8%99%E0%B8%88%E0%B8%B1%E0%B8%87%E0%B8%AB%E0%B8%A7%E0%B8%B1%E0%B8%94%E0%B8%AD%E0%B8%B8%E0%B8%9A%E0%B8%A5%E0%B8%A3%E0%B8%B2%E0%B8%8A%E0%B8%98%E0%B8%B2%E0%B8%99%E0%B8%B5\" title=\"รายชื่อวัดในจังหวัดอุบลราชธานี\">']"
      ]
     },
     "execution_count": 114,
     "metadata": {},
     "output_type": "execute_result"
    }
   ],
   "source": [
    "achors"
   ]
  },
  {
   "cell_type": "code",
   "execution_count": 115,
   "metadata": {},
   "outputs": [],
   "source": [
    "links = []\n",
    "for achor in achors:\n",
    "    reg = r'\"(.*?)\"'\n",
    "    # ( .* -> any string ?) -> have single \")\" \n",
    "    match = re.search(reg, achor)\n",
    "    links.append(match.groups(1)[0])"
   ]
  },
  {
   "cell_type": "code",
   "execution_count": 116,
   "metadata": {},
   "outputs": [
    {
     "data": {
      "text/plain": [
       "['/wiki/%E0%B8%A3%E0%B8%B2%E0%B8%A2%E0%B8%8A%E0%B8%B7%E0%B9%88%E0%B8%AD%E0%B8%A7%E0%B8%B1%E0%B8%94%E0%B9%83%E0%B8%99%E0%B8%88%E0%B8%B1%E0%B8%87%E0%B8%AB%E0%B8%A7%E0%B8%B1%E0%B8%94%E0%B8%9E%E0%B8%B1%E0%B8%87%E0%B8%87%E0%B8%B2',\n",
       " '/wiki/%E0%B8%A3%E0%B8%B2%E0%B8%A2%E0%B8%8A%E0%B8%B7%E0%B9%88%E0%B8%AD%E0%B8%A7%E0%B8%B1%E0%B8%94%E0%B9%83%E0%B8%99%E0%B8%88%E0%B8%B1%E0%B8%87%E0%B8%AB%E0%B8%A7%E0%B8%B1%E0%B8%94%E0%B8%9E%E0%B8%B1%E0%B8%97%E0%B8%A5%E0%B8%B8%E0%B8%87',\n",
       " '/wiki/%E0%B8%A3%E0%B8%B2%E0%B8%A2%E0%B8%8A%E0%B8%B7%E0%B9%88%E0%B8%AD%E0%B8%A7%E0%B8%B1%E0%B8%94%E0%B9%83%E0%B8%99%E0%B8%88%E0%B8%B1%E0%B8%87%E0%B8%AB%E0%B8%A7%E0%B8%B1%E0%B8%94%E0%B8%9E%E0%B8%B4%E0%B8%88%E0%B8%B4%E0%B8%95%E0%B8%A3',\n",
       " '/wiki/%E0%B8%A3%E0%B8%B2%E0%B8%A2%E0%B8%8A%E0%B8%B7%E0%B9%88%E0%B8%AD%E0%B8%A7%E0%B8%B1%E0%B8%94%E0%B9%83%E0%B8%99%E0%B8%88%E0%B8%B1%E0%B8%87%E0%B8%AB%E0%B8%A7%E0%B8%B1%E0%B8%94%E0%B8%9E%E0%B8%B4%E0%B8%A9%E0%B8%93%E0%B8%B8%E0%B9%82%E0%B8%A5%E0%B8%81',\n",
       " '/wiki/%E0%B8%A3%E0%B8%B2%E0%B8%A2%E0%B8%8A%E0%B8%B7%E0%B9%88%E0%B8%AD%E0%B8%A7%E0%B8%B1%E0%B8%94%E0%B9%83%E0%B8%99%E0%B8%88%E0%B8%B1%E0%B8%87%E0%B8%AB%E0%B8%A7%E0%B8%B1%E0%B8%94%E0%B8%AD%E0%B8%B8%E0%B8%9A%E0%B8%A5%E0%B8%A3%E0%B8%B2%E0%B8%8A%E0%B8%98%E0%B8%B2%E0%B8%99%E0%B8%B5']"
      ]
     },
     "execution_count": 116,
     "metadata": {},
     "output_type": "execute_result"
    }
   ],
   "source": [
    "links"
   ]
  },
  {
   "cell_type": "code",
   "execution_count": 117,
   "metadata": {},
   "outputs": [],
   "source": [
    "HTMLs = []\n",
    "for link in links:\n",
    "    url = f'{baseURL}{link}'\n",
    "    HTML = requests.get(url).text\n",
    "    HTMLs.append(HTML)\n",
    "    "
   ]
  },
  {
   "cell_type": "code",
   "execution_count": null,
   "metadata": {},
   "outputs": [],
   "source": []
  },
  {
   "cell_type": "code",
   "execution_count": null,
   "metadata": {},
   "outputs": [],
   "source": [
    "s = 'จังหวัด121e312 รายชื่อวัดในประเทศไทยแบ่งตามจังหวัด'"
   ]
  },
  {
   "cell_type": "code",
   "execution_count": null,
   "metadata": {},
   "outputs": [],
   "source": [
    "reg = r'[^ ]+(?=\\s*รายชื่อวัดในประเทศไทยแบ่งตามจังหวัด)'"
   ]
  },
  {
   "cell_type": "code",
   "execution_count": 175,
   "metadata": {},
   "outputs": [],
   "source": [
    "html = HTMLs[2]\n",
    "\n",
    "\n",
    "reg = r'<li>.*\"วัด.*?<(?=[\\s\\S]*รายชื่อวัดในประเทศไทยแบ่งตามจังหวัด)'\n",
    "finds = re.findall(reg, html)"
   ]
  },
  {
   "cell_type": "code",
   "execution_count": 176,
   "metadata": {},
   "outputs": [
    {
     "data": {
      "text/plain": [
       "['<li><a href=\"/wiki/%E0%B8%A7%E0%B8%B1%E0%B8%94%E0%B8%A1%E0%B8%87%E0%B8%84%E0%B8%A5%E0%B8%97%E0%B8%B1%E0%B8%9A%E0%B8%84%E0%B8%A5%E0%B9%89%E0%B8%AD\" class=\"mw-redirect\" title=\"วัดมงคลทับคล้อ\">วัดมงคลทับคล้อ<',\n",
       " '<li><a href=\"/wiki/%E0%B8%A7%E0%B8%B1%E0%B8%94%E0%B8%97%E0%B9%88%E0%B8%B2%E0%B8%AB%E0%B8%A5%E0%B8%A7%E0%B8%87_(%E0%B8%88%E0%B8%B1%E0%B8%87%E0%B8%AB%E0%B8%A7%E0%B8%B1%E0%B8%94%E0%B8%9E%E0%B8%B4%E0%B8%88%E0%B8%B4%E0%B8%95%E0%B8%A3)\" title=\"วัดท่าหลวง (จังหวัดพิจิตร)\">วัดท่าหลวง<',\n",
       " '<li><a href=\"/wiki/%E0%B8%A7%E0%B8%B1%E0%B8%94%E0%B8%95%E0%B8%A5%E0%B8%B4%E0%B9%88%E0%B8%87%E0%B8%8A%E0%B8%B1%E0%B8%99\" class=\"mw-disambig\" title=\"วัดตลิ่งชัน\">วัดตลิ่งชัน<',\n",
       " '<li><a href=\"/w/index.php?title=%E0%B8%A7%E0%B8%B1%E0%B8%94%E0%B8%A7%E0%B8%B1%E0%B8%87%E0%B8%87%E0%B8%B4%E0%B9%89%E0%B8%A7&amp;action=edit&amp;redlink=1\" class=\"new\" title=\"วัดวังงิ้ว (ไม่มีหน้า)\">วัดวังงิ้ว<',\n",
       " '<li><a href=\"/w/index.php?title=%E0%B8%A7%E0%B8%B1%E0%B8%94%E0%B8%A7%E0%B8%B1%E0%B8%87%E0%B8%9A%E0%B8%87%E0%B8%81%E0%B9%8C&amp;action=edit&amp;redlink=1\" class=\"new\" title=\"วัดวังบงก์ (ไม่มีหน้า)\">วัดวังบงก์<',\n",
       " '<li><a href=\"/w/index.php?title=%E0%B8%A7%E0%B8%B1%E0%B8%94%E0%B8%AA%E0%B8%B3%E0%B8%99%E0%B8%B1%E0%B8%81%E0%B8%82%E0%B8%B8%E0%B8%99%E0%B9%80%E0%B8%93%E0%B8%A3&amp;action=edit&amp;redlink=1\" class=\"new\" title=\"วัดสำนักขุนเณร (ไม่มีหน้า)\">วัดสำนักขุนเณร<',\n",
       " '<li><a href=\"/w/index.php?title=%E0%B8%A7%E0%B8%B1%E0%B8%94%E0%B9%83%E0%B8%94%E0%B8%A5%E0%B8%B6%E0%B8%81&amp;action=edit&amp;redlink=1\" class=\"new\" title=\"วัดใดลึก (ไม่มีหน้า)\">วัดใดลึก<',\n",
       " '<li><a href=\"/w/index.php?title=%E0%B8%A7%E0%B8%B1%E0%B8%94%E0%B8%AA%E0%B8%A1%E0%B8%9A%E0%B8%B9%E0%B8%A3%E0%B8%93%E0%B9%8C%E0%B8%98%E0%B8%A3%E0%B8%A3%E0%B8%A1%E0%B8%81%E0%B8%B2%E0%B8%A2%E0%B8%B2%E0%B8%A3%E0%B8%B2%E0%B8%A1&amp;action=edit&amp;redlink=1\" class=\"new\" title=\"วัดสมบูรณ์ธรรมกายาราม (ไม่มีหน้า)\">วัดสมบูรณ์ธรรมกายาราม<',\n",
       " '<li><a href=\"/w/index.php?title=%E0%B8%A7%E0%B8%B1%E0%B8%94%E0%B8%AB%E0%B9%89%E0%B8%A7%E0%B8%A2%E0%B8%9E%E0%B8%B8%E0%B8%81&amp;action=edit&amp;redlink=1\" class=\"new\" title=\"วัดห้วยพุก (ไม่มีหน้า)\">วัดห้วยพุก<',\n",
       " '<li><a href=\"/w/index.php?title=%E0%B8%A7%E0%B8%B1%E0%B8%94%E0%B8%AB%E0%B9%89%E0%B8%A7%E0%B8%A2%E0%B8%99%E0%B9%89%E0%B8%B3%E0%B9%82%E0%B8%88%E0%B8%99&amp;action=edit&amp;redlink=1\" class=\"new\" title=\"วัดห้วยน้ำโจน (ไม่มีหน้า)\">วัดห้วยน้ำโจน<',\n",
       " '<li><a href=\"/w/index.php?title=%E0%B8%A7%E0%B8%B1%E0%B8%94%E0%B8%98%E0%B8%A3%E0%B8%A3%E0%B8%A1%E0%B8%AA%E0%B8%B1%E0%B8%87%E0%B9%80%E0%B8%A7%E0%B8%8A&amp;action=edit&amp;redlink=1\" class=\"new\" title=\"วัดธรรมสังเวช (ไม่มีหน้า)\">วัดธรรมสังเวช (ไดรัง)<',\n",
       " '<li><a href=\"/w/index.php?title=%E0%B8%A7%E0%B8%B1%E0%B8%94%E0%B8%A7%E0%B8%B1%E0%B8%87%E0%B8%AB%E0%B8%A7%E0%B9%89%E0%B8%B2&amp;action=edit&amp;redlink=1\" class=\"new\" title=\"วัดวังหว้า (ไม่มีหน้า)\">วัดวังหว้า<',\n",
       " '<li><a href=\"/w/index.php?title=%E0%B8%A7%E0%B8%B1%E0%B8%94%E0%B8%84%E0%B8%A5%E0%B8%AD%E0%B8%87%E0%B8%82%E0%B9%88%E0%B8%AD%E0%B8%A2&amp;action=edit&amp;redlink=1\" class=\"new\" title=\"วัดคลองข่อย (ไม่มีหน้า)\">วัดคลองข่อย<',\n",
       " '<li><a href=\"/w/index.php?title=%E0%B8%A7%E0%B8%B1%E0%B8%94%E0%B8%AB%E0%B8%99%E0%B8%AD%E0%B8%87%E0%B9%83%E0%B8%99%E0%B8%94%E0%B8%87&amp;action=edit&amp;redlink=1\" class=\"new\" title=\"วัดหนองในดง (ไม่มีหน้า)\">วัดหนองในดง<',\n",
       " '<li><a href=\"/w/index.php?title=%E0%B8%A7%E0%B8%B1%E0%B8%94%E0%B8%84%E0%B8%B8%E0%B8%93%E0%B8%9E%E0%B8%B8%E0%B9%88%E0%B8%A1&amp;action=edit&amp;redlink=1\" class=\"new\" title=\"วัดคุณพุ่ม (ไม่มีหน้า)\">วัดคุณพุ่ม<',\n",
       " '<li><a href=\"/w/index.php?title=%E0%B8%A7%E0%B8%B1%E0%B8%94%E0%B8%97%E0%B8%B8%E0%B9%88%E0%B8%87%E0%B8%A8%E0%B8%B2%E0%B8%A5%E0%B8%B2&amp;action=edit&amp;redlink=1\" class=\"new\" title=\"วัดทุ่งศาลา (ไม่มีหน้า)\">วัดทุ่งศาลา<',\n",
       " '<li><a href=\"/w/index.php?title=%E0%B8%A7%E0%B8%B1%E0%B8%94%E0%B8%AA%E0%B8%B5%E0%B9%88%E0%B9%81%E0%B8%A2%E0%B8%81%E0%B8%98%E0%B8%A3%E0%B8%A3%E0%B8%A1%E0%B9%80%E0%B8%A7%E0%B8%97&amp;action=edit&amp;redlink=1\" class=\"new\" title=\"วัดสี่แยกธรรมเวท (ไม่มีหน้า)\">วัดสี่แยกธรรมเวท<',\n",
       " '<li><a href=\"/w/index.php?title=%E0%B8%A7%E0%B8%B1%E0%B8%94%E0%B9%83%E0%B8%AB%E0%B8%A1%E0%B9%88%E0%B8%A1%E0%B8%87%E0%B8%84%E0%B8%A5%E0%B8%97%E0%B8%B8%E0%B9%88%E0%B8%87%E0%B8%81%E0%B8%A3%E0%B8%B0%E0%B8%97%E0%B8%B1%E0%B9%88%E0%B8%87&amp;action=edit&amp;redlink=1\" class=\"new\" title=\"วัดใหม่มงคลทุ่งกระทั่ง (ไม่มีหน้า)\">วัดใหม่มงคลทุ่งกระทั่ง<',\n",
       " '<li><a href=\"/w/index.php?title=%E0%B8%A7%E0%B8%B1%E0%B8%94%E0%B8%AB%E0%B9%89%E0%B8%A7%E0%B8%A2%E0%B9%81%E0%B8%81%E0%B9%89%E0%B8%A7&amp;action=edit&amp;redlink=1\" class=\"new\" title=\"วัดห้วยแก้ว (ไม่มีหน้า)\">วัดห้วยแก้ว<',\n",
       " '<li><a href=\"/w/index.php?title=%E0%B8%A7%E0%B8%B1%E0%B8%94%E0%B8%97%E0%B8%B8%E0%B9%88%E0%B8%87%E0%B9%82%E0%B8%84%E0%B8%A3%E0%B8%B2%E0%B8%8A%E0%B8%A7%E0%B8%99%E0%B8%B2%E0%B8%A3%E0%B8%B2%E0%B8%A1&amp;action=edit&amp;redlink=1\" class=\"new\" title=\"วัดทุ่งโคราชวนาราม (ไม่มีหน้า)\">วัดทุ่งโคราชวนาราม<',\n",
       " '<li><a href=\"/w/index.php?title=%E0%B8%A7%E0%B8%B1%E0%B8%94%E0%B8%9A%E0%B8%B6%E0%B8%87%E0%B8%97%E0%B8%B1%E0%B8%9A%E0%B8%88%E0%B8%B1%E0%B9%88%E0%B8%99&amp;action=edit&amp;redlink=1\" class=\"new\" title=\"วัดบึงทับจั่น (ไม่มีหน้า)\">วัดบึงทับจั่น<',\n",
       " '<li><a href=\"/w/index.php?title=%E0%B8%A7%E0%B8%B1%E0%B8%94%E0%B9%81%E0%B8%AB%E0%B8%A5%E0%B8%A1%E0%B8%A3%E0%B8%B1%E0%B8%87%E0%B8%A7%E0%B8%99%E0%B8%B2%E0%B8%A3%E0%B8%B2%E0%B8%A1&amp;action=edit&amp;redlink=1\" class=\"new\" title=\"วัดแหลมรังวนาราม (ไม่มีหน้า)\">วัดแหลมรังวนาราม<',\n",
       " '<li><a href=\"/w/index.php?title=%E0%B8%A7%E0%B8%B1%E0%B8%94%E0%B9%82%E0%B8%9B%E0%B9%88%E0%B8%87%E0%B8%A7%E0%B8%B1%E0%B8%A7%E0%B9%81%E0%B8%94%E0%B8%87&amp;action=edit&amp;redlink=1\" class=\"new\" title=\"วัดโป่งวัวแดง (ไม่มีหน้า)\">วัดโป่งวัวแดง<',\n",
       " '<li><a href=\"/w/index.php?title=%E0%B8%A7%E0%B8%B1%E0%B8%94%E0%B8%AA%E0%B8%B8%E0%B8%82%E0%B9%80%E0%B8%81%E0%B8%A9%E0%B8%A1&amp;action=edit&amp;redlink=1\" class=\"new\" title=\"วัดสุขเกษม (ไม่มีหน้า)\">วัดสุขเกษม<',\n",
       " '<li><a href=\"/w/index.php?title=%E0%B8%A7%E0%B8%B1%E0%B8%94%E0%B8%84%E0%B8%A5%E0%B8%AD%E0%B8%87%E0%B8%97%E0%B8%A3%E0%B8%B2%E0%B8%A2%E0%B9%83%E0%B8%95%E0%B9%89&amp;action=edit&amp;redlink=1\" class=\"new\" title=\"วัดคลองทรายใต้ (ไม่มีหน้า)\">วัดคลองทรายใต้<',\n",
       " '<li><a href=\"/w/index.php?title=%E0%B8%A7%E0%B8%B1%E0%B8%94%E0%B8%84%E0%B8%A5%E0%B8%AD%E0%B8%87%E0%B8%99%E0%B9%89%E0%B8%B3%E0%B8%A1%E0%B8%B1%E0%B8%99&amp;action=edit&amp;redlink=1\" class=\"new\" title=\"วัดคลองน้ำมัน (ไม่มีหน้า)\">วัดคลองน้ำมัน<',\n",
       " '<li><a href=\"/w/index.php?title=%E0%B8%A7%E0%B8%B1%E0%B8%94%E0%B8%84%E0%B8%A5%E0%B8%AD%E0%B8%87%E0%B8%97%E0%B8%A3%E0%B8%B2%E0%B8%A2&amp;action=edit&amp;redlink=1\" class=\"new\" title=\"วัดคลองทราย (ไม่มีหน้า)\">วัดคลองทราย<',\n",
       " '<li><a href=\"/wiki/%E0%B8%A7%E0%B8%B1%E0%B8%94%E0%B8%97%E0%B9%88%E0%B8%B2%E0%B9%80%E0%B8%A2%E0%B8%B5%E0%B9%88%E0%B8%A2%E0%B8%A1\" title=\"วัดท่าเยี่ยม\">วัดท่าเยี่ยม<',\n",
       " '<li><a href=\"/w/index.php?title=%E0%B8%A7%E0%B8%B1%E0%B8%94%E0%B8%A7%E0%B8%B1%E0%B8%87%E0%B8%AD%E0%B9%89%E0%B8%AD&amp;action=edit&amp;redlink=1\" class=\"new\" title=\"วัดวังอ้อ (ไม่มีหน้า)\">วัดวังอ้อ<',\n",
       " '<li><a href=\"/w/index.php?title=%E0%B8%A7%E0%B8%B1%E0%B8%94%E0%B8%95%E0%B8%A5%E0%B8%B8%E0%B8%81%E0%B8%AB%E0%B8%B4%E0%B8%99&amp;action=edit&amp;redlink=1\" class=\"new\" title=\"วัดตลุกหิน (ไม่มีหน้า)\">วัดตลุกหิน<',\n",
       " '<li><a href=\"/w/index.php?title=%E0%B8%A7%E0%B8%B1%E0%B8%94%E0%B9%80%E0%B8%81%E0%B8%B2%E0%B8%B0%E0%B9%81%E0%B8%81%E0%B9%89%E0%B8%A7&amp;action=edit&amp;redlink=1\" class=\"new\" title=\"วัดเกาะแก้ว (ไม่มีหน้า)\">วัดเกาะแก้ว<',\n",
       " '<li><a href=\"/wiki/%E0%B8%A7%E0%B8%B1%E0%B8%94%E0%B9%84%E0%B8%97%E0%B8%A3%E0%B8%A2%E0%B9%89%E0%B8%AD%E0%B8%A2\" class=\"mw-redirect mw-disambig\" title=\"วัดไทรย้อย\">วัดไทรย้อย<',\n",
       " '<li><a href=\"/w/index.php?title=%E0%B8%A7%E0%B8%B1%E0%B8%94%E0%B8%AA%E0%B8%B2%E0%B8%81%E0%B9%80%E0%B8%AB%E0%B8%A5%E0%B9%87%E0%B8%81&amp;action=edit&amp;redlink=1\" class=\"new\" title=\"วัดสากเหล็ก (ไม่มีหน้า)\">วัดสากเหล็ก<',\n",
       " '<li><a href=\"/w/index.php?title=%E0%B8%A7%E0%B8%B1%E0%B8%94%E0%B8%96%E0%B9%89%E0%B8%B3%E0%B8%84%E0%B8%B0%E0%B8%99%E0%B8%AD%E0%B8%87&amp;action=edit&amp;redlink=1\" class=\"new\" title=\"วัดถ้ำคะนอง (ไม่มีหน้า)\">วัดถ้ำคะนอง<',\n",
       " '<li><a href=\"/w/index.php?title=%E0%B8%A7%E0%B8%B1%E0%B8%94%E0%B8%84%E0%B8%A5%E0%B8%AD%E0%B8%87%E0%B8%84%E0%B8%B9%E0%B8%93&amp;action=edit&amp;redlink=1\" class=\"new\" title=\"วัดคลองคูณ (ไม่มีหน้า)\">วัดคลองคูณ<',\n",
       " '<li><a href=\"/w/index.php?title=%E0%B8%A7%E0%B8%B1%E0%B8%94%E0%B8%9B%E0%B8%A3%E0%B8%B0%E0%B8%8A%E0%B8%B8%E0%B8%A1%E0%B8%8A%E0%B8%99%E0%B8%AA%E0%B8%B4%E0%B8%95%E0%B8%B2%E0%B8%A3%E0%B8%B2%E0%B8%A1&amp;action=edit&amp;redlink=1\" class=\"new\" title=\"วัดประชุมชนสิตาราม (ไม่มีหน้า)\">วัดประชุมชนสิตาราม<',\n",
       " '<li><a href=\"/w/index.php?title=%E0%B8%A7%E0%B8%B1%E0%B8%94%E0%B8%A7%E0%B8%B1%E0%B8%87%E0%B9%84%E0%B8%84%E0%B8%A3%E0%B9%89&amp;action=edit&amp;redlink=1\" class=\"new\" title=\"วัดวังไคร้ (ไม่มีหน้า)\">วัดวังไคร้<',\n",
       " '<li><a href=\"/w/index.php?title=%E0%B8%A7%E0%B8%B1%E0%B8%94%E0%B8%AD%E0%B9%89%E0%B8%AD%E0%B8%A1%E0%B8%AB%E0%B8%A5%E0%B9%88%E0%B8%A1&amp;action=edit&amp;redlink=1\" class=\"new\" title=\"วัดอ้อมหล่ม (ไม่มีหน้า)\">วัดอ้อมหล่ม<',\n",
       " '<li><a href=\"/w/index.php?title=%E0%B8%A7%E0%B8%B1%E0%B8%94%E0%B8%87%E0%B8%B4%E0%B9%89%E0%B8%A7%E0%B8%A3%E0%B8%B2%E0%B8%A2&amp;action=edit&amp;redlink=1\" class=\"new\" title=\"วัดงิ้วราย (ไม่มีหน้า)\">วัดงิ้วราย<',\n",
       " '<li><a href=\"/w/index.php?title=%E0%B8%A7%E0%B8%B1%E0%B8%94%E0%B8%95%E0%B9%89%E0%B8%99%E0%B8%8A%E0%B8%B8%E0%B8%A1%E0%B9%81%E0%B8%AA%E0%B8%87&amp;action=edit&amp;redlink=1\" class=\"new\" title=\"วัดต้นชุมแสง (ไม่มีหน้า)\">วัดต้นชุมแสง<',\n",
       " '<li><a href=\"/wiki/%E0%B8%A7%E0%B8%B1%E0%B8%94%E0%B8%95%E0%B8%B0%E0%B8%9E%E0%B8%B2%E0%B8%99%E0%B8%AB%E0%B8%B4%E0%B8%99\" title=\"วัดตะพานหิน\">วัดตะพานหิน<',\n",
       " '<li><a href=\"/w/index.php?title=%E0%B8%A7%E0%B8%B1%E0%B8%94%E0%B8%9B%E0%B8%B4%E0%B9%88%E0%B8%99%E0%B8%AA%E0%B8%B8%E0%B8%97%E0%B8%98%E0%B8%B2%E0%B8%A7%E0%B8%B2%E0%B8%AA&amp;action=edit&amp;redlink=1\" class=\"new\" title=\"วัดปิ่นสุทธาวาส (ไม่มีหน้า)\">วัดปิ่นสุทธาวาส<',\n",
       " '<li><a href=\"/w/index.php?title=%E0%B8%A7%E0%B8%B1%E0%B8%94%E0%B8%9E%E0%B8%A4%E0%B8%81%E0%B8%A9%E0%B8%B0%E0%B8%A7%E0%B8%B1%E0%B8%99%E0%B9%82%E0%B8%8A%E0%B8%95%E0%B8%B4%E0%B8%81%E0%B8%B2%E0%B8%A3%E0%B8%B2%E0%B8%A1&amp;action=edit&amp;redlink=1\" class=\"new\" title=\"วัดพฤกษะวันโชติการาม (ไม่มีหน้า)\">วัดพฤกษะวันโชติการาม<',\n",
       " '<li><a href=\"/w/index.php?title=%E0%B8%A7%E0%B8%B1%E0%B8%94%E0%B8%AA%E0%B8%B1%E0%B8%99%E0%B8%95%E0%B8%B4%E0%B8%9E%E0%B8%A5%E0%B8%B2%E0%B8%A3%E0%B8%B2%E0%B8%A1&amp;action=edit&amp;redlink=1\" class=\"new\" title=\"วัดสันติพลาราม (ไม่มีหน้า)\">วัดสันติพลาราม<',\n",
       " '<li><a href=\"/w/index.php?title=%E0%B8%A7%E0%B8%B1%E0%B8%94%E0%B8%AB%E0%B8%B2%E0%B8%94%E0%B9%81%E0%B8%95%E0%B8%87%E0%B9%82%E0%B8%A1&amp;action=edit&amp;redlink=1\" class=\"new\" title=\"วัดหาดแตงโม (ไม่มีหน้า)\">วัดหาดแตงโม<',\n",
       " '<li><a href=\"/w/index.php?title=%E0%B8%A7%E0%B8%B1%E0%B8%94%E0%B8%94%E0%B8%87%E0%B8%95%E0%B8%B0%E0%B8%82%E0%B8%9A&amp;action=edit&amp;redlink=1\" class=\"new\" title=\"วัดดงตะขบ (ไม่มีหน้า)\">วัดดงตะขบ<',\n",
       " '<li><a href=\"/w/index.php?title=%E0%B8%A7%E0%B8%B1%E0%B8%94%E0%B8%AB%E0%B8%99%E0%B8%AD%E0%B8%87%E0%B8%84%E0%B8%A5%E0%B9%88%E0%B8%AD&amp;action=edit&amp;redlink=1\" class=\"new\" title=\"วัดหนองคล่อ (ไม่มีหน้า)\">วัดหนองคล่อ<',\n",
       " '<li><a href=\"/w/index.php?title=%E0%B8%A7%E0%B8%B1%E0%B8%94%E0%B9%83%E0%B8%AB%E0%B8%A1%E0%B9%88%E0%B8%AA%E0%B8%B3%E0%B8%A3%E0%B8%B2%E0%B8%8D&amp;action=edit&amp;redlink=1\" class=\"new\" title=\"วัดใหม่สำราญ (ไม่มีหน้า)\">วัดใหม่สำราญ<',\n",
       " '<li><a href=\"/w/index.php?title=%E0%B8%A7%E0%B8%B1%E0%B8%94%E0%B8%97%E0%B8%B1%E0%B8%9A%E0%B8%9B%E0%B8%A3%E0%B8%B9&amp;action=edit&amp;redlink=1\" class=\"new\" title=\"วัดทับปรู (ไม่มีหน้า)\">วัดทับปรู<',\n",
       " '<li><a href=\"/w/index.php?title=%E0%B8%A7%E0%B8%B1%E0%B8%94%E0%B8%97%E0%B8%B1%E0%B8%9A%E0%B8%AB%E0%B8%A1%E0%B8%B1%E0%B8%99&amp;action=edit&amp;redlink=1\" class=\"new\" title=\"วัดทับหมัน (ไม่มีหน้า)\">วัดทับหมัน<',\n",
       " '<li><a href=\"/w/index.php?title=%E0%B8%A7%E0%B8%B1%E0%B8%94%E0%B8%9A%E0%B8%B6%E0%B8%87%E0%B8%9B%E0%B8%A3%E0%B8%B0%E0%B8%94%E0%B8%B9%E0%B9%88&amp;action=edit&amp;redlink=1\" class=\"new\" title=\"วัดบึงประดู่ (ไม่มีหน้า)\">วัดบึงประดู่<',\n",
       " '<li><a href=\"/w/index.php?title=%E0%B8%A7%E0%B8%B1%E0%B8%94%E0%B9%80%E0%B8%88%E0%B8%A3%E0%B8%B4%E0%B8%8D%E0%B8%A8%E0%B8%A3%E0%B8%B1%E0%B8%97%E0%B8%98%E0%B8%B2&amp;action=edit&amp;redlink=1\" class=\"new\" title=\"วัดเจริญศรัทธา (ไม่มีหน้า)\">วัดเจริญศรัทธา<',\n",
       " '<li><a href=\"/w/index.php?title=%E0%B8%A7%E0%B8%B1%E0%B8%94%E0%B8%97%E0%B8%B8%E0%B9%88%E0%B8%87%E0%B9%82%E0%B8%9E%E0%B8%98%E0%B8%B4%E0%B9%8C&amp;action=edit&amp;redlink=1\" class=\"new\" title=\"วัดทุ่งโพธิ์ (ไม่มีหน้า)\">วัดทุ่งโพธิ์<',\n",
       " '<li><a href=\"/w/index.php?title=%E0%B8%A7%E0%B8%B1%E0%B8%94%E0%B8%AB%E0%B8%99%E0%B8%AD%E0%B8%87%E0%B9%80%E0%B8%84%E0%B8%A3%E0%B8%B7%E0%B8%AD%E0%B8%8B%E0%B8%B9%E0%B8%94&amp;action=edit&amp;redlink=1\" class=\"new\" title=\"วัดหนองเครือซูด (ไม่มีหน้า)\">วัดหนองเครือซูด<',\n",
       " '<li><a href=\"/w/index.php?title=%E0%B8%A7%E0%B8%B1%E0%B8%94%E0%B8%84%E0%B8%A5%E0%B8%AD%E0%B8%87%E0%B8%82%E0%B9%88%E0%B8%AD%E0%B8%A2&amp;action=edit&amp;redlink=1\" class=\"new\" title=\"วัดคลองข่อย (ไม่มีหน้า)\">วัดคลองข่อย<',\n",
       " '<li><a href=\"/w/index.php?title=%E0%B8%A7%E0%B8%B1%E0%B8%94%E0%B9%84%E0%B8%97%E0%B8%A3%E0%B9%82%E0%B8%A3%E0%B8%87%E0%B9%82%E0%B8%82%E0%B8%99&amp;action=edit&amp;redlink=1\" class=\"new\" title=\"วัดไทรโรงโขน (ไม่มีหน้า)\">วัดไทรโรงโขน<',\n",
       " '<li><a href=\"/w/index.php?title=%E0%B8%A7%E0%B8%B1%E0%B8%94%E0%B9%84%E0%B8%9C%E0%B9%88%E0%B8%AB%E0%B8%A5%E0%B8%A7%E0%B8%87&amp;action=edit&amp;redlink=1\" class=\"new\" title=\"วัดไผ่หลวง (ไม่มีหน้า)\">วัดไผ่หลวง<',\n",
       " '<li><a href=\"/w/index.php?title=%E0%B8%A7%E0%B8%B1%E0%B8%94%E0%B8%9E%E0%B8%99%E0%B8%A1%E0%B8%A2%E0%B8%AD_(%E0%B9%83%E0%B8%AB%E0%B8%A1%E0%B9%88%E0%B8%9E%E0%B8%99%E0%B8%A1%E0%B8%A2%E0%B8%AD)&amp;action=edit&amp;redlink=1\" class=\"new\" title=\"วัดพนมยอ (ใหม่พนมยอ) (ไม่มีหน้า)\">วัดพนมยอ (ใหม่พนมยอ)<',\n",
       " '<li><a href=\"/w/index.php?title=%E0%B8%A7%E0%B8%B1%E0%B8%94%E0%B8%A2%E0%B8%B2%E0%B8%87%E0%B8%82%E0%B8%B2%E0%B8%A7_(%E0%B8%A2%E0%B8%B2%E0%B8%87%E0%B8%82%E0%B8%B2%E0%B8%A7%E0%B8%AA%E0%B8%B8%E0%B8%97%E0%B8%98%E0%B8%B2%E0%B8%A7%E0%B8%B2%E0%B8%AA)&amp;action=edit&amp;redlink=1\" class=\"new\" title=\"วัดยางขาว (ยางขาวสุทธาวาส) (ไม่มีหน้า)\">วัดยางขาว (ยางขาวสุทธาวาส)<',\n",
       " '<li><a href=\"/w/index.php?title=%E0%B8%A7%E0%B8%B1%E0%B8%94%E0%B8%A7%E0%B8%B1%E0%B8%87%E0%B8%AA%E0%B8%B3%E0%B9%82%E0%B8%A3%E0%B8%87&amp;action=edit&amp;redlink=1\" class=\"new\" title=\"วัดวังสำโรง (ไม่มีหน้า)\">วัดวังสำโรง<',\n",
       " '<li><a href=\"/w/index.php?title=%E0%B8%A7%E0%B8%B1%E0%B8%94%E0%B8%AA%E0%B8%B2%E0%B8%A1%E0%B8%9A%E0%B8%B6%E0%B8%87%E0%B8%9A%E0%B8%B2%E0%B8%95%E0%B8%A3_(%E0%B8%AA%E0%B8%B2%E0%B8%A1%E0%B8%9A%E0%B8%B6%E0%B8%87%E0%B8%9A%E0%B8%B2%E0%B8%95%E0%B8%A3%E0%B9%80%E0%B8%88%E0%B8%A3%E0%B8%B4%E0%B8%8D)&amp;action=edit&amp;redlink=1\" class=\"new\" title=\"วัดสามบึงบาตร (สามบึงบาตรเจริญ) (ไม่มีหน้า)\">วัดสามบึงบาตร (สามบึงบาตรเจริญ)<',\n",
       " '<li><a href=\"/w/index.php?title=%E0%B8%A7%E0%B8%B1%E0%B8%94%E0%B8%AB%E0%B8%99%E0%B8%AD%E0%B8%87%E0%B8%AB%E0%B8%A7%E0%B8%B2%E0%B8%99%E0%B9%84%E0%B8%97%E0%B8%A2%E0%B8%A2%E0%B8%B2%E0%B8%A3%E0%B8%B2%E0%B8%A1&amp;action=edit&amp;redlink=1\" class=\"new\" title=\"วัดหนองหวานไทยยาราม (ไม่มีหน้า)\">วัดหนองหวานไทยยาราม<',\n",
       " '<li><a href=\"/w/index.php?title=%E0%B8%A7%E0%B8%B1%E0%B8%94%E0%B8%AB%E0%B8%99%E0%B8%AD%E0%B8%87%E0%B8%AB%E0%B8%A7%E0%B8%B2%E0%B8%A2%E0%B9%84%E0%B8%97%E0%B8%A2%E0%B8%A2%E0%B8%B2%E0%B8%A3%E0%B8%B2%E0%B8%A1&amp;action=edit&amp;redlink=1\" class=\"new\" title=\"วัดหนองหวายไทยยาราม (ไม่มีหน้า)\">วัดหนองหวายไทยยาราม<',\n",
       " '<li><a href=\"/w/index.php?title=%E0%B8%A7%E0%B8%B1%E0%B8%94%E0%B9%80%E0%B8%99%E0%B8%B4%E0%B8%99%E0%B8%97%E0%B8%A3%E0%B8%B2%E0%B8%A2&amp;action=edit&amp;redlink=1\" class=\"new\" title=\"วัดเนินทราย (ไม่มีหน้า)\">วัดเนินทราย<',\n",
       " '<li><a href=\"/w/index.php?title=%E0%B8%A7%E0%B8%B1%E0%B8%94%E0%B8%9E%E0%B8%A3%E0%B8%B0%E0%B8%9E%E0%B8%B8%E0%B8%97%E0%B8%98%E0%B8%9A%E0%B8%B2%E0%B8%97%E0%B9%80%E0%B8%82%E0%B8%B2%E0%B8%A3%E0%B8%A7%E0%B8%81&amp;action=edit&amp;redlink=1\" class=\"new\" title=\"วัดพระพุทธบาทเขารวก (ไม่มีหน้า)\">วัดพระพุทธบาทเขารวก<',\n",
       " '<li><a href=\"/w/index.php?title=%E0%B8%A7%E0%B8%B1%E0%B8%94%E0%B8%A3%E0%B8%B2%E0%B8%A9%E0%B8%8E%E0%B8%A3%E0%B9%8C%E0%B9%80%E0%B8%88%E0%B8%A3%E0%B8%B4%E0%B8%8D&amp;action=edit&amp;redlink=1\" class=\"new\" title=\"วัดราษฎร์เจริญ (ไม่มีหน้า)\">วัดราษฎร์เจริญ<',\n",
       " '<li><a href=\"/w/index.php?title=%E0%B8%A7%E0%B8%B1%E0%B8%94%E0%B8%AA%E0%B8%B1%E0%B8%95%E0%B8%95%E0%B8%A7%E0%B8%99%E0%B8%B2%E0%B8%A3%E0%B8%B2%E0%B8%A1&amp;action=edit&amp;redlink=1\" class=\"new\" title=\"วัดสัตตวนาราม (ไม่มีหน้า)\">วัดสัตตวนาราม<',\n",
       " '<li><a href=\"/w/index.php?title=%E0%B8%A7%E0%B8%B1%E0%B8%94%E0%B8%97%E0%B9%88%E0%B8%B2%E0%B8%9B%E0%B8%AD&amp;action=edit&amp;redlink=1\" class=\"new\" title=\"วัดท่าปอ (ไม่มีหน้า)\">วัดท่าปอ<',\n",
       " '<li><a href=\"/w/index.php?title=%E0%B8%A7%E0%B8%B1%E0%B8%94%E0%B8%97%E0%B9%88%E0%B8%B2%E0%B8%9B%E0%B8%AD%E0%B9%83%E0%B8%95%E0%B9%89&amp;action=edit&amp;redlink=1\" class=\"new\" title=\"วัดท่าปอใต้ (ไม่มีหน้า)\">วัดท่าปอใต้<',\n",
       " '<li><a href=\"/w/index.php?title=%E0%B8%A7%E0%B8%B1%E0%B8%94%E0%B8%A2%E0%B8%B2%E0%B8%87%E0%B8%84%E0%B8%A5%E0%B8%B5&amp;action=edit&amp;redlink=1\" class=\"new\" title=\"วัดยางคลี (ไม่มีหน้า)\">วัดยางคลี<',\n",
       " '<li><a href=\"/w/index.php?title=%E0%B8%A7%E0%B8%B1%E0%B8%94%E0%B8%A5%E0%B9%88%E0%B8%AD%E0%B8%87%E0%B8%95%E0%B8%B0%E0%B9%81%E0%B8%9A%E0%B8%81&amp;action=edit&amp;redlink=1\" class=\"new\" title=\"วัดล่องตะแบก (ไม่มีหน้า)\">วัดล่องตะแบก<',\n",
       " '<li><a href=\"/w/index.php?title=%E0%B8%A7%E0%B8%B1%E0%B8%94%E0%B8%A7%E0%B8%B1%E0%B8%87%E0%B8%AB%E0%B8%A7%E0%B9%89%E0%B8%B2&amp;action=edit&amp;redlink=1\" class=\"new\" title=\"วัดวังหว้า (ไม่มีหน้า)\">วัดวังหว้า<',\n",
       " '<li><a href=\"/w/index.php?title=%E0%B8%A7%E0%B8%B1%E0%B8%94%E0%B9%81%E0%B8%81%E0%B9%89%E0%B8%A7%E0%B8%A8%E0%B8%B4%E0%B8%A3%E0%B8%B4%E0%B8%98%E0%B8%A3%E0%B8%A3%E0%B8%A1%E0%B8%B2%E0%B8%A3%E0%B8%B2%E0%B8%A1&amp;action=edit&amp;redlink=1\" class=\"new\" title=\"วัดแก้วศิริธรรมาราม (ไม่มีหน้า)\">วัดแก้วศิริธรรมาราม<',\n",
       " '<li><a href=\"/w/index.php?title=%E0%B8%A7%E0%B8%B1%E0%B8%94%E0%B9%80%E0%B8%82%E0%B8%B2%E0%B8%9E%E0%B8%99%E0%B8%A1%E0%B8%81%E0%B8%B2%E0%B8%A7&amp;action=edit&amp;redlink=1\" class=\"new\" title=\"วัดเขาพนมกาว (ไม่มีหน้า)\">วัดเขาพนมกาว<',\n",
       " '<li><a href=\"/w/index.php?title=%E0%B8%A7%E0%B8%B1%E0%B8%94%E0%B9%80%E0%B8%97%E0%B8%A8%E0%B8%AA%E0%B8%A7%E0%B9%88%E0%B8%B2%E0%B8%87%E0%B9%80%E0%B8%88%E0%B8%A3%E0%B8%B4%E0%B8%8D&amp;action=edit&amp;redlink=1\" class=\"new\" title=\"วัดเทศสว่างเจริญ (ไม่มีหน้า)\">วัดเทศสว่างเจริญ<',\n",
       " '<li><a href=\"/w/index.php?title=%E0%B8%A7%E0%B8%B1%E0%B8%94%E0%B8%A8%E0%B8%A3%E0%B8%B5%E0%B8%A7%E0%B8%99%E0%B8%B2%E0%B8%A3%E0%B8%B2%E0%B8%A1&amp;action=edit&amp;redlink=1\" class=\"new\" title=\"วัดศรีวนาราม (ไม่มีหน้า)\">วัดศรีวนาราม<',\n",
       " '<li><a href=\"/w/index.php?title=%E0%B8%A7%E0%B8%B1%E0%B8%94%E0%B8%AB%E0%B8%99%E0%B8%AD%E0%B8%87%E0%B8%9E%E0%B8%87&amp;action=edit&amp;redlink=1\" class=\"new\" title=\"วัดหนองพง (ไม่มีหน้า)\">วัดหนองพง<',\n",
       " '<li><a href=\"/w/index.php?title=%E0%B8%A7%E0%B8%B1%E0%B8%94%E0%B8%AB%E0%B8%99%E0%B8%AD%E0%B8%87%E0%B8%9E%E0%B8%A2%E0%B8%AD%E0%B8%A1&amp;action=edit&amp;redlink=1\" class=\"new\" title=\"วัดหนองพยอม (ไม่มีหน้า)\">วัดหนองพยอม<',\n",
       " '<li><a href=\"/w/index.php?title=%E0%B8%A7%E0%B8%B1%E0%B8%94%E0%B8%AB%E0%B9%89%E0%B8%A7%E0%B8%A2%E0%B9%80%E0%B8%81%E0%B8%95%E0%B8%B8%E0%B9%80%E0%B8%81%E0%B8%A9%E0%B8%A1&amp;action=edit&amp;redlink=1\" class=\"new\" title=\"วัดห้วยเกตุเกษม (ไม่มีหน้า)\">วัดห้วยเกตุเกษม<',\n",
       " '<li><a href=\"/w/index.php?title=%E0%B8%A7%E0%B8%B1%E0%B8%94%E0%B8%84%E0%B8%A5%E0%B8%AD%E0%B8%87%E0%B8%97%E0%B8%AD%E0%B8%87%E0%B8%AB%E0%B8%A5%E0%B8%B2%E0%B8%87&amp;action=edit&amp;redlink=1\" class=\"new\" title=\"วัดคลองทองหลาง (ไม่มีหน้า)\">วัดคลองทองหลาง<',\n",
       " '<li><a href=\"/w/index.php?title=%E0%B8%A7%E0%B8%B1%E0%B8%94%E0%B9%80%E0%B8%97%E0%B8%A7%E0%B8%9B%E0%B8%A3%E0%B8%B0%E0%B8%AA%E0%B8%B2%E0%B8%97&amp;action=edit&amp;redlink=1\" class=\"new\" title=\"วัดเทวประสาท (ไม่มีหน้า)\">วัดเทวประสาท<',\n",
       " '<li><a href=\"/w/index.php?title=%E0%B8%A7%E0%B8%B1%E0%B8%94%E0%B8%98%E0%B8%87%E0%B9%84%E0%B8%97%E0%B8%A2%E0%B8%A2%E0%B8%B2%E0%B8%A3%E0%B8%B2%E0%B8%A1&amp;action=edit&amp;redlink=1\" class=\"new\" title=\"วัดธงไทยยาราม (ไม่มีหน้า)\">วัดธงไทยยาราม<',\n",
       " '<li><a href=\"/w/index.php?title=%E0%B8%A7%E0%B8%B1%E0%B8%94%E0%B8%9E%E0%B8%A3%E0%B8%AB%E0%B8%A1%E0%B8%9B%E0%B8%A3%E0%B8%B0%E0%B8%AA%E0%B8%B4%E0%B8%97%E0%B8%98%E0%B8%B4%E0%B9%8C&amp;action=edit&amp;redlink=1\" class=\"new\" title=\"วัดพรหมประสิทธิ์ (ไม่มีหน้า)\">วัดพรหมประสิทธิ์<',\n",
       " '<li><a href=\"/w/index.php?title=%E0%B8%A7%E0%B8%B1%E0%B8%94%E0%B9%82%E0%B8%9E%E0%B8%98%E0%B8%B4%E0%B9%8C%E0%B8%A5%E0%B8%AD%E0%B8%A2&amp;action=edit&amp;redlink=1\" class=\"new\" title=\"วัดโพธิ์ลอย (ไม่มีหน้า)\">วัดโพธิ์ลอย<',\n",
       " '<li><a href=\"/w/index.php?title=%E0%B8%A7%E0%B8%B1%E0%B8%94%E0%B8%AB%E0%B9%89%E0%B8%A7%E0%B8%87%E0%B8%AA%E0%B8%A5%E0%B8%B4%E0%B8%94&amp;action=edit&amp;redlink=1\" class=\"new\" title=\"วัดห้วงสลิด (ไม่มีหน้า)\">วัดห้วงสลิด<',\n",
       " '<li><a href=\"/w/index.php?title=%E0%B8%A7%E0%B8%B1%E0%B8%94%E0%B9%80%E0%B8%81%E0%B8%B2%E0%B8%B0%E0%B9%81%E0%B8%81%E0%B9%89%E0%B8%A7%E0%B8%AA%E0%B8%B2%E0%B8%A1%E0%B8%B1%E0%B8%84%E0%B8%84%E0%B8%B5&amp;action=edit&amp;redlink=1\" class=\"new\" title=\"วัดเกาะแก้วสามัคคี (ไม่มีหน้า)\">วัดเกาะแก้วสามัคคี<',\n",
       " '<li><a href=\"/w/index.php?title=%E0%B8%A7%E0%B8%B1%E0%B8%94%E0%B9%80%E0%B8%82%E0%B8%B2%E0%B9%82%E0%B8%A5%E0%B9%89%E0%B8%99&amp;action=edit&amp;redlink=1\" class=\"new\" title=\"วัดเขาโล้น (ไม่มีหน้า)\">วัดเขาโล้น<',\n",
       " '<li><a href=\"/w/index.php?title=%E0%B8%A7%E0%B8%B1%E0%B8%94%E0%B9%80%E0%B8%82%E0%B8%B2%E0%B8%AB%E0%B8%A1%E0%B9%89%E0%B8%AD%E0%B8%AA%E0%B8%B2%E0%B8%A1%E0%B8%B1%E0%B8%84%E0%B8%84%E0%B8%B5&amp;action=edit&amp;redlink=1\" class=\"new\" title=\"วัดเขาหม้อสามัคคี (ไม่มีหน้า)\">วัดเขาหม้อสามัคคี<',\n",
       " '<li><a href=\"/w/index.php?title=%E0%B8%A7%E0%B8%B1%E0%B8%94%E0%B8%84%E0%B8%B5%E0%B8%A3%E0%B8%B5%E0%B9%80%E0%B8%97%E0%B8%9E%E0%B8%99%E0%B8%B4%E0%B8%A1%E0%B8%B4%E0%B8%95&amp;action=edit&amp;redlink=1\" class=\"new\" title=\"วัดคีรีเทพนิมิต (ไม่มีหน้า)\">วัดคีรีเทพนิมิต<',\n",
       " '<li><a href=\"/w/index.php?title=%E0%B8%A7%E0%B8%B1%E0%B8%94%E0%B8%88%E0%B8%B4%E0%B8%95%E0%B9%80%E0%B8%AA%E0%B8%B7%E0%B8%AD%E0%B9%80%E0%B8%95%E0%B9%89%E0%B8%99&amp;action=edit&amp;redlink=1\" class=\"new\" title=\"วัดจิตเสือเต้น (ไม่มีหน้า)\">วัดจิตเสือเต้น<',\n",
       " '<li><a href=\"/w/index.php?title=%E0%B8%A7%E0%B8%B1%E0%B8%94%E0%B8%99%E0%B8%B4%E0%B8%84%E0%B8%A1%E0%B8%A3%E0%B8%B2%E0%B8%A9%E0%B8%8E%E0%B8%A3%E0%B9%8C%E0%B8%9A%E0%B8%B3%E0%B8%A3%E0%B8%B8%E0%B8%87&amp;action=edit&amp;redlink=1\" class=\"new\" title=\"วัดนิคมราษฎร์บำรุง (ไม่มีหน้า)\">วัดนิคมราษฎร์บำรุง<',\n",
       " '<li><a href=\"/w/index.php?title=%E0%B8%A7%E0%B8%B1%E0%B8%94%E0%B8%9B%E0%B8%A3%E0%B8%B0%E0%B8%8A%E0%B8%B2%E0%B8%9A%E0%B8%B3%E0%B8%A3%E0%B8%B8%E0%B8%87&amp;action=edit&amp;redlink=1\" class=\"new\" title=\"วัดประชาบำรุง (ไม่มีหน้า)\">วัดประชาบำรุง<',\n",
       " '<li><a href=\"/wiki/%E0%B8%A7%E0%B8%B1%E0%B8%94%E0%B8%A1%E0%B8%AB%E0%B8%B2%E0%B8%A7%E0%B8%99%E0%B8%B2%E0%B8%A3%E0%B8%B2%E0%B8%A1\" title=\"วัดมหาวนาราม\">วัดมหาวนาราม<',\n",
       " '<li><a href=\"/w/index.php?title=%E0%B8%A7%E0%B8%B1%E0%B8%94%E0%B8%A2%E0%B8%B2%E0%B8%87%E0%B8%AA%E0%B8%B2%E0%B8%A1%E0%B8%95%E0%B9%89%E0%B8%99&amp;action=edit&amp;redlink=1\" class=\"new\" title=\"วัดยางสามต้น (ไม่มีหน้า)\">วัดยางสามต้น<',\n",
       " '<li><a href=\"/w/index.php?title=%E0%B8%A7%E0%B8%B1%E0%B8%94%E0%B8%AA%E0%B8%B1%E0%B8%95%E0%B8%95%E0%B8%A8%E0%B8%B4%E0%B8%A5%E0%B8%B2%E0%B8%AD%E0%B8%B2%E0%B8%AA%E0%B8%99%E0%B9%8C&amp;action=edit&amp;redlink=1\" class=\"new\" title=\"วัดสัตตศิลาอาสน์ (ไม่มีหน้า)\">วัดสัตตศิลาอาสน์<',\n",
       " '<li><a href=\"/w/index.php?title=%E0%B8%A7%E0%B8%B1%E0%B8%94%E0%B8%AB%E0%B8%99%E0%B8%AD%E0%B8%87%E0%B8%82%E0%B8%99%E0%B8%B2%E0%B8%81&amp;action=edit&amp;redlink=1\" class=\"new\" title=\"วัดหนองขนาก (ไม่มีหน้า)\">วัดหนองขนาก<',\n",
       " '<li><a href=\"/w/index.php?title=%E0%B8%A7%E0%B8%B1%E0%B8%94%E0%B9%80%E0%B8%81%E0%B8%B2%E0%B8%B0%E0%B9%81%E0%B8%81%E0%B9%89%E0%B8%A7%E0%B8%A5%E0%B8%B3%E0%B8%9B%E0%B8%A3%E0%B8%B0%E0%B8%94%E0%B8%B2&amp;action=edit&amp;redlink=1\" class=\"new\" title=\"วัดเกาะแก้วลำประดา (ไม่มีหน้า)\">วัดเกาะแก้วลำประดา<',\n",
       " '<li><a href=\"/w/index.php?title=%E0%B8%A7%E0%B8%B1%E0%B8%94%E0%B9%80%E0%B8%82%E0%B8%B2%E0%B8%97%E0%B8%A3%E0%B8%B2%E0%B8%A2&amp;action=edit&amp;redlink=1\" class=\"new\" title=\"วัดเขาทราย (ไม่มีหน้า)\">วัดเขาทราย<',\n",
       " '<li><a href=\"/wiki/%E0%B8%A7%E0%B8%B1%E0%B8%94%E0%B8%A7%E0%B8%B1%E0%B8%87%E0%B9%81%E0%B8%94%E0%B8%87\" title=\"วัดวังแดง\">วัดวังแดง<',\n",
       " '<li><a href=\"/w/index.php?title=%E0%B8%A7%E0%B8%B1%E0%B8%94%E0%B8%A7%E0%B8%B1%E0%B8%87%E0%B9%81%E0%B8%94%E0%B8%87%E0%B9%80%E0%B8%AB%E0%B8%99%E0%B8%B7%E0%B8%AD&amp;action=edit&amp;redlink=1\" class=\"new\" title=\"วัดวังแดงเหนือ (ไม่มีหน้า)\">วัดวังแดงเหนือ<',\n",
       " '<li><a href=\"/w/index.php?title=%E0%B8%A7%E0%B8%B1%E0%B8%94%E0%B8%A7%E0%B8%B1%E0%B8%87%E0%B8%AB%E0%B8%B4%E0%B8%99%E0%B9%80%E0%B8%9E%E0%B8%A5%E0%B8%B4%E0%B8%87&amp;action=edit&amp;redlink=1\" class=\"new\" title=\"วัดวังหินเพลิง (ไม่มีหน้า)\">วัดวังหินเพลิง<',\n",
       " '<li><a href=\"/w/index.php?title=%E0%B8%A7%E0%B8%B1%E0%B8%94%E0%B8%A8%E0%B8%A3%E0%B8%B5%E0%B8%9E%E0%B8%A3%E0%B8%AB%E0%B8%A1%E0%B8%88%E0%B8%A3%E0%B8%B4%E0%B8%A2%E0%B8%B2%E0%B8%A7%E0%B8%B2%E0%B8%AA&amp;action=edit&amp;redlink=1\" class=\"new\" title=\"วัดศรีพรหมจริยาวาส (ไม่มีหน้า)\">วัดศรีพรหมจริยาวาส<',\n",
       " '<li><a href=\"/w/index.php?title=%E0%B8%A7%E0%B8%B1%E0%B8%94%E0%B8%AB%E0%B8%99%E0%B8%AD%E0%B8%87%E0%B8%88%E0%B8%B0%E0%B8%9B%E0%B8%A3%E0%B8%B2%E0%B8%9A&amp;action=edit&amp;redlink=1\" class=\"new\" title=\"วัดหนองจะปราบ (ไม่มีหน้า)\">วัดหนองจะปราบ<',\n",
       " '<li><a href=\"/w/index.php?title=%E0%B8%A7%E0%B8%B1%E0%B8%94%E0%B8%AB%E0%B8%99%E0%B8%AD%E0%B8%87%E0%B8%9E%E0%B8%87%E0%B8%A9%E0%B9%8C&amp;action=edit&amp;redlink=1\" class=\"new\" title=\"วัดหนองพงษ์ (ไม่มีหน้า)\">วัดหนองพงษ์<',\n",
       " '<li><a href=\"/w/index.php?title=%E0%B8%A7%E0%B8%B1%E0%B8%94%E0%B8%84%E0%B8%B2%E0%B8%A1%E0%B8%A7%E0%B8%B2%E0%B8%AA%E0%B8%B5&amp;action=edit&amp;redlink=1\" class=\"new\" title=\"วัดคามวาสี (ไม่มีหน้า)\">วัดคามวาสี<',\n",
       " '<li><a href=\"/w/index.php?title=%E0%B8%A7%E0%B8%B1%E0%B8%94%E0%B8%88%E0%B8%B1%E0%B8%99%E0%B8%97%E0%B8%A3%E0%B8%B1%E0%B8%87%E0%B8%AA%E0%B8%B5&amp;action=edit&amp;redlink=1\" class=\"new\" title=\"วัดจันทรังสี (ไม่มีหน้า)\">วัดจันทรังสี<',\n",
       " '<li><a href=\"/w/index.php?title=%E0%B8%A7%E0%B8%B1%E0%B8%94%E0%B8%97%E0%B8%A3%E0%B8%87%E0%B8%98%E0%B8%A3%E0%B8%A3%E0%B8%A1&amp;action=edit&amp;redlink=1\" class=\"new\" title=\"วัดทรงธรรม (ไม่มีหน้า)\">วัดทรงธรรม<',\n",
       " '<li><a href=\"/w/index.php?title=%E0%B8%A7%E0%B8%B1%E0%B8%94%E0%B8%97%E0%B8%B1%E0%B8%9A%E0%B8%84%E0%B8%A5%E0%B9%89%E0%B8%AD&amp;action=edit&amp;redlink=1\" class=\"new\" title=\"วัดทับคล้อ (ไม่มีหน้า)\">วัดทับคล้อ<',\n",
       " '<li><a href=\"/w/index.php?title=%E0%B8%A7%E0%B8%B1%E0%B8%94%E0%B8%9B%E0%B9%88%E0%B8%B2%E0%B9%80%E0%B8%A3%E0%B9%84%E0%B8%A3%E0%B8%A2%E0%B9%8C&amp;action=edit&amp;redlink=1\" class=\"new\" title=\"วัดป่าเรไรย์ (ไม่มีหน้า)\">วัดป่าเรไรย์<',\n",
       " '<li><a href=\"/w/index.php?title=%E0%B8%A7%E0%B8%B1%E0%B8%94%E0%B8%A8%E0%B8%A3%E0%B8%B5%E0%B8%A3%E0%B8%B1%E0%B8%95%E0%B8%99%E0%B8%A7%E0%B8%A3%E0%B8%B2%E0%B8%A3%E0%B8%B2%E0%B8%A1&amp;action=edit&amp;redlink=1\" class=\"new\" title=\"วัดศรีรัตนวราราม (ไม่มีหน้า)\">วัดศรีรัตนวราราม<',\n",
       " '<li><a href=\"/w/index.php?title=%E0%B8%A7%E0%B8%B1%E0%B8%94%E0%B8%AB%E0%B8%99%E0%B8%AD%E0%B8%87%E0%B8%8A%E0%B8%B1%E0%B8%A2%E0%B8%A8%E0%B8%A3%E0%B8%B5&amp;action=edit&amp;redlink=1\" class=\"new\" title=\"วัดหนองชัยศรี (ไม่มีหน้า)\">วัดหนองชัยศรี<',\n",
       " '<li><a href=\"/w/index.php?title=%E0%B8%A7%E0%B8%B1%E0%B8%94%E0%B9%80%E0%B8%82%E0%B8%B2%E0%B8%94%E0%B8%B4%E0%B8%99&amp;action=edit&amp;redlink=1\" class=\"new\" title=\"วัดเขาดิน (ไม่มีหน้า)\">วัดเขาดิน<',\n",
       " '<li><a href=\"/w/index.php?title=%E0%B8%A7%E0%B8%B1%E0%B8%94%E0%B8%84%E0%B8%A5%E0%B8%AD%E0%B8%87%E0%B8%AB%E0%B9%89%E0%B8%A7%E0%B8%A2%E0%B8%AB%E0%B8%A5%E0%B8%B1%E0%B8%A7&amp;action=edit&amp;redlink=1\" class=\"new\" title=\"วัดคลองห้วยหลัว (ไม่มีหน้า)\">วัดคลองห้วยหลัว<',\n",
       " '<li><a href=\"/w/index.php?title=%E0%B8%A7%E0%B8%B1%E0%B8%94%E0%B8%84%E0%B8%B2%E0%B8%A2%E0%B8%99%E0%B9%89%E0%B8%AD%E0%B8%A2&amp;action=edit&amp;redlink=1\" class=\"new\" title=\"วัดคายน้อย (ไม่มีหน้า)\">วัดคายน้อย<',\n",
       " '<li><a href=\"/w/index.php?title=%E0%B8%A7%E0%B8%B1%E0%B8%94%E0%B9%82%E0%B8%84%E0%B8%81%E0%B8%81%E0%B8%A3%E0%B8%B0%E0%B8%90%E0%B8%B4%E0%B8%99&amp;action=edit&amp;redlink=1\" class=\"new\" title=\"วัดโคกกระฐิน (ไม่มีหน้า)\">วัดโคกกระฐิน<',\n",
       " '<li><a href=\"/w/index.php?title=%E0%B8%A7%E0%B8%B1%E0%B8%94%E0%B9%82%E0%B8%84%E0%B8%81%E0%B8%AA%E0%B8%B0%E0%B8%AD%E0%B8%B2%E0%B8%94&amp;action=edit&amp;redlink=1\" class=\"new\" title=\"วัดโคกสะอาด (ไม่มีหน้า)\">วัดโคกสะอาด<',\n",
       " '<li><a href=\"/w/index.php?title=%E0%B8%A7%E0%B8%B1%E0%B8%94%E0%B8%97%E0%B9%89%E0%B8%B2%E0%B8%A2%E0%B8%97%E0%B8%B8%E0%B9%88%E0%B8%87&amp;action=edit&amp;redlink=1\" class=\"new\" title=\"วัดท้ายทุ่ง (ไม่มีหน้า)\">วัดท้ายทุ่ง<',\n",
       " '<li><a href=\"/w/index.php?title=%E0%B8%A7%E0%B8%B1%E0%B8%94%E0%B8%99%E0%B8%A7%E0%B8%A5%E0%B8%A8%E0%B8%A3%E0%B8%B5%E0%B8%AA%E0%B8%B4%E0%B8%97%E0%B8%98%E0%B8%B2%E0%B8%A3%E0%B8%B2%E0%B8%A1&amp;action=edit&amp;redlink=1\" class=\"new\" title=\"วัดนวลศรีสิทธาราม (ไม่มีหน้า)\">วัดนวลศรีสิทธาราม<',\n",
       " '<li><a href=\"/w/index.php?title=%E0%B8%A7%E0%B8%B1%E0%B8%94%E0%B8%99%E0%B9%89%E0%B8%B3%E0%B9%80%E0%B8%84%E0%B8%B7%E0%B8%AD%E0%B8%87&amp;action=edit&amp;redlink=1\" class=\"new\" title=\"วัดน้ำเคือง (ไม่มีหน้า)\">วัดน้ำเคือง<',\n",
       " '<li><a href=\"/w/index.php?title=%E0%B8%A7%E0%B8%B1%E0%B8%94%E0%B8%A8%E0%B8%A3%E0%B8%B5%E0%B8%84%E0%B8%B5%E0%B8%A3%E0%B8%B5%E0%B8%9E%E0%B8%A3%E0%B8%95%E0%B8%A7%E0%B8%B4%E0%B8%97%E0%B8%A2%E0%B8%B2%E0%B8%A3%E0%B8%B2%E0%B8%A1&amp;action=edit&amp;redlink=1\" class=\"new\" title=\"วัดศรีคีรีพรตวิทยาราม (ไม่มีหน้า)\">วัดศรีคีรีพรตวิทยาราม<',\n",
       " '<li><a href=\"/w/index.php?title=%E0%B8%A7%E0%B8%B1%E0%B8%94%E0%B8%A8%E0%B8%A3%E0%B8%B5%E0%B8%8A%E0%B8%B1%E0%B8%99%E0%B8%88%E0%B8%99%E0%B8%B2%E0%B8%A3%E0%B8%B2%E0%B8%A1&amp;action=edit&amp;redlink=1\" class=\"new\" title=\"วัดศรีชันจนาราม (ไม่มีหน้า)\">วัดศรีชันจนาราม<',\n",
       " '<li><a href=\"/w/index.php?title=%E0%B8%A7%E0%B8%B1%E0%B8%94%E0%B8%A8%E0%B8%A3%E0%B8%B5%E0%B9%80%E0%B8%9A%E0%B8%8D%E0%B8%88%E0%B8%84%E0%B8%B2%E0%B8%A5%E0%B8%B1%E0%B8%A2&amp;action=edit&amp;redlink=1\" class=\"new\" title=\"วัดศรีเบญจคาลัย (ไม่มีหน้า)\">วัดศรีเบญจคาลัย<',\n",
       " '<li><a href=\"/w/index.php?title=%E0%B8%A7%E0%B8%B1%E0%B8%94%E0%B8%A8%E0%B8%A3%E0%B8%B5%E0%B8%9E%E0%B8%A3%E0%B8%AB%E0%B8%A1%E0%B8%9B%E0%B8%A3%E0%B8%B0%E0%B8%AA%E0%B8%B4%E0%B8%97%E0%B8%98%E0%B8%B4%E0%B9%8C&amp;action=edit&amp;redlink=1\" class=\"new\" title=\"วัดศรีพรหมประสิทธิ์ (ไม่มีหน้า)\">วัดศรีพรหมประสิทธิ์<',\n",
       " '<li><a href=\"/w/index.php?title=%E0%B8%A7%E0%B8%B1%E0%B8%94%E0%B8%A8%E0%B8%A3%E0%B8%B5%E0%B8%AA%E0%B8%B8%E0%B8%97%E0%B8%98%E0%B8%B2%E0%B8%A7%E0%B8%B2%E0%B8%AA&amp;action=edit&amp;redlink=1\" class=\"new\" title=\"วัดศรีสุทธาวาส (ไม่มีหน้า)\">วัดศรีสุทธาวาส<',\n",
       " '<li><a href=\"/w/index.php?title=%E0%B8%A7%E0%B8%B1%E0%B8%94%E0%B8%AB%E0%B8%99%E0%B8%AD%E0%B8%87%E0%B8%84%E0%B8%AD%E0%B8%A1&amp;action=edit&amp;redlink=1\" class=\"new\" title=\"วัดหนองคอม (ไม่มีหน้า)\">วัดหนองคอม<',\n",
       " '<li><a href=\"/w/index.php?title=%E0%B8%A7%E0%B8%B1%E0%B8%94%E0%B8%94%E0%B8%87%E0%B9%80%E0%B8%A2%E0%B9%87%E0%B8%99&amp;action=edit&amp;redlink=1\" class=\"new\" title=\"วัดดงเย็น (ไม่มีหน้า)\">วัดดงเย็น<',\n",
       " '<li><a href=\"/wiki/%E0%B8%A7%E0%B8%B1%E0%B8%94%E0%B8%97%E0%B9%88%E0%B8%B2%E0%B8%8A%E0%B9%89%E0%B8%B2%E0%B8%87_(%E0%B8%88%E0%B8%B1%E0%B8%87%E0%B8%AB%E0%B8%A7%E0%B8%B1%E0%B8%94%E0%B8%9E%E0%B8%B4%E0%B8%88%E0%B8%B4%E0%B8%95%E0%B8%A3)\" title=\"วัดท่าช้าง (จังหวัดพิจิตร)\">วัดท่าช้าง<',\n",
       " '<li><a href=\"/wiki/%E0%B8%A7%E0%B8%B1%E0%B8%94%E0%B9%82%E0%B8%9E%E0%B8%98%E0%B8%B4%E0%B9%8C%E0%B8%97%E0%B8%AD%E0%B8%87\" class=\"mw-disambig\" title=\"วัดโพธิ์ทอง\">วัดโพธิ์ทอง<',\n",
       " '<li><a href=\"/w/index.php?title=%E0%B8%A7%E0%B8%B1%E0%B8%94%E0%B8%A7%E0%B8%B1%E0%B8%87%E0%B8%81%E0%B8%A3%E0%B9%88%E0%B8%B2%E0%B8%87&amp;action=edit&amp;redlink=1\" class=\"new\" title=\"วัดวังกร่าง (ไม่มีหน้า)\">วัดวังกร่าง<',\n",
       " '<li><a href=\"/w/index.php?title=%E0%B8%A7%E0%B8%B1%E0%B8%94%E0%B8%A7%E0%B8%B1%E0%B8%87%E0%B8%97%E0%B8%AD%E0%B8%87&amp;action=edit&amp;redlink=1\" class=\"new\" title=\"วัดวังทอง (ไม่มีหน้า)\">วัดวังทอง<',\n",
       " '<li><a href=\"/wiki/%E0%B8%A7%E0%B8%B1%E0%B8%94%E0%B8%97%E0%B9%88%E0%B8%B2%E0%B8%AB%E0%B8%AD%E0%B8%A2\" title=\"วัดท่าหอย\">วัดท่าหอย<',\n",
       " '<li><a href=\"/w/index.php?title=%E0%B8%A7%E0%B8%B1%E0%B8%94%E0%B8%9A%E0%B8%B2%E0%B8%87%E0%B9%84%E0%B8%9C%E0%B9%88&amp;action=edit&amp;redlink=1\" class=\"new\" title=\"วัดบางไผ่ (ไม่มีหน้า)\">วัดบางไผ่<',\n",
       " '<li><a href=\"/w/index.php?title=%E0%B8%A7%E0%B8%B1%E0%B8%94%E0%B8%9E%E0%B8%A4%E0%B8%81%E0%B8%A9%E0%B8%B0%E0%B8%A7%E0%B8%B1%E0%B8%99&amp;action=edit&amp;redlink=1\" class=\"new\" title=\"วัดพฤกษะวัน (ไม่มีหน้า)\">วัดพฤกษะวัน<',\n",
       " '<li><a href=\"/w/index.php?title=%E0%B8%A7%E0%B8%B1%E0%B8%94%E0%B9%82%E0%B8%9E%E0%B8%98%E0%B8%B4%E0%B9%8C%E0%B9%81%E0%B8%94%E0%B8%99&amp;action=edit&amp;redlink=1\" class=\"new\" title=\"วัดโพธิ์แดน (ไม่มีหน้า)\">วัดโพธิ์แดน<',\n",
       " '<li><a href=\"/w/index.php?title=%E0%B8%A7%E0%B8%B1%E0%B8%94%E0%B8%A7%E0%B8%B1%E0%B8%87%E0%B8%99%E0%B9%89%E0%B8%B3%E0%B9%80%E0%B8%95%E0%B9%89%E0%B8%B2&amp;action=edit&amp;redlink=1\" class=\"new\" title=\"วัดวังน้ำเต้า (ไม่มีหน้า)\">วัดวังน้ำเต้า<',\n",
       " '<li><a href=\"/w/index.php?title=%E0%B8%A7%E0%B8%B1%E0%B8%94%E0%B9%80%E0%B8%A7%E0%B8%AC%E0%B8%B8%E0%B8%A7%E0%B8%B2%E0%B8%A8%E0%B8%A3%E0%B8%B5%E0%B8%9B%E0%B8%A3%E0%B8%B0%E0%B8%AA%E0%B8%B4%E0%B8%97%E0%B8%98%E0%B8%B4%E0%B9%8C&amp;action=edit&amp;redlink=1\" class=\"new\" title=\"วัดเวฬุวาศรีประสิทธิ์ (ไม่มีหน้า)\">วัดเวฬุวาศรีประสิทธิ์<',\n",
       " '<li><a href=\"/w/index.php?title=%E0%B8%A7%E0%B8%B1%E0%B8%94%E0%B8%AA%E0%B8%96%E0%B8%B2%E0%B8%99%E0%B8%B5%E0%B8%94%E0%B8%87%E0%B8%95%E0%B8%B0%E0%B8%82%E0%B8%9A&amp;action=edit&amp;redlink=1\" class=\"new\" title=\"วัดสถานีดงตะขบ (ไม่มีหน้า)\">วัดสถานีดงตะขบ<',\n",
       " '<li><a href=\"/w/index.php?title=%E0%B8%A7%E0%B8%B1%E0%B8%94%E0%B8%AA%E0%B8%B2%E0%B8%A1%E0%B9%81%E0%B8%A2%E0%B8%81&amp;action=edit&amp;redlink=1\" class=\"new\" title=\"วัดสามแยก (ไม่มีหน้า)\">วัดสามแยก<',\n",
       " '<li><a href=\"/w/index.php?title=%E0%B8%A7%E0%B8%B1%E0%B8%94%E0%B8%AB%E0%B9%89%E0%B8%A7%E0%B8%A2%E0%B8%84%E0%B8%95&amp;action=edit&amp;redlink=1\" class=\"new\" title=\"วัดห้วยคต (ไม่มีหน้า)\">วัดห้วยคต<',\n",
       " '<li><a href=\"/wiki/%E0%B8%A7%E0%B8%B1%E0%B8%94%E0%B8%8A%E0%B8%B1%E0%B8%A2%E0%B8%A1%E0%B8%87%E0%B8%84%E0%B8%A5_(%E0%B8%88%E0%B8%B1%E0%B8%87%E0%B8%AB%E0%B8%A7%E0%B8%B1%E0%B8%94%E0%B8%9E%E0%B8%B4%E0%B8%88%E0%B8%B4%E0%B8%95%E0%B8%A3)\" title=\"วัดชัยมงคล (จังหวัดพิจิตร)\">วัดชัยมงคล<',\n",
       " '<li><a href=\"/wiki/%E0%B8%A7%E0%B8%B1%E0%B8%94%E0%B8%9A%E0%B8%B2%E0%B8%87%E0%B8%A1%E0%B8%B9%E0%B8%A5%E0%B8%99%E0%B8%B2%E0%B8%81\" title=\"วัดบางมูลนาก\">วัดบางมูลนาก<',\n",
       " '<li><a href=\"/w/index.php?title=%E0%B8%A7%E0%B8%B1%E0%B8%94%E0%B8%9A%E0%B8%B2%E0%B8%87%E0%B8%A5%E0%B8%B3%E0%B8%9E%E0%B8%B9&amp;action=edit&amp;redlink=1\" class=\"new\" title=\"วัดบางลำพู (ไม่มีหน้า)\">วัดบางลำพู<',\n",
       " '<li><a href=\"/w/index.php?title=%E0%B8%A7%E0%B8%B1%E0%B8%94%E0%B8%9A%E0%B8%B2%E0%B8%87%E0%B8%A5%E0%B8%B3%E0%B8%A0%E0%B8%B9&amp;action=edit&amp;redlink=1\" class=\"new\" title=\"วัดบางลำภู (ไม่มีหน้า)\">วัดบางลำภู<',\n",
       " '<li><a href=\"/w/index.php?title=%E0%B8%A7%E0%B8%B1%E0%B8%94%E0%B8%AB%E0%B8%99%E0%B8%AD%E0%B8%87%E0%B9%80%E0%B8%95%E0%B9%88%E0%B8%B2&amp;action=edit&amp;redlink=1\" class=\"new\" title=\"วัดหนองเต่า (ไม่มีหน้า)\">วัดหนองเต่า<',\n",
       " '<li><a href=\"/w/index.php?title=%E0%B8%A7%E0%B8%B1%E0%B8%94%E0%B9%80%E0%B8%9E%E0%B8%8A%E0%B8%A3%E0%B8%A5%E0%B8%B9%E0%B8%81%E0%B8%81%E0%B8%B2&amp;action=edit&amp;redlink=1\" class=\"new\" title=\"วัดเพชรลูกกา (ไม่มีหน้า)\">วัดเพชรลูกกา<',\n",
       " '<li><a href=\"/w/index.php?title=%E0%B8%A7%E0%B8%B1%E0%B8%94%E0%B8%A5%E0%B8%B3%E0%B8%9B%E0%B8%A3%E0%B8%B0%E0%B8%94%E0%B8%B2%E0%B8%81%E0%B8%A5%E0%B8%B2%E0%B8%87&amp;action=edit&amp;redlink=1\" class=\"new\" title=\"วัดลำประดากลาง (ไม่มีหน้า)\">วัดลำประดากลาง<',\n",
       " '<li><a href=\"/w/index.php?title=%E0%B8%A7%E0%B8%B1%E0%B8%94%E0%B8%A5%E0%B8%B3%E0%B8%9B%E0%B8%A3%E0%B8%B0%E0%B8%94%E0%B8%B2%E0%B9%83%E0%B8%95%E0%B9%89&amp;action=edit&amp;redlink=1\" class=\"new\" title=\"วัดลำประดาใต้ (ไม่มีหน้า)\">วัดลำประดาใต้<',\n",
       " '<li><a href=\"/w/index.php?title=%E0%B8%A7%E0%B8%B1%E0%B8%94%E0%B8%AB%E0%B8%99%E0%B8%AD%E0%B8%87%E0%B9%82%E0%B8%81&amp;action=edit&amp;redlink=1\" class=\"new\" title=\"วัดหนองโก (ไม่มีหน้า)\">วัดหนองโก<',\n",
       " '<li><a href=\"/w/index.php?title=%E0%B8%A7%E0%B8%B1%E0%B8%94%E0%B8%AB%E0%B8%99%E0%B8%AD%E0%B8%87%E0%B8%AA%E0%B8%B0%E0%B9%80%E0%B8%94%E0%B8%B2&amp;action=edit&amp;redlink=1\" class=\"new\" title=\"วัดหนองสะเดา (ไม่มีหน้า)\">วัดหนองสะเดา<',\n",
       " '<li><a href=\"/w/index.php?title=%E0%B8%A7%E0%B8%B1%E0%B8%94%E0%B8%AB%E0%B9%89%E0%B8%A7%E0%B8%A2%E0%B8%AB%E0%B8%A5%E0%B8%B1%E0%B8%A7&amp;action=edit&amp;redlink=1\" class=\"new\" title=\"วัดห้วยหลัว (ไม่มีหน้า)\">วัดห้วยหลัว<',\n",
       " '<li><a href=\"/w/index.php?title=%E0%B8%A7%E0%B8%B1%E0%B8%94%E0%B8%A7%E0%B8%B1%E0%B8%87%E0%B8%81%E0%B8%A3%E0%B8%94&amp;action=edit&amp;redlink=1\" class=\"new\" title=\"วัดวังกรด (ไม่มีหน้า)\">วัดวังกรด<',\n",
       " '<li><a href=\"/w/index.php?title=%E0%B8%A7%E0%B8%B1%E0%B8%94%E0%B8%AB%E0%B9%89%E0%B8%A7%E0%B8%A2%E0%B9%80%E0%B8%A3%E0%B8%B5%E0%B8%A2%E0%B8%87%E0%B8%81%E0%B8%A5%E0%B8%B2%E0%B8%87&amp;action=edit&amp;redlink=1\" class=\"new\" title=\"วัดห้วยเรียงกลาง (ไม่มีหน้า)\">วัดห้วยเรียงกลาง<',\n",
       " '<li><a href=\"/w/index.php?title=%E0%B8%A7%E0%B8%B1%E0%B8%94%E0%B8%AB%E0%B9%89%E0%B8%A7%E0%B8%A2%E0%B9%80%E0%B8%A3%E0%B8%B5%E0%B8%A2%E0%B8%87%E0%B9%83%E0%B8%95%E0%B9%89&amp;action=edit&amp;redlink=1\" class=\"new\" title=\"วัดห้วยเรียงใต้ (ไม่มีหน้า)\">วัดห้วยเรียงใต้<',\n",
       " '<li><a href=\"/w/index.php?title=%E0%B8%A7%E0%B8%B1%E0%B8%94%E0%B8%84%E0%B8%A5%E0%B8%AD%E0%B8%87%E0%B8%97%E0%B8%A3%E0%B8%B2%E0%B8%A2&amp;action=edit&amp;redlink=1\" class=\"new\" title=\"วัดคลองทราย (ไม่มีหน้า)\">วัดคลองทราย<',\n",
       " '<li><a href=\"/w/index.php?title=%E0%B8%A7%E0%B8%B1%E0%B8%94%E0%B8%94%E0%B8%87%E0%B9%80%E0%B8%88%E0%B8%A3%E0%B8%B4%E0%B8%8D&amp;action=edit&amp;redlink=1\" class=\"new\" title=\"วัดดงเจริญ (ไม่มีหน้า)\">วัดดงเจริญ<',\n",
       " '<li><a href=\"/w/index.php?title=%E0%B8%A7%E0%B8%B1%E0%B8%94%E0%B8%9A%E0%B8%A3%E0%B8%A3%E0%B8%9E%E0%B8%95%E0%B8%AA%E0%B8%B8%E0%B8%97%E0%B8%98%E0%B8%B2%E0%B8%A3%E0%B8%B2%E0%B8%A1&amp;action=edit&amp;redlink=1\" class=\"new\" title=\"วัดบรรพตสุทธาราม (ไม่มีหน้า)\">วัดบรรพตสุทธาราม<',\n",
       " '<li><a href=\"/w/index.php?title=%E0%B8%A7%E0%B8%B1%E0%B8%94%E0%B9%84%E0%B8%9C%E0%B9%88%E0%B9%80%E0%B8%AB%E0%B8%A5%E0%B8%B7%E0%B8%AD%E0%B8%87&amp;action=edit&amp;redlink=1\" class=\"new\" title=\"วัดไผ่เหลือง (ไม่มีหน้า)\">วัดไผ่เหลือง<',\n",
       " '<li><a href=\"/w/index.php?title=%E0%B8%A7%E0%B8%B1%E0%B8%94%E0%B8%A7%E0%B8%B1%E0%B8%87%E0%B8%81%E0%B8%B0%E0%B8%97%E0%B8%B0&amp;action=edit&amp;redlink=1\" class=\"new\" title=\"วัดวังกะทะ (ไม่มีหน้า)\">วัดวังกะทะ<',\n",
       " '<li><a href=\"/w/index.php?title=%E0%B8%A7%E0%B8%B1%E0%B8%94%E0%B8%A7%E0%B8%B1%E0%B8%87%E0%B8%81%E0%B9%89%E0%B8%B2%E0%B8%99%E0%B9%80%E0%B8%AB%E0%B8%A5%E0%B8%B7%E0%B8%AD%E0%B8%87&amp;action=edit&amp;redlink=1\" class=\"new\" title=\"วัดวังก้านเหลือง (ไม่มีหน้า)\">วัดวังก้านเหลือง<',\n",
       " '<li><a href=\"/w/index.php?title=%E0%B8%A7%E0%B8%B1%E0%B8%94%E0%B8%A7%E0%B8%B1%E0%B8%87%E0%B8%87%E0%B8%B4%E0%B9%89%E0%B8%A7&amp;action=edit&amp;redlink=1\" class=\"new\" title=\"วัดวังงิ้ว (ไม่มีหน้า)\">วัดวังงิ้ว<',\n",
       " '<li><a href=\"/w/index.php?title=%E0%B8%A7%E0%B8%B1%E0%B8%94%E0%B8%A1%E0%B8%B0%E0%B8%81%E0%B8%AD%E0%B8%81%E0%B8%87%E0%B8%AD&amp;action=edit&amp;redlink=1\" class=\"new\" title=\"วัดมะกอกงอ (ไม่มีหน้า)\">วัดมะกอกงอ<',\n",
       " '<li><a href=\"/wiki/%E0%B8%A7%E0%B8%B1%E0%B8%94%E0%B8%A3%E0%B8%B2%E0%B8%A9%E0%B8%8E%E0%B8%A3%E0%B9%8C%E0%B8%AA%E0%B8%B2%E0%B8%A1%E0%B8%B1%E0%B8%84%E0%B8%84%E0%B8%B5\" class=\"mw-disambig\" title=\"วัดราษฎร์สามัคคี\">วัดราษฎร์สามัคคี<',\n",
       " '<li><a href=\"/w/index.php?title=%E0%B8%A7%E0%B8%B1%E0%B8%94%E0%B8%A7%E0%B8%B1%E0%B8%87%E0%B8%82%E0%B8%AD%E0%B8%99%E0%B8%8B%E0%B8%B8%E0%B8%87&amp;action=edit&amp;redlink=1\" class=\"new\" title=\"วัดวังขอนซุง (ไม่มีหน้า)\">วัดวังขอนซุง<',\n",
       " '<li><a href=\"/w/index.php?title=%E0%B8%A7%E0%B8%B1%E0%B8%94%E0%B8%A7%E0%B8%B1%E0%B8%87%E0%B8%95%E0%B8%B0%E0%B8%81%E0%B8%B9&amp;action=edit&amp;redlink=1\" class=\"new\" title=\"วัดวังตะกู (ไม่มีหน้า)\">วัดวังตะกู<',\n",
       " '<li><a href=\"/w/index.php?title=%E0%B8%A7%E0%B8%B1%E0%B8%94%E0%B8%AA%E0%B8%B8%E0%B8%82%E0%B8%B8%E0%B8%A1%E0%B8%B2%E0%B8%A3%E0%B8%B2%E0%B8%A1&amp;action=edit&amp;redlink=1\" class=\"new\" title=\"วัดสุขุมาราม (ไม่มีหน้า)\">วัดสุขุมาราม<',\n",
       " '<li><a href=\"/w/index.php?title=%E0%B8%A7%E0%B8%B1%E0%B8%94%E0%B8%AB%E0%B8%99%E0%B8%AD%E0%B8%87%E0%B8%81%E0%B8%B0%E0%B8%97%E0%B8%AD&amp;action=edit&amp;redlink=1\" class=\"new\" title=\"วัดหนองกะทอ (ไม่มีหน้า)\">วัดหนองกะทอ<',\n",
       " '<li><a href=\"/w/index.php?title=%E0%B8%A7%E0%B8%B1%E0%B8%94%E0%B8%AB%E0%B9%89%E0%B8%A7%E0%B8%A2%E0%B9%80%E0%B8%A3%E0%B8%B5%E0%B8%A2%E0%B8%87%E0%B9%80%E0%B8%AB%E0%B8%99%E0%B8%B7%E0%B8%AD&amp;action=edit&amp;redlink=1\" class=\"new\" title=\"วัดห้วยเรียงเหนือ (ไม่มีหน้า)\">วัดห้วยเรียงเหนือ<',\n",
       " '<li><a href=\"/w/index.php?title=%E0%B8%A7%E0%B8%B1%E0%B8%94%E0%B9%80%E0%B8%84%E0%B8%A3%E0%B8%B7%E0%B8%AD%E0%B9%80%E0%B8%82%E0%B8%B2%E0%B9%82%E0%B8%84%E0%B9%89%E0%B8%87&amp;action=edit&amp;redlink=1\" class=\"new\" title=\"วัดเครือเขาโค้ง (ไม่มีหน้า)\">วัดเครือเขาโค้ง<',\n",
       " '<li><a href=\"/w/index.php?title=%E0%B8%A7%E0%B8%B1%E0%B8%94%E0%B9%83%E0%B8%94%E0%B8%9B%E0%B8%A5%E0%B8%B2%E0%B8%94%E0%B8%B8%E0%B8%81&amp;action=edit&amp;redlink=1\" class=\"new\" title=\"วัดใดปลาดุก (ไม่มีหน้า)\">วัดใดปลาดุก<',\n",
       " '<li><a href=\"/w/index.php?title=%E0%B8%A7%E0%B8%B1%E0%B8%94%E0%B8%97%E0%B8%B8%E0%B9%88%E0%B8%87%E0%B8%95%E0%B8%B1%E0%B8%9A%E0%B9%80%E0%B8%95%E0%B9%88%E0%B8%B2&amp;action=edit&amp;redlink=1\" class=\"new\" title=\"วัดทุ่งตับเต่า (ไม่มีหน้า)\">วัดทุ่งตับเต่า<',\n",
       " '<li><a href=\"/w/index.php?title=%E0%B8%A7%E0%B8%B1%E0%B8%94%E0%B8%A3%E0%B8%B2%E0%B8%A9%E0%B8%8E%E0%B8%A3%E0%B9%8C%E0%B8%A8%E0%B8%A3%E0%B8%B1%E0%B8%97%E0%B8%98%E0%B8%B2%E0%B8%97%E0%B8%A3%E0%B8%87%E0%B8%98%E0%B8%A3%E0%B8%A3%E0%B8%A1&amp;action=edit&amp;redlink=1\" class=\"new\" title=\"วัดราษฎร์ศรัทธาทรงธรรม (ไม่มีหน้า)\">วัดราษฎร์ศรัทธาทรงธรรม<',\n",
       " '<li><a href=\"/w/index.php?title=%E0%B8%A7%E0%B8%B1%E0%B8%94%E0%B8%A7%E0%B8%B1%E0%B8%87%E0%B8%AA%E0%B8%B3%E0%B9%82%E0%B8%A3%E0%B8%87&amp;action=edit&amp;redlink=1\" class=\"new\" title=\"วัดวังสำโรง (ไม่มีหน้า)\">วัดวังสำโรง<',\n",
       " '<li><a href=\"/w/index.php?title=%E0%B8%A7%E0%B8%B1%E0%B8%94%E0%B8%AB%E0%B8%99%E0%B8%AD%E0%B8%87%E0%B8%81%E0%B8%AD%E0%B9%84%E0%B8%9C%E0%B9%88&amp;action=edit&amp;redlink=1\" class=\"new\" title=\"วัดหนองกอไผ่ (ไม่มีหน้า)\">วัดหนองกอไผ่<',\n",
       " '<li><a href=\"/w/index.php?title=%E0%B8%A7%E0%B8%B1%E0%B8%94%E0%B8%AB%E0%B8%99%E0%B8%AD%E0%B8%87%E0%B8%84%E0%B8%A3%E0%B8%81&amp;action=edit&amp;redlink=1\" class=\"new\" title=\"วัดหนองครก (ไม่มีหน้า)\">วัดหนองครก<',\n",
       " '<li><a href=\"/w/index.php?title=%E0%B8%A7%E0%B8%B1%E0%B8%94%E0%B8%AB%E0%B8%99%E0%B8%AD%E0%B8%87%E0%B8%84%E0%B8%A3%E0%B8%81%E0%B9%80%E0%B8%AB%E0%B8%99%E0%B8%B7%E0%B8%AD&amp;action=edit&amp;redlink=1\" class=\"new\" title=\"วัดหนองครกเหนือ (ไม่มีหน้า)\">วัดหนองครกเหนือ<',\n",
       " '<li><a href=\"/w/index.php?title=%E0%B8%A7%E0%B8%B1%E0%B8%94%E0%B8%81%E0%B8%B8%E0%B8%94%E0%B8%9B%E0%B8%A3%E0%B8%B0%E0%B8%94%E0%B8%B9%E0%B9%88&amp;action=edit&amp;redlink=1\" class=\"new\" title=\"วัดกุดประดู่ (ไม่มีหน้า)\">วัดกุดประดู่<',\n",
       " '<li><a href=\"/w/index.php?title=%E0%B8%A7%E0%B8%B1%E0%B8%94%E0%B9%80%E0%B8%81%E0%B8%B2%E0%B8%B0%E0%B9%81%E0%B8%81%E0%B9%89%E0%B8%A7&amp;action=edit&amp;redlink=1\" class=\"new\" title=\"วัดเกาะแก้ว (ไม่มีหน้า)\">วัดเกาะแก้ว<',\n",
       " '<li><a href=\"/w/index.php?title=%E0%B8%A7%E0%B8%B1%E0%B8%94%E0%B8%95%E0%B8%B0%E0%B8%81%E0%B8%A3%E0%B8%B8%E0%B8%94%E0%B9%84%E0%B8%A3&amp;action=edit&amp;redlink=1\" class=\"new\" title=\"วัดตะกรุดไร (ไม่มีหน้า)\">วัดตะกรุดไร<',\n",
       " '<li><a href=\"/w/index.php?title=%E0%B8%A7%E0%B8%B1%E0%B8%94%E0%B8%97%E0%B8%B2%E0%B8%A2%E0%B8%81%E0%B8%B2%E0%B8%A3%E0%B8%B2%E0%B8%A1&amp;action=edit&amp;redlink=1\" class=\"new\" title=\"วัดทายการาม (ไม่มีหน้า)\">วัดทายการาม<',\n",
       " '<li><a href=\"/wiki/%E0%B8%A7%E0%B8%B1%E0%B8%94%E0%B9%84%E0%B8%97%E0%B8%A3%E0%B8%A2%E0%B9%89%E0%B8%AD%E0%B8%A2\" class=\"mw-redirect mw-disambig\" title=\"วัดไทรย้อย\">วัดไทรย้อย<',\n",
       " '<li><a href=\"/w/index.php?title=%E0%B8%A7%E0%B8%B1%E0%B8%94%E0%B8%A7%E0%B8%B1%E0%B8%87%E0%B8%AB%E0%B8%B4%E0%B8%99%E0%B9%81%E0%B8%A3%E0%B8%87&amp;action=edit&amp;redlink=1\" class=\"new\" title=\"วัดวังหินแรง (ไม่มีหน้า)\">วัดวังหินแรง<',\n",
       " '<li><a href=\"/w/index.php?title=%E0%B8%A7%E0%B8%B1%E0%B8%94%E0%B8%AA%E0%B8%B3%E0%B8%99%E0%B8%B1%E0%B8%81%E0%B8%82%E0%B8%B8%E0%B8%99%E0%B9%80%E0%B8%93%E0%B8%A3&amp;action=edit&amp;redlink=1\" class=\"new\" title=\"วัดสำนักขุนเณร (ไม่มีหน้า)\">วัดสำนักขุนเณร<',\n",
       " '<li><a href=\"/w/index.php?title=%E0%B8%A7%E0%B8%B1%E0%B8%94%E0%B9%84%E0%B8%94%E0%B9%82%E0%B8%AA%E0%B8%99&amp;action=edit&amp;redlink=1\" class=\"new\" title=\"วัดไดโสน (ไม่มีหน้า)\">วัดไดโสน<',\n",
       " '<li><a href=\"/w/index.php?title=%E0%B8%A7%E0%B8%B1%E0%B8%94%E0%B8%AB%E0%B9%89%E0%B8%A7%E0%B8%A2%E0%B9%80%E0%B8%82%E0%B8%99&amp;action=edit&amp;redlink=1\" class=\"new\" title=\"วัดห้วยเขน (ไม่มีหน้า)\">วัดห้วยเขน<',\n",
       " '<li><a href=\"/w/index.php?title=%E0%B8%A7%E0%B8%B1%E0%B8%94%E0%B9%80%E0%B8%99%E0%B8%B4%E0%B8%99%E0%B8%8A%E0%B8%B1%E0%B8%A2%E0%B8%A8%E0%B8%A3%E0%B8%B5&amp;action=edit&amp;redlink=1\" class=\"new\" title=\"วัดเนินชัยศรี (ไม่มีหน้า)\">วัดเนินชัยศรี<',\n",
       " '<li><a href=\"/w/index.php?title=%E0%B8%A7%E0%B8%B1%E0%B8%94%E0%B8%A7%E0%B8%B1%E0%B8%87%E0%B8%AB%E0%B8%A7%E0%B9%89%E0%B8%B2&amp;action=edit&amp;redlink=1\" class=\"new\" title=\"วัดวังหว้า (ไม่มีหน้า)\">วัดวังหว้า<',\n",
       " '<li><a href=\"/w/index.php?title=%E0%B8%A7%E0%B8%B1%E0%B8%94%E0%B8%98%E0%B8%A3%E0%B8%A3%E0%B8%A1%E0%B8%AA%E0%B8%B1%E0%B8%87%E0%B9%80%E0%B8%A7%E0%B8%8A&amp;action=edit&amp;redlink=1\" class=\"new\" title=\"วัดธรรมสังเวช (ไม่มีหน้า)\">วัดธรรมสังเวช<',\n",
       " '<li><a href=\"/w/index.php?title=%E0%B8%A7%E0%B8%B1%E0%B8%94%E0%B8%AB%E0%B8%99%E0%B8%AD%E0%B8%87%E0%B8%AA%E0%B8%99%E0%B8%A7%E0%B8%99&amp;action=edit&amp;redlink=1\" class=\"new\" title=\"วัดหนองสนวน (ไม่มีหน้า)\">วัดหนองสนวน<',\n",
       " '<li><a href=\"/w/index.php?title=%E0%B8%A7%E0%B8%B1%E0%B8%94%E0%B8%AB%E0%B8%99%E0%B8%AD%E0%B8%87%E0%B8%AA%E0%B8%AD%E0%B8%87%E0%B8%AB%E0%B9%89%E0%B8%AD%E0%B8%87&amp;action=edit&amp;redlink=1\" class=\"new\" title=\"วัดหนองสองห้อง (ไม่มีหน้า)\">วัดหนองสองห้อง<',\n",
       " '<li><a href=\"/w/index.php?title=%E0%B8%A7%E0%B8%B1%E0%B8%94%E0%B8%9B%E0%B8%B2%E0%B8%81%E0%B8%84%E0%B8%A5%E0%B8%AD%E0%B8%87%E0%B9%84%E0%B8%82%E0%B9%88%E0%B9%80%E0%B8%99%E0%B9%88%E0%B8%B2&amp;action=edit&amp;redlink=1\" class=\"new\" title=\"วัดปากคลองไข่เน่า (ไม่มีหน้า)\">วัดปากคลองไข่เน่า<',\n",
       " '<li><a href=\"/w/index.php?title=%E0%B8%A7%E0%B8%B1%E0%B8%94%E0%B8%AB%E0%B8%AD%E0%B9%84%E0%B8%81%E0%B8%A3&amp;action=edit&amp;redlink=1\" class=\"new\" title=\"วัดหอไกร (ไม่มีหน้า)\">วัดหอไกร<',\n",
       " '<li><a href=\"/w/index.php?title=%E0%B8%A7%E0%B8%B1%E0%B8%94%E0%B8%97%E0%B8%B0%E0%B8%99%E0%B8%87&amp;action=edit&amp;redlink=1\" class=\"new\" title=\"วัดทะนง (ไม่มีหน้า)\">วัดทะนง<',\n",
       " '<li><a href=\"/w/index.php?title=%E0%B8%A7%E0%B8%B1%E0%B8%94%E0%B8%99%E0%B8%B2%E0%B8%84%E0%B8%A7%E0%B8%B4%E0%B8%A5%E0%B8%B1%E0%B8%A2&amp;action=edit&amp;redlink=1\" class=\"new\" title=\"วัดนาควิลัย (ไม่มีหน้า)\">วัดนาควิลัย<',\n",
       " '<li><a href=\"/w/index.php?title=%E0%B8%A7%E0%B8%B1%E0%B8%94%E0%B8%99%E0%B9%89%E0%B8%B3%E0%B8%9C%E0%B8%B6%E0%B9%89%E0%B8%87&amp;action=edit&amp;redlink=1\" class=\"new\" title=\"วัดน้ำผึ้ง (ไม่มีหน้า)\">วัดน้ำผึ้ง<',\n",
       " '<li><a href=\"/w/index.php?title=%E0%B8%A7%E0%B8%B1%E0%B8%94%E0%B8%97%E0%B9%88%E0%B8%B2%E0%B8%82%E0%B8%A1%E0%B8%B4%E0%B9%89%E0%B8%99&amp;action=edit&amp;redlink=1\" class=\"new\" title=\"วัดท่าขมิ้น (ไม่มีหน้า)\">วัดท่าขมิ้น<',\n",
       " '<li><a href=\"/w/index.php?title=%E0%B8%A7%E0%B8%B1%E0%B8%94%E0%B8%97%E0%B8%B8%E0%B9%88%E0%B8%87%E0%B9%83%E0%B8%AB%E0%B8%8D%E0%B9%88&amp;action=edit&amp;redlink=1\" class=\"new\" title=\"วัดทุ่งใหญ่ (ไม่มีหน้า)\">วัดทุ่งใหญ่<',\n",
       " '<li><a href=\"/w/index.php?title=%E0%B8%A7%E0%B8%B1%E0%B8%94%E0%B8%AB%E0%B8%99%E0%B8%AD%E0%B8%87%E0%B8%84%E0%B8%A5%E0%B9%89%E0%B8%B2&amp;action=edit&amp;redlink=1\" class=\"new\" title=\"วัดหนองคล้า (ไม่มีหน้า)\">วัดหนองคล้า<',\n",
       " '<li><a href=\"/w/index.php?title=%E0%B8%A7%E0%B8%B1%E0%B8%94%E0%B8%AB%E0%B8%99%E0%B8%AD%E0%B8%87%E0%B8%9B%E0%B8%97%E0%B8%B8%E0%B8%A1&amp;action=edit&amp;redlink=1\" class=\"new\" title=\"วัดหนองปทุม (ไม่มีหน้า)\">วัดหนองปทุม<',\n",
       " '<li><a href=\"/w/index.php?title=%E0%B8%A7%E0%B8%B1%E0%B8%94%E0%B8%AB%E0%B9%89%E0%B8%A7%E0%B8%A2%E0%B8%A2%E0%B8%B2%E0%B8%A7%E0%B8%A3%E0%B8%B2%E0%B8%A9%E0%B8%8E%E0%B8%A3%E0%B9%8C%E0%B8%9A%E0%B8%B3%E0%B8%A3%E0%B8%B8%E0%B8%87&amp;action=edit&amp;redlink=1\" class=\"new\" title=\"วัดห้วยยาวราษฎร์บำรุง (ไม่มีหน้า)\">วัดห้วยยาวราษฎร์บำรุง<',\n",
       " '<li><a href=\"/w/index.php?title=%E0%B8%A7%E0%B8%B1%E0%B8%94%E0%B8%97%E0%B9%88%E0%B8%B2%E0%B8%99%E0%B8%B1%E0%B9%88%E0%B8%87&amp;action=edit&amp;redlink=1\" class=\"new\" title=\"วัดท่านั่ง (ไม่มีหน้า)\">วัดท่านั่ง<',\n",
       " '<li><a href=\"/wiki/%E0%B8%A7%E0%B8%B1%E0%B8%94%E0%B8%A7%E0%B8%B1%E0%B8%87%E0%B9%81%E0%B8%94%E0%B8%87\" title=\"วัดวังแดง\">วัดวังแดง<',\n",
       " '<li><a href=\"/w/index.php?title=%E0%B8%A7%E0%B8%B1%E0%B8%94%E0%B8%84%E0%B8%A5%E0%B8%AD%E0%B8%87%E0%B8%95%E0%B8%B2%E0%B8%87%E0%B8%B2%E0%B8%A7&amp;action=edit&amp;redlink=1\" class=\"new\" title=\"วัดคลองตางาว (ไม่มีหน้า)\">วัดคลองตางาว<',\n",
       " '<li><a href=\"/w/index.php?title=%E0%B8%A7%E0%B8%B1%E0%B8%94%E0%B8%97%E0%B8%B1%E0%B8%9A%E0%B8%97%E0%B8%B4%E0%B8%A1&amp;action=edit&amp;redlink=1\" class=\"new\" title=\"วัดทับทิม (ไม่มีหน้า)\">วัดทับทิม<',\n",
       " '<li><a href=\"/w/index.php?title=%E0%B8%A7%E0%B8%B1%E0%B8%94%E0%B8%97%E0%B9%88%E0%B8%B2%E0%B8%9A%E0%B8%B1%E0%B8%A7&amp;action=edit&amp;redlink=1\" class=\"new\" title=\"วัดท่าบัว (ไม่มีหน้า)\">วัดท่าบัว<',\n",
       " '<li><a href=\"/wiki/%E0%B8%A7%E0%B8%B1%E0%B8%94%E0%B8%AB%E0%B8%A5%E0%B8%A7%E0%B8%87\" class=\"mw-redirect\" title=\"วัดหลวง\">วัดหลวง<',\n",
       " '<li><a href=\"/w/index.php?title=%E0%B8%A7%E0%B8%B1%E0%B8%94%E0%B8%97%E0%B9%89%E0%B8%B2%E0%B8%A2%E0%B8%99%E0%B9%89%E0%B8%B3&amp;action=edit&amp;redlink=1\" class=\"new\" title=\"วัดท้ายน้ำ (ไม่มีหน้า)\">วัดท้ายน้ำ<',\n",
       " '<li><a href=\"/w/index.php?title=%E0%B8%A7%E0%B8%B1%E0%B8%94%E0%B9%80%E0%B8%99%E0%B8%B4%E0%B8%99%E0%B9%82%E0%B8%9E%E0%B8%98%E0%B8%B4%E0%B9%8C&amp;action=edit&amp;redlink=1\" class=\"new\" title=\"วัดเนินโพธิ์ (ไม่มีหน้า)\">วัดเนินโพธิ์<',\n",
       " '<li><a href=\"/wiki/%E0%B8%A7%E0%B8%B1%E0%B8%94%E0%B8%AB%E0%B8%99%E0%B8%AD%E0%B8%87%E0%B8%9A%E0%B8%B1%E0%B8%A7\" class=\"mw-disambig\" title=\"วัดหนองบัว\">วัดหนองบัว<',\n",
       " '<li><a href=\"/w/index.php?title=%E0%B8%A7%E0%B8%B1%E0%B8%94%E0%B8%97%E0%B9%88%E0%B8%B2%E0%B8%A1%E0%B8%B0%E0%B9%84%E0%B8%9F&amp;action=edit&amp;redlink=1\" class=\"new\" title=\"วัดท่ามะไฟ (ไม่มีหน้า)\">วัดท่ามะไฟ<',\n",
       " '<li><a href=\"/w/index.php?title=%E0%B8%A7%E0%B8%B1%E0%B8%94%E0%B8%9A%E0%B8%B2%E0%B8%87%E0%B8%9E%E0%B8%A5%E0%B9%89%E0%B8%AD&amp;action=edit&amp;redlink=1\" class=\"new\" title=\"วัดบางพล้อ (ไม่มีหน้า)\">วัดบางพล้อ<',\n",
       " '<li><a href=\"/w/index.php?title=%E0%B8%A7%E0%B8%B1%E0%B8%94%E0%B8%9E%E0%B8%B1%E0%B8%87%E0%B8%99%E0%B9%89%E0%B8%AD%E0%B8%A2&amp;action=edit&amp;redlink=1\" class=\"new\" title=\"วัดพังน้อย (ไม่มีหน้า)\">วัดพังน้อย<',\n",
       " '<li><a href=\"/w/index.php?title=%E0%B8%A7%E0%B8%B1%E0%B8%94%E0%B8%A7%E0%B8%B1%E0%B8%87%E0%B8%95%E0%B8%B2%E0%B8%94%E0%B9%89%E0%B8%A7%E0%B8%87&amp;action=edit&amp;redlink=1\" class=\"new\" title=\"วัดวังตาด้วง (ไม่มีหน้า)\">วัดวังตาด้วง<',\n",
       " '<li><a href=\"/w/index.php?title=%E0%B8%A7%E0%B8%B1%E0%B8%94%E0%B8%AB%E0%B8%99%E0%B8%AD%E0%B8%87%E0%B8%94%E0%B8%87&amp;action=edit&amp;redlink=1\" class=\"new\" title=\"วัดหนองดง (ไม่มีหน้า)\">วัดหนองดง<',\n",
       " '<li><a href=\"/w/index.php?title=%E0%B8%A7%E0%B8%B1%E0%B8%94%E0%B9%80%E0%B8%96%E0%B8%A3%E0%B8%99%E0%B9%89%E0%B8%AD%E0%B8%A2&amp;action=edit&amp;redlink=1\" class=\"new\" title=\"วัดเถรน้อย (ไม่มีหน้า)\">วัดเถรน้อย<',\n",
       " '<li><a href=\"/w/index.php?title=%E0%B8%A7%E0%B8%B1%E0%B8%94%E0%B8%97%E0%B8%B8%E0%B9%88%E0%B8%87%E0%B8%99%E0%B9%89%E0%B8%AD%E0%B8%A2&amp;action=edit&amp;redlink=1\" class=\"new\" title=\"วัดทุ่งน้อย (ไม่มีหน้า)\">วัดทุ่งน้อย<',\n",
       " '<li><a href=\"/w/index.php?title=%E0%B8%A7%E0%B8%B1%E0%B8%94%E0%B9%83%E0%B8%AB%E0%B8%A1%E0%B9%88%E0%B8%A8%E0%B8%A3%E0%B8%B5%E0%B8%A7%E0%B8%B4%E0%B8%8A%E0%B8%B1%E0%B8%A2&amp;action=edit&amp;redlink=1\" class=\"new\" title=\"วัดใหม่ศรีวิชัย (ไม่มีหน้า)\">วัดใหม่ศรีวิชัย<',\n",
       " '<li><a href=\"/w/index.php?title=%E0%B8%A7%E0%B8%B1%E0%B8%94%E0%B8%AD%E0%B8%B4%E0%B8%99%E0%B8%97%E0%B8%A3%E0%B9%8C%E0%B8%9E%E0%B8%A3%E0%B8%AB%E0%B8%A1%E0%B9%83%E0%B8%A2&amp;action=edit&amp;redlink=1\" class=\"new\" title=\"วัดอินทร์พรหมใย (ไม่มีหน้า)\">วัดอินทร์พรหมใย<',\n",
       " '<li><a href=\"/wiki/%E0%B8%A7%E0%B8%B1%E0%B8%94%E0%B8%84%E0%B8%87%E0%B8%84%E0%B8%B2%E0%B8%A3%E0%B8%B2%E0%B8%A1\" class=\"mw-disambig\" title=\"วัดคงคาราม\">วัดคงคาราม<',\n",
       " '<li><a href=\"/w/index.php?title=%E0%B8%A7%E0%B8%B1%E0%B8%94%E0%B9%82%E0%B8%9E%E0%B8%98%E0%B8%B4%E0%B9%8C%E0%B8%A8%E0%B8%A3%E0%B8%B5&amp;action=edit&amp;redlink=1\" class=\"new\" title=\"วัดโพธิ์ศรี (ไม่มีหน้า)\">วัดโพธิ์ศรี<',\n",
       " '<li><a href=\"/w/index.php?title=%E0%B8%A7%E0%B8%B1%E0%B8%94%E0%B8%AB%E0%B8%B4%E0%B8%A3%E0%B8%B1%E0%B8%8D%E0%B8%8D%E0%B8%B2%E0%B8%A3%E0%B8%B2%E0%B8%A1&amp;action=edit&amp;redlink=1\" class=\"new\" title=\"วัดหิรัญญาราม (ไม่มีหน้า)\">วัดหิรัญญาราม<',\n",
       " '<li><a href=\"/w/index.php?title=%E0%B8%A7%E0%B8%B1%E0%B8%94%E0%B8%97%E0%B8%B8%E0%B9%88%E0%B8%87%E0%B8%9E%E0%B8%A3%E0%B8%AB%E0%B8%A1%E0%B8%97%E0%B8%AD%E0%B8%87&amp;action=edit&amp;redlink=1\" class=\"new\" title=\"วัดทุ่งพรหมทอง (ไม่มีหน้า)\">วัดทุ่งพรหมทอง<',\n",
       " '<li><a href=\"/w/index.php?title=%E0%B8%A7%E0%B8%B1%E0%B8%94%E0%B8%9A%E0%B8%B2%E0%B8%87%E0%B8%A5%E0%B8%B2%E0%B8%A2%E0%B9%83%E0%B8%95%E0%B9%89&amp;action=edit&amp;redlink=1\" class=\"new\" title=\"วัดบางลายใต้ (ไม่มีหน้า)\">วัดบางลายใต้<',\n",
       " '<li><a href=\"/w/index.php?title=%E0%B8%A7%E0%B8%B1%E0%B8%94%E0%B8%9A%E0%B8%B2%E0%B8%87%E0%B8%A5%E0%B8%B2%E0%B8%A2%E0%B9%80%E0%B8%AB%E0%B8%99%E0%B8%B7%E0%B8%AD&amp;action=edit&amp;redlink=1\" class=\"new\" title=\"วัดบางลายเหนือ (ไม่มีหน้า)\">วัดบางลายเหนือ<',\n",
       " '<li><a href=\"/w/index.php?title=%E0%B8%A7%E0%B8%B1%E0%B8%94%E0%B8%9B%E0%B8%A3%E0%B8%B0%E0%B8%94%E0%B8%B2%E0%B8%97%E0%B8%AD%E0%B8%87&amp;action=edit&amp;redlink=1\" class=\"new\" title=\"วัดประดาทอง (ไม่มีหน้า)\">วัดประดาทอง<',\n",
       " '<li><a href=\"/w/index.php?title=%E0%B8%A7%E0%B8%B1%E0%B8%94%E0%B8%9A%E0%B9%89%E0%B8%B2%E0%B8%99%E0%B8%99%E0%B9%89%E0%B8%AD%E0%B8%A2&amp;action=edit&amp;redlink=1\" class=\"new\" title=\"วัดบ้านน้อย (ไม่มีหน้า)\">วัดบ้านน้อย<',\n",
       " '<li><a href=\"/w/index.php?title=%E0%B8%A7%E0%B8%B1%E0%B8%94%E0%B8%9B%E0%B8%B2%E0%B8%81%E0%B8%A5%E0%B8%B1%E0%B8%94&amp;action=edit&amp;redlink=1\" class=\"new\" title=\"วัดปากลัด (ไม่มีหน้า)\">วัดปากลัด<',\n",
       " '<li><a href=\"/w/index.php?title=%E0%B8%A7%E0%B8%B1%E0%B8%94%E0%B8%9A%E0%B8%B6%E0%B8%87%E0%B8%99%E0%B8%B2%E0%B8%A3%E0%B8%B2%E0%B8%87&amp;action=edit&amp;redlink=1\" class=\"new\" title=\"วัดบึงนาราง (ไม่มีหน้า)\">วัดบึงนาราง<',\n",
       " '<li><a href=\"/w/index.php?title=%E0%B8%A7%E0%B8%B1%E0%B8%94%E0%B8%AB%E0%B8%99%E0%B8%AD%E0%B8%87%E0%B9%81%E0%B8%82%E0%B8%A1&amp;action=edit&amp;redlink=1\" class=\"new\" title=\"วัดหนองแขม (ไม่มีหน้า)\">วัดหนองแขม<',\n",
       " '<li><a href=\"/w/index.php?title=%E0%B8%A7%E0%B8%B1%E0%B8%94%E0%B8%AB%E0%B9%89%E0%B8%A7%E0%B8%87%E0%B8%A8%E0%B8%A3%E0%B8%B1%E0%B8%97%E0%B8%98%E0%B8%B2%E0%B8%A3%E0%B8%B2%E0%B8%A1&amp;action=edit&amp;redlink=1\" class=\"new\" title=\"วัดห้วงศรัทธาราม (ไม่มีหน้า)\">วัดห้วงศรัทธาราม<',\n",
       " '<li><a href=\"/w/index.php?title=%E0%B8%A7%E0%B8%B1%E0%B8%94%E0%B8%9A%E0%B9%89%E0%B8%B2%E0%B8%99%E0%B8%95%E0%B8%B2%E0%B8%A5&amp;action=edit&amp;redlink=1\" class=\"new\" title=\"วัดบ้านตาล (ไม่มีหน้า)\">วัดบ้านตาล<',\n",
       " '<li><a href=\"/wiki/%E0%B8%A7%E0%B8%B1%E0%B8%94%E0%B8%9B%E0%B8%B2%E0%B8%81%E0%B8%99%E0%B9%89%E0%B8%B3\" class=\"mw-disambig\" title=\"วัดปากน้ำ\">วัดปากน้ำ<',\n",
       " '<li><a href=\"/w/index.php?title=%E0%B8%A7%E0%B8%B1%E0%B8%94%E0%B9%82%E0%B8%9E%E0%B8%97%E0%B8%B0%E0%B9%80%E0%B8%A5&amp;action=edit&amp;redlink=1\" class=\"new\" title=\"วัดโพทะเล (ไม่มีหน้า)\">วัดโพทะเล<',\n",
       " '<li><a href=\"/w/index.php?title=%E0%B8%A7%E0%B8%B1%E0%B8%94%E0%B8%97%E0%B8%B8%E0%B9%88%E0%B8%87%E0%B8%97%E0%B8%AD%E0%B8%87&amp;action=edit&amp;redlink=1\" class=\"new\" title=\"วัดทุ่งทอง (ไม่มีหน้า)\">วัดทุ่งทอง<',\n",
       " '<li><a href=\"/w/index.php?title=%E0%B8%A7%E0%B8%B1%E0%B8%94%E0%B8%9A%E0%B8%B6%E0%B8%87%E0%B8%A5%E0%B8%B5&amp;action=edit&amp;redlink=1\" class=\"new\" title=\"วัดบึงลี (ไม่มีหน้า)\">วัดบึงลี<',\n",
       " '<li><a href=\"/w/index.php?title=%E0%B8%A7%E0%B8%B1%E0%B8%94%E0%B9%82%E0%B8%9E%E0%B8%98%E0%B8%B4%E0%B9%8C%E0%B9%84%E0%B8%97%E0%B8%A3%E0%B8%87%E0%B8%B2%E0%B8%A1&amp;action=edit&amp;redlink=1\" class=\"new\" title=\"วัดโพธิ์ไทรงาม (ไม่มีหน้า)\">วัดโพธิ์ไทรงาม<',\n",
       " '<li><a href=\"/w/index.php?title=%E0%B8%A7%E0%B8%B1%E0%B8%94%E0%B8%A7%E0%B8%B1%E0%B8%87%E0%B8%81%E0%B8%A3%E0%B8%B0%E0%B8%AA%E0%B8%B9%E0%B8%9A&amp;action=edit&amp;redlink=1\" class=\"new\" title=\"วัดวังกระสูบ (ไม่มีหน้า)\">วัดวังกระสูบ<',\n",
       " '<li><a href=\"/w/index.php?title=%E0%B8%A7%E0%B8%B1%E0%B8%94%E0%B8%82%E0%B8%A7%E0%B8%B2%E0%B8%87&amp;action=edit&amp;redlink=1\" class=\"new\" title=\"วัดขวาง (ไม่มีหน้า)\">วัดขวาง<',\n",
       " '<li><a href=\"/wiki/%E0%B8%A7%E0%B8%B1%E0%B8%94%E0%B8%9E%E0%B8%A3%E0%B9%89%E0%B8%B2%E0%B8%A7\" class=\"mw-disambig\" title=\"วัดพร้าว\">วัดพร้าว<',\n",
       " '<li><a href=\"/w/index.php?title=%E0%B8%A7%E0%B8%B1%E0%B8%94%E0%B8%AA%E0%B8%B8%E0%B8%A7%E0%B8%A3%E0%B8%A3%E0%B8%93%E0%B8%A3%E0%B8%B1%E0%B8%87%E0%B8%A9%E0%B8%B5&amp;action=edit&amp;redlink=1\" class=\"new\" title=\"วัดสุวรรณรังษี (ไม่มีหน้า)\">วัดสุวรรณรังษี<',\n",
       " '<li><a href=\"/w/index.php?title=%E0%B8%A7%E0%B8%B1%E0%B8%94%E0%B8%94%E0%B8%87%E0%B9%80%E0%B8%AA%E0%B8%B7%E0%B8%AD%E0%B9%80%E0%B8%AB%E0%B8%A5%E0%B8%B7%E0%B8%AD%E0%B8%87&amp;action=edit&amp;redlink=1\" class=\"new\" title=\"วัดดงเสือเหลือง (ไม่มีหน้า)\">วัดดงเสือเหลือง<',\n",
       " '<li><a href=\"/w/index.php?title=%E0%B8%A7%E0%B8%B1%E0%B8%94%E0%B8%97%E0%B8%B8%E0%B9%88%E0%B8%87%E0%B8%99%E0%B8%B2%E0%B8%94%E0%B8%B5&amp;action=edit&amp;redlink=1\" class=\"new\" title=\"วัดทุ่งนาดี (ไม่มีหน้า)\">วัดทุ่งนาดี<',\n",
       " '<li><a href=\"/w/index.php?title=%E0%B8%A7%E0%B8%B1%E0%B8%94%E0%B8%97%E0%B8%B8%E0%B9%88%E0%B8%87%E0%B8%9B%E0%B8%A3%E0%B8%B0%E0%B8%9E%E0%B8%B2%E0%B8%AA&amp;action=edit&amp;redlink=1\" class=\"new\" title=\"วัดทุ่งประพาส (ไม่มีหน้า)\">วัดทุ่งประพาส<',\n",
       " '<li><a href=\"/w/index.php?title=%E0%B8%A7%E0%B8%B1%E0%B8%94%E0%B8%97%E0%B8%B8%E0%B9%88%E0%B8%87%E0%B9%83%E0%B8%AB%E0%B8%8D%E0%B9%88&amp;action=edit&amp;redlink=1\" class=\"new\" title=\"วัดทุ่งใหญ่ (ไม่มีหน้า)\">วัดทุ่งใหญ่<',\n",
       " '<li><a href=\"/w/index.php?title=%E0%B8%A7%E0%B8%B1%E0%B8%94%E0%B9%80%E0%B8%99%E0%B8%B4%E0%B8%99%E0%B8%9E%E0%B8%A2%E0%B8%AD%E0%B8%A1&amp;action=edit&amp;redlink=1\" class=\"new\" title=\"วัดเนินพยอม (ไม่มีหน้า)\">วัดเนินพยอม<',\n",
       " '<li><a href=\"/w/index.php?title=%E0%B8%A7%E0%B8%B1%E0%B8%94%E0%B8%AB%E0%B8%99%E0%B8%AD%E0%B8%87%E0%B8%82%E0%B8%B2%E0%B8%99%E0%B8%B2%E0%B8%87&amp;action=edit&amp;redlink=1\" class=\"new\" title=\"วัดหนองขานาง (ไม่มีหน้า)\">วัดหนองขานาง<',\n",
       " '<li><a href=\"/w/index.php?title=%E0%B8%A7%E0%B8%B1%E0%B8%94%E0%B8%AB%E0%B8%99%E0%B8%AD%E0%B8%87%E0%B8%9E%E0%B8%87&amp;action=edit&amp;redlink=1\" class=\"new\" title=\"วัดหนองพง (ไม่มีหน้า)\">วัดหนองพง<',\n",
       " '<li><a href=\"/w/index.php?title=%E0%B8%A7%E0%B8%B1%E0%B8%94%E0%B8%AB%E0%B9%89%E0%B8%A7%E0%B8%A2%E0%B8%84%E0%B8%B3%E0%B8%95%E0%B8%B2%E0%B8%A5&amp;action=edit&amp;redlink=1\" class=\"new\" title=\"วัดห้วยคำตาล (ไม่มีหน้า)\">วัดห้วยคำตาล<',\n",
       " '<li><a href=\"/w/index.php?title=%E0%B8%A7%E0%B8%B1%E0%B8%94%E0%B8%AB%E0%B9%89%E0%B8%A7%E0%B8%A2%E0%B8%99%E0%B9%89%E0%B8%AD%E0%B8%A2&amp;action=edit&amp;redlink=1\" class=\"new\" title=\"วัดห้วยน้อย (ไม่มีหน้า)\">วัดห้วยน้อย<',\n",
       " '<li><a href=\"/w/index.php?title=%E0%B8%A7%E0%B8%B1%E0%B8%94%E0%B8%AB%E0%B9%89%E0%B8%A7%E0%B8%A2%E0%B8%99%E0%B9%89%E0%B8%B3%E0%B8%8B%E0%B8%B6%E0%B8%A1&amp;action=edit&amp;redlink=1\" class=\"new\" title=\"วัดห้วยน้ำซึม (ไม่มีหน้า)\">วัดห้วยน้ำซึม<',\n",
       " '<li><a href=\"/w/index.php?title=%E0%B8%A7%E0%B8%B1%E0%B8%94%E0%B9%80%E0%B8%99%E0%B8%B4%E0%B8%99%E0%B8%AA%E0%B8%A7%E0%B9%88%E0%B8%B2%E0%B8%87&amp;action=edit&amp;redlink=1\" class=\"new\" title=\"วัดเนินสว่าง (ไม่มีหน้า)\">วัดเนินสว่าง<',\n",
       " '<li><a href=\"/w/index.php?title=%E0%B8%A7%E0%B8%B1%E0%B8%94%E0%B9%80%E0%B8%99%E0%B8%B4%E0%B8%99%E0%B8%AA%E0%B8%B2%E0%B8%A5%E0%B8%B4%E0%B8%81%E0%B8%B2&amp;action=edit&amp;redlink=1\" class=\"new\" title=\"วัดเนินสาลิกา (ไม่มีหน้า)\">วัดเนินสาลิกา<',\n",
       " '<li><a href=\"/w/index.php?title=%E0%B8%A7%E0%B8%B1%E0%B8%94%E0%B8%9A%E0%B8%B6%E0%B8%87%E0%B8%81%E0%B8%AD%E0%B8%81&amp;action=edit&amp;redlink=1\" class=\"new\" title=\"วัดบึงกอก (ไม่มีหน้า)\">วัดบึงกอก<',\n",
       " '<li><a href=\"/w/index.php?title=%E0%B8%A7%E0%B8%B1%E0%B8%94%E0%B8%A1%E0%B8%B2%E0%B8%9A%E0%B8%A1%E0%B8%B0%E0%B9%84%E0%B8%9F&amp;action=edit&amp;redlink=1\" class=\"new\" title=\"วัดมาบมะไฟ (ไม่มีหน้า)\">วัดมาบมะไฟ<',\n",
       " '<li><a href=\"/w/index.php?title=%E0%B8%A7%E0%B8%B1%E0%B8%94%E0%B8%A1%E0%B8%B2%E0%B8%9A%E0%B8%AA%E0%B8%A7%E0%B9%88%E0%B8%B2%E0%B8%87%E0%B8%AA%E0%B8%B2%E0%B8%A1%E0%B8%B1%E0%B8%84%E0%B8%84%E0%B8%B5&amp;action=edit&amp;redlink=1\" class=\"new\" title=\"วัดมาบสว่างสามัคคี (ไม่มีหน้า)\">วัดมาบสว่างสามัคคี<',\n",
       " '<li><a href=\"/w/index.php?title=%E0%B8%A7%E0%B8%B1%E0%B8%94%E0%B8%AA%E0%B8%A3%E0%B8%B0%E0%B8%A1%E0%B8%93%E0%B8%B5&amp;action=edit&amp;redlink=1\" class=\"new\" title=\"วัดสระมณี (ไม่มีหน้า)\">วัดสระมณี<',\n",
       " '<li><a href=\"/w/index.php?title=%E0%B8%A7%E0%B8%B1%E0%B8%94%E0%B8%AB%E0%B8%99%E0%B8%AD%E0%B8%87%E0%B8%82%E0%B8%B3&amp;action=edit&amp;redlink=1\" class=\"new\" title=\"วัดหนองขำ (ไม่มีหน้า)\">วัดหนองขำ<',\n",
       " '<li><a href=\"/w/index.php?title=%E0%B8%A7%E0%B8%B1%E0%B8%94%E0%B8%AB%E0%B8%99%E0%B8%AD%E0%B8%87%E0%B8%84%E0%B8%A5%E0%B9%89%E0%B8%B2&amp;action=edit&amp;redlink=1\" class=\"new\" title=\"วัดหนองคล้า (ไม่มีหน้า)\">วัดหนองคล้า<',\n",
       " '<li><a href=\"/wiki/%E0%B8%A7%E0%B8%B1%E0%B8%94%E0%B8%AB%E0%B8%99%E0%B8%AD%E0%B8%87%E0%B8%9A%E0%B8%B1%E0%B8%A7\" class=\"mw-disambig\" title=\"วัดหนองบัว\">วัดหนองบัว<',\n",
       " '<li><a href=\"/w/index.php?title=%E0%B8%A7%E0%B8%B1%E0%B8%94%E0%B8%AB%E0%B8%99%E0%B8%AD%E0%B8%87%E0%B8%AA%E0%B8%B0%E0%B9%81%E0%B8%81&amp;action=edit&amp;redlink=1\" class=\"new\" title=\"วัดหนองสะแก (ไม่มีหน้า)\">วัดหนองสะแก<',\n",
       " '<li><a href=\"/w/index.php?title=%E0%B8%A7%E0%B8%B1%E0%B8%94%E0%B8%9A%E0%B9%89%E0%B8%B2%E0%B8%99%E0%B8%8B%E0%B9%88%E0%B8%AD%E0%B8%87&amp;action=edit&amp;redlink=1\" class=\"new\" title=\"วัดบ้านซ่อง (ไม่มีหน้า)\">วัดบ้านซ่อง<',\n",
       " '<li><a href=\"/w/index.php?title=%E0%B8%A7%E0%B8%B1%E0%B8%94%E0%B9%84%E0%B8%9C%E0%B9%88%E0%B8%97%E0%B9%88%E0%B8%B2%E0%B9%82%E0%B8%9E%E0%B9%83%E0%B8%95%E0%B9%89&amp;action=edit&amp;redlink=1\" class=\"new\" title=\"วัดไผ่ท่าโพใต้ (ไม่มีหน้า)\">วัดไผ่ท่าโพใต้<',\n",
       " '<li><a href=\"/w/index.php?title=%E0%B8%A7%E0%B8%B1%E0%B8%94%E0%B8%A5%E0%B8%B3%E0%B8%99%E0%B8%B1%E0%B8%87&amp;action=edit&amp;redlink=1\" class=\"new\" title=\"วัดลำนัง (ไม่มีหน้า)\">วัดลำนัง<',\n",
       " '<li><a href=\"/w/index.php?title=%E0%B8%A7%E0%B8%B1%E0%B8%94%E0%B8%A7%E0%B8%B1%E0%B8%87%E0%B8%97%E0%B9%88%E0%B8%B2%E0%B9%82%E0%B8%9E&amp;action=edit&amp;redlink=1\" class=\"new\" title=\"วัดวังท่าโพ (ไม่มีหน้า)\">วัดวังท่าโพ<',\n",
       " '<li><a href=\"/w/index.php?title=%E0%B8%A7%E0%B8%B1%E0%B8%94%E0%B9%83%E0%B8%AB%E0%B8%A1%E0%B9%88%E0%B9%82%E0%B8%9E%E0%B8%98%E0%B8%B4%E0%B9%8C%E0%B8%A8%E0%B8%A3%E0%B8%B5&amp;action=edit&amp;redlink=1\" class=\"new\" title=\"วัดใหม่โพธิ์ศรี (ไม่มีหน้า)\">วัดใหม่โพธิ์ศรี<',\n",
       " '<li><a href=\"/w/index.php?title=%E0%B8%A7%E0%B8%B1%E0%B8%94%E0%B9%80%E0%B8%81%E0%B8%B2%E0%B8%B0%E0%B9%81%E0%B8%81%E0%B9%89%E0%B8%A7&amp;action=edit&amp;redlink=1\" class=\"new\" title=\"วัดเกาะแก้ว (ไม่มีหน้า)\">วัดเกาะแก้ว<',\n",
       " '<li><a href=\"/w/index.php?title=%E0%B8%A7%E0%B8%B1%E0%B8%94%E0%B9%84%E0%B8%9C%E0%B9%88%E0%B8%A3%E0%B8%AD%E0%B8%9A&amp;action=edit&amp;redlink=1\" class=\"new\" title=\"วัดไผ่รอบ (ไม่มีหน้า)\">วัดไผ่รอบ<',\n",
       " '<li><a href=\"/w/index.php?title=%E0%B8%A7%E0%B8%B1%E0%B8%94%E0%B8%A1%E0%B9%88%E0%B8%A7%E0%B8%87%E0%B9%80%E0%B8%92%E0%B9%88%E0%B8%B2&amp;action=edit&amp;redlink=1\" class=\"new\" title=\"วัดม่วงเฒ่า (ไม่มีหน้า)\">วัดม่วงเฒ่า<',\n",
       " '<li><a href=\"/w/index.php?title=%E0%B8%A7%E0%B8%B1%E0%B8%94%E0%B9%82%E0%B8%A3%E0%B8%87%E0%B8%A7%E0%B8%B1%E0%B8%A7&amp;action=edit&amp;redlink=1\" class=\"new\" title=\"วัดโรงวัว (ไม่มีหน้า)\">วัดโรงวัว<',\n",
       " '<li><a href=\"/w/index.php?title=%E0%B8%A7%E0%B8%B1%E0%B8%94%E0%B8%AA%E0%B8%A3%E0%B8%B0%E0%B8%9B%E0%B8%A3%E0%B8%B0%E0%B8%97%E0%B8%B8%E0%B8%A1&amp;action=edit&amp;redlink=1\" class=\"new\" title=\"วัดสระประทุม (ไม่มีหน้า)\">วัดสระประทุม<',\n",
       " '<li><a href=\"/w/index.php?title=%E0%B8%A7%E0%B8%B1%E0%B8%94%E0%B8%AB%E0%B8%99%E0%B8%AD%E0%B8%87%E0%B9%84%E0%B8%A1%E0%B9%89%E0%B9%81%E0%B8%94%E0%B8%87&amp;action=edit&amp;redlink=1\" class=\"new\" title=\"วัดหนองไม้แดง (ไม่มีหน้า)\">วัดหนองไม้แดง<',\n",
       " '<li><a href=\"/w/index.php?title=%E0%B8%A7%E0%B8%B1%E0%B8%94%E0%B8%AB%E0%B8%99%E0%B8%AD%E0%B8%87%E0%B8%AB%E0%B8%A5%E0%B8%A7%E0%B8%87&amp;action=edit&amp;redlink=1\" class=\"new\" title=\"วัดหนองหลวง (ไม่มีหน้า)\">วัดหนองหลวง<',\n",
       " '<li><a href=\"/w/index.php?title=%E0%B8%A7%E0%B8%B1%E0%B8%94%E0%B8%AB%E0%B8%99%E0%B8%AD%E0%B8%87%E0%B8%AB%E0%B8%B1%E0%B8%A7%E0%B8%9B%E0%B8%A5%E0%B8%A7%E0%B8%81&amp;action=edit&amp;redlink=1\" class=\"new\" title=\"วัดหนองหัวปลวก (ไม่มีหน้า)\">วัดหนองหัวปลวก<',\n",
       " '<li><a href=\"/w/index.php?title=%E0%B8%A7%E0%B8%B1%E0%B8%94%E0%B8%97%E0%B9%88%E0%B8%B2%E0%B8%9A%E0%B8%B1%E0%B8%A7%E0%B8%97%E0%B8%AD%E0%B8%87&amp;action=edit&amp;redlink=1\" class=\"new\" title=\"วัดท่าบัวทอง (ไม่มีหน้า)\">วัดท่าบัวทอง<',\n",
       " '<li><a href=\"/w/index.php?title=%E0%B8%A7%E0%B8%B1%E0%B8%94%E0%B8%97%E0%B9%88%E0%B8%B2%E0%B8%9E%E0%B8%B8%E0%B8%94%E0%B8%8B%E0%B8%B2&amp;action=edit&amp;redlink=1\" class=\"new\" title=\"วัดท่าพุดซา (ไม่มีหน้า)\">วัดท่าพุดซา<',\n",
       " '<li><a href=\"/w/index.php?title=%E0%B8%A7%E0%B8%B1%E0%B8%94%E0%B8%9A%E0%B8%B6%E0%B8%87%E0%B9%82%E0%B8%9E%E0%B8%98%E0%B8%B4%E0%B9%8C&amp;action=edit&amp;redlink=1\" class=\"new\" title=\"วัดบึงโพธิ์ (ไม่มีหน้า)\">วัดบึงโพธิ์<',\n",
       " '<li><a href=\"/wiki/%E0%B8%A7%E0%B8%B1%E0%B8%94%E0%B9%82%E0%B8%9E%E0%B8%98%E0%B8%B4%E0%B9%8C%E0%B8%9B%E0%B8%A3%E0%B8%B0%E0%B8%97%E0%B8%B1%E0%B8%9A%E0%B8%8A%E0%B9%89%E0%B8%B2%E0%B8%87\" title=\"วัดโพธิ์ประทับช้าง\">วัดโพธิ์ประทับช้าง<',\n",
       " '<li><a href=\"/w/index.php?title=%E0%B8%A7%E0%B8%B1%E0%B8%94%E0%B8%AB%E0%B8%99%E0%B8%AD%E0%B8%87%E0%B8%95%E0%B9%89%E0%B8%99%E0%B9%84%E0%B8%97%E0%B8%A3&amp;action=edit&amp;redlink=1\" class=\"new\" title=\"วัดหนองต้นไทร (ไม่มีหน้า)\">วัดหนองต้นไทร<',\n",
       " '<li><a href=\"/w/index.php?title=%E0%B8%A7%E0%B8%B1%E0%B8%94%E0%B8%97%E0%B9%88%E0%B8%B2%E0%B8%95%E0%B8%B3%E0%B8%AB%E0%B8%99%E0%B8%B1%E0%B8%81&amp;action=edit&amp;redlink=1\" class=\"new\" title=\"วัดท่าตำหนัก (ไม่มีหน้า)\">วัดท่าตำหนัก<',\n",
       " '<li><a href=\"/w/index.php?title=%E0%B8%A7%E0%B8%B1%E0%B8%94%E0%B8%94%E0%B8%B2%E0%B8%99%E0%B8%99%E0%B9%89%E0%B8%AD%E0%B8%A2&amp;action=edit&amp;redlink=1\" class=\"new\" title=\"วัดดานน้อย (ไม่มีหน้า)\">วัดดานน้อย<',\n",
       " '<li><a href=\"/w/index.php?title=%E0%B8%A7%E0%B8%B1%E0%B8%94%E0%B8%A2%E0%B9%88%E0%B8%B2%E0%B8%99%E0%B8%A2%E0%B8%B2%E0%B8%A7&amp;action=edit&amp;redlink=1\" class=\"new\" title=\"วัดย่านยาว (ไม่มีหน้า)\">วัดย่านยาว<',\n",
       " '<li><a href=\"/wiki/%E0%B8%A7%E0%B8%B1%E0%B8%94%E0%B8%A3%E0%B8%B2%E0%B8%A9%E0%B8%8E%E0%B8%A3%E0%B9%8C%E0%B8%9A%E0%B8%B9%E0%B8%A3%E0%B8%93%E0%B8%B0\" class=\"mw-redirect mw-disambig\" title=\"วัดราษฎร์บูรณะ\">วัดราษฎร์บูรณะ<',\n",
       " '<li><a href=\"/w/index.php?title=%E0%B8%A7%E0%B8%B1%E0%B8%94%E0%B8%A7%E0%B8%B1%E0%B8%87%E0%B8%88%E0%B8%B4%E0%B8%81&amp;action=edit&amp;redlink=1\" class=\"new\" title=\"วัดวังจิก (ไม่มีหน้า)\">วัดวังจิก<',\n",
       " '<li><a href=\"/w/index.php?title=%E0%B8%A7%E0%B8%B1%E0%B8%94%E0%B8%A7%E0%B8%B1%E0%B8%87%E0%B9%80%E0%B8%97%E0%B9%82%E0%B8%9E&amp;action=edit&amp;redlink=1\" class=\"new\" title=\"วัดวังเทโพ (ไม่มีหน้า)\">วัดวังเทโพ<',\n",
       " '<li><a href=\"/w/index.php?title=%E0%B8%A7%E0%B8%B1%E0%B8%94%E0%B8%84%E0%B8%A5%E0%B8%AD%E0%B8%87%E0%B8%84%E0%B8%B0%E0%B9%80%E0%B8%8A%E0%B8%99%E0%B8%97%E0%B8%A3%E0%B9%8C&amp;action=edit&amp;redlink=1\" class=\"new\" title=\"วัดคลองคะเชนทร์ (ไม่มีหน้า)\">วัดคลองคะเชนทร์<',\n",
       " '<li><a href=\"/w/index.php?title=%E0%B8%A7%E0%B8%B1%E0%B8%94%E0%B8%84%E0%B8%A5%E0%B8%AD%E0%B8%87%E0%B9%82%E0%B8%99%E0%B8%99&amp;action=edit&amp;redlink=1\" class=\"new\" title=\"วัดคลองโนน (ไม่มีหน้า)\">วัดคลองโนน<',\n",
       " '<li><a href=\"/w/index.php?title=%E0%B8%A7%E0%B8%B1%E0%B8%94%E0%B8%94%E0%B8%87%E0%B8%8A%E0%B8%B0%E0%B8%9E%E0%B8%A5%E0%B8%B9&amp;action=edit&amp;redlink=1\" class=\"new\" title=\"วัดดงชะพลู (ไม่มีหน้า)\">วัดดงชะพลู<',\n",
       " '<li><a href=\"/w/index.php?title=%E0%B8%A7%E0%B8%B1%E0%B8%94%E0%B8%96%E0%B9%89%E0%B8%B3%E0%B8%8A%E0%B8%B2%E0%B8%A5%E0%B8%B0%E0%B8%A7%E0%B8%B1%E0%B8%99&amp;action=edit&amp;redlink=1\" class=\"new\" title=\"วัดถ้ำชาละวัน (ไม่มีหน้า)\">วัดถ้ำชาละวัน<',\n",
       " '<li><a href=\"/w/index.php?title=%E0%B8%A7%E0%B8%B1%E0%B8%94%E0%B8%A1%E0%B8%B9%E0%B8%A5%E0%B9%80%E0%B8%AB%E0%B8%A5%E0%B9%87%E0%B8%81&amp;action=edit&amp;redlink=1\" class=\"new\" title=\"วัดมูลเหล็ก (ไม่มีหน้า)\">วัดมูลเหล็ก<',\n",
       " '<li><a href=\"/w/index.php?title=%E0%B8%A7%E0%B8%B1%E0%B8%94%E0%B9%82%E0%B8%9B%E0%B8%A3%E0%B9%88%E0%B8%87%E0%B8%A3%E0%B8%B2%E0%B8%A9%E0%B8%8E%E0%B8%A3%E0%B9%8C&amp;action=edit&amp;redlink=1\" class=\"new\" title=\"วัดโปร่งราษฎร์ (ไม่มีหน้า)\">วัดโปร่งราษฎร์<',\n",
       " '<li><a href=\"/w/index.php?title=%E0%B8%A7%E0%B8%B1%E0%B8%94%E0%B8%AB%E0%B8%99%E0%B8%AD%E0%B8%87%E0%B8%88%E0%B8%B1%E0%B9%88%E0%B8%A7&amp;action=edit&amp;redlink=1\" class=\"new\" title=\"วัดหนองจั่ว (ไม่มีหน้า)\">วัดหนองจั่ว<',\n",
       " '<li><a href=\"/w/index.php?title=%E0%B8%A7%E0%B8%B1%E0%B8%94%E0%B8%AB%E0%B8%99%E0%B8%AD%E0%B8%87%E0%B8%95%E0%B9%89%E0%B8%99%E0%B8%9E%E0%B8%A5%E0%B8%A7%E0%B8%87&amp;action=edit&amp;redlink=1\" class=\"new\" title=\"วัดหนองต้นพลวง (ไม่มีหน้า)\">วัดหนองต้นพลวง<',\n",
       " '<li><a href=\"/w/index.php?title=%E0%B8%A7%E0%B8%B1%E0%B8%94%E0%B8%AB%E0%B8%99%E0%B8%AD%E0%B8%87%E0%B8%AA%E0%B8%B2%E0%B8%AB%E0%B8%A3%E0%B9%88%E0%B8%B2%E0%B8%A2&amp;action=edit&amp;redlink=1\" class=\"new\" title=\"วัดหนองสาหร่าย (ไม่มีหน้า)\">วัดหนองสาหร่าย<',\n",
       " '<li><a href=\"/w/index.php?title=%E0%B8%A7%E0%B8%B1%E0%B8%94%E0%B8%86%E0%B8%B0%E0%B8%A1%E0%B8%B1%E0%B8%87&amp;action=edit&amp;redlink=1\" class=\"new\" title=\"วัดฆะมัง (ไม่มีหน้า)\">วัดฆะมัง<',\n",
       " '<li><a href=\"/w/index.php?title=%E0%B8%A7%E0%B8%B1%E0%B8%94%E0%B8%9A%E0%B8%B2%E0%B8%87%E0%B9%80%E0%B8%9E%E0%B8%B5%E0%B8%A2%E0%B8%A3%E0%B8%A7%E0%B8%B4%E0%B8%A5%E0%B8%B1%E0%B8%A2%E0%B8%A3%E0%B8%B1%E0%B8%95%E0%B8%99%E0%B9%8C&amp;action=edit&amp;redlink=1\" class=\"new\" title=\"วัดบางเพียรวิลัยรัตน์ (ไม่มีหน้า)\">วัดบางเพียรวิลัยรัตน์<',\n",
       " '<li><a href=\"/w/index.php?title=%E0%B8%A7%E0%B8%B1%E0%B8%94%E0%B9%80%E0%B8%9B%E0%B8%B5%E0%B9%88%E0%B8%A2%E0%B8%A1%E0%B9%80%E0%B8%88%E0%B8%A3%E0%B8%B4%E0%B8%8D%E0%B8%A3%E0%B8%B2%E0%B8%A9%E0%B8%8E%E0%B8%A3%E0%B9%8C&amp;action=edit&amp;redlink=1\" class=\"new\" title=\"วัดเปี่ยมเจริญราษฎร์ (ไม่มีหน้า)\">วัดเปี่ยมเจริญราษฎร์<',\n",
       " '<li><a href=\"/w/index.php?title=%E0%B8%A7%E0%B8%B1%E0%B8%94%E0%B8%AA%E0%B8%B2%E0%B8%A1%E0%B8%82%E0%B8%B2&amp;action=edit&amp;redlink=1\" class=\"new\" title=\"วัดสามขา (ไม่มีหน้า)\">วัดสามขา<',\n",
       " '<li><a href=\"/wiki/%E0%B8%A7%E0%B8%B1%E0%B8%94%E0%B9%80%E0%B8%82%E0%B8%B2%E0%B8%A3%E0%B8%B9%E0%B8%9B%E0%B8%8A%E0%B9%89%E0%B8%B2%E0%B8%87\" class=\"mw-disambig\" title=\"วัดเขารูปช้าง\">วัดเขารูปช้าง<',\n",
       " '<li><a href=\"/w/index.php?title=%E0%B8%A7%E0%B8%B1%E0%B8%94%E0%B8%94%E0%B8%87%E0%B8%81%E0%B8%A5%E0%B8%B2%E0%B8%87&amp;action=edit&amp;redlink=1\" class=\"new\" title=\"วัดดงกลาง (ไม่มีหน้า)\">วัดดงกลาง<',\n",
       " '<li><a href=\"/w/index.php?title=%E0%B8%A7%E0%B8%B1%E0%B8%94%E0%B8%94%E0%B8%87%E0%B8%9B%E0%B9%88%E0%B8%B2%E0%B8%84%E0%B8%B3&amp;action=edit&amp;redlink=1\" class=\"new\" title=\"วัดดงป่าคำ (ไม่มีหน้า)\">วัดดงป่าคำ<',\n",
       " '<li><a href=\"/w/index.php?title=%E0%B8%A7%E0%B8%B1%E0%B8%94%E0%B8%A1%E0%B8%87%E0%B8%84%E0%B8%A5%E0%B9%80%E0%B8%82%E0%B8%95&amp;action=edit&amp;redlink=1\" class=\"new\" title=\"วัดมงคลเขต (ไม่มีหน้า)\">วัดมงคลเขต<',\n",
       " '<li><a href=\"/w/index.php?title=%E0%B8%A7%E0%B8%B1%E0%B8%94%E0%B8%A7%E0%B8%B1%E0%B8%87%E0%B8%AB%E0%B8%B9%E0%B8%97%E0%B8%B4%E0%B8%9E%E0%B8%A2%E0%B9%8C&amp;action=edit&amp;redlink=1\" class=\"new\" title=\"วัดวังหูทิพย์ (ไม่มีหน้า)\">วัดวังหูทิพย์<',\n",
       " '<li><a href=\"/w/index.php?title=%E0%B8%A7%E0%B8%B1%E0%B8%94%E0%B9%83%E0%B8%AB%E0%B8%A1%E0%B9%88%E0%B8%84%E0%B8%B3%E0%B8%A7%E0%B8%B1%E0%B8%99&amp;action=edit&amp;redlink=1\" class=\"new\" title=\"วัดใหม่คำวัน (ไม่มีหน้า)\">วัดใหม่คำวัน<',\n",
       " '<li><a href=\"/w/index.php?title=%E0%B8%A7%E0%B8%B1%E0%B8%94%E0%B8%AD%E0%B8%B9%E0%B9%88%E0%B8%95%E0%B8%B0%E0%B9%80%E0%B8%A0%E0%B8%B2&amp;action=edit&amp;redlink=1\" class=\"new\" title=\"วัดอู่ตะเภา (ไม่มีหน้า)\">วัดอู่ตะเภา<',\n",
       " '<li><a href=\"/w/index.php?title=%E0%B8%A7%E0%B8%B1%E0%B8%94%E0%B8%97%E0%B9%88%E0%B8%B2%E0%B8%84%E0%B8%A5%E0%B9%89%E0%B8%AD&amp;action=edit&amp;redlink=1\" class=\"new\" title=\"วัดท่าคล้อ (ไม่มีหน้า)\">วัดท่าคล้อ<',\n",
       " '<li><a href=\"/w/index.php?title=%E0%B8%A7%E0%B8%B1%E0%B8%94%E0%B8%AB%E0%B8%99%E0%B8%AD%E0%B8%87%E0%B8%84%E0%B8%A5%E0%B9%89%E0%B8%B2&amp;action=edit&amp;redlink=1\" class=\"new\" title=\"วัดหนองคล้า (ไม่มีหน้า)\">วัดหนองคล้า<',\n",
       " '<li><a href=\"/w/index.php?title=%E0%B8%A7%E0%B8%B1%E0%B8%94%E0%B8%AB%E0%B8%99%E0%B8%AD%E0%B8%87%E0%B8%95%E0%B8%B0%E0%B9%80%E0%B8%84%E0%B8%B5%E0%B8%A2%E0%B8%99&amp;action=edit&amp;redlink=1\" class=\"new\" title=\"วัดหนองตะเคียน (ไม่มีหน้า)\">วัดหนองตะเคียน<',\n",
       " '<li><a href=\"/w/index.php?title=%E0%B8%A7%E0%B8%B1%E0%B8%94%E0%B8%AB%E0%B8%99%E0%B8%AD%E0%B8%87%E0%B8%AA%E0%B8%AD%E0%B8%87%E0%B8%AB%E0%B9%89%E0%B8%AD%E0%B8%87&amp;action=edit&amp;redlink=1\" class=\"new\" title=\"วัดหนองสองห้อง (ไม่มีหน้า)\">วัดหนองสองห้อง<',\n",
       " '<li><a href=\"/w/index.php?title=%E0%B8%A7%E0%B8%B1%E0%B8%94%E0%B8%84%E0%B8%A5%E0%B8%AD%E0%B8%87%E0%B8%84%E0%B8%B9%E0%B9%89&amp;action=edit&amp;redlink=1\" class=\"new\" title=\"วัดคลองคู้ (ไม่มีหน้า)\">วัดคลองคู้<',\n",
       " '<li><a href=\"/w/index.php?title=%E0%B8%A7%E0%B8%B1%E0%B8%94%E0%B8%9A%E0%B8%B6%E0%B8%87%E0%B8%95%E0%B8%B0%E0%B9%82%E0%B8%81%E0%B8%99&amp;action=edit&amp;redlink=1\" class=\"new\" title=\"วัดบึงตะโกน (ไม่มีหน้า)\">วัดบึงตะโกน<',\n",
       " '<li><a href=\"/w/index.php?title=%E0%B8%A7%E0%B8%B1%E0%B8%94%E0%B8%97%E0%B9%88%E0%B8%B2%E0%B8%AC%E0%B9%88%E0%B8%AD&amp;action=edit&amp;redlink=1\" class=\"new\" title=\"วัดท่าฬ่อ (ไม่มีหน้า)\">วัดท่าฬ่อ<',\n",
       " '<li><a href=\"/w/index.php?title=%E0%B8%A7%E0%B8%B1%E0%B8%94%E0%B8%A7%E0%B8%B1%E0%B8%87%E0%B8%A1%E0%B8%B0%E0%B9%80%E0%B8%94%E0%B8%B7%E0%B9%88%E0%B8%AD&amp;action=edit&amp;redlink=1\" class=\"new\" title=\"วัดวังมะเดื่อ (ไม่มีหน้า)\">วัดวังมะเดื่อ<',\n",
       " '<li><a href=\"/wiki/%E0%B8%A7%E0%B8%B1%E0%B8%94%E0%B8%A7%E0%B8%B1%E0%B8%87%E0%B8%81%E0%B8%A5%E0%B8%A1\" title=\"วัดวังกลม\">วัดวังกลม<',\n",
       " '<li><a href=\"/w/index.php?title=%E0%B8%A7%E0%B8%B1%E0%B8%94%E0%B8%AB%E0%B8%99%E0%B8%AD%E0%B8%87%E0%B9%84%E0%B8%9C%E0%B9%88&amp;action=edit&amp;redlink=1\" class=\"new\" title=\"วัดหนองไผ่ (ไม่มีหน้า)\">วัดหนองไผ่<',\n",
       " '<li><a href=\"/w/index.php?title=%E0%B8%A7%E0%B8%B1%E0%B8%94%E0%B8%A3%E0%B8%B2%E0%B8%8A%E0%B8%8A%E0%B9%89%E0%B8%B2%E0%B8%87%E0%B8%82%E0%B8%A7%E0%B8%B1%E0%B8%8D&amp;action=edit&amp;redlink=1\" class=\"new\" title=\"วัดราชช้างขวัญ (ไม่มีหน้า)\">วัดราชช้างขวัญ<',\n",
       " '<li><a href=\"/w/index.php?title=%E0%B8%A7%E0%B8%B1%E0%B8%94%E0%B8%A7%E0%B8%B4%E0%B8%88%E0%B8%B4%E0%B8%95%E0%B8%A3%E0%B8%B2%E0%B8%A3%E0%B8%B2%E0%B8%A1&amp;action=edit&amp;redlink=1\" class=\"new\" title=\"วัดวิจิตราราม (ไม่มีหน้า)\">วัดวิจิตราราม<',\n",
       " '<li><a href=\"/w/index.php?title=%E0%B8%A7%E0%B8%B1%E0%B8%94%E0%B8%97%E0%B9%88%E0%B8%B2%E0%B8%A1%E0%B8%B0%E0%B9%84%E0%B8%9F&amp;action=edit&amp;redlink=1\" class=\"new\" title=\"วัดท่ามะไฟ (ไม่มีหน้า)\">วัดท่ามะไฟ<',\n",
       " '<li><a href=\"/w/index.php?title=%E0%B8%A7%E0%B8%B1%E0%B8%94%E0%B9%80%E0%B8%99%E0%B8%B4%E0%B8%99%E0%B8%AA%E0%B8%A1%E0%B8%AD&amp;action=edit&amp;redlink=1\" class=\"new\" title=\"วัดเนินสมอ (ไม่มีหน้า)\">วัดเนินสมอ<',\n",
       " '<li><a href=\"/w/index.php?title=%E0%B8%A7%E0%B8%B1%E0%B8%94%E0%B8%9B%E0%B9%88%E0%B8%B2%E0%B8%A1%E0%B8%B0%E0%B8%84%E0%B8%B2%E0%B8%9A&amp;action=edit&amp;redlink=1\" class=\"new\" title=\"วัดป่ามะคาบ (ไม่มีหน้า)\">วัดป่ามะคาบ<',\n",
       " '<li><a href=\"/wiki/%E0%B8%A7%E0%B8%B1%E0%B8%94%E0%B9%82%E0%B8%9E%E0%B8%98%E0%B8%B4%E0%B9%8C%E0%B8%87%E0%B8%B2%E0%B8%A1\" class=\"mw-disambig\" title=\"วัดโพธิ์งาม\">วัดโพธิ์งาม<',\n",
       " '<li><a href=\"/w/index.php?title=%E0%B8%A7%E0%B8%B1%E0%B8%94%E0%B8%A2%E0%B8%B2%E0%B8%87%E0%B8%84%E0%B8%AD%E0%B8%A2%E0%B9%80%E0%B8%81%E0%B8%A5%E0%B8%B7%E0%B8%AD&amp;action=edit&amp;redlink=1\" class=\"new\" title=\"วัดยางคอยเกลือ (ไม่มีหน้า)\">วัดยางคอยเกลือ<',\n",
       " '<li><a href=\"/w/index.php?title=%E0%B8%A7%E0%B8%B1%E0%B8%94%E0%B8%AA%E0%B8%A3%E0%B8%B0%E0%B8%AA%E0%B8%B2%E0%B8%A5%E0%B8%B5&amp;action=edit&amp;redlink=1\" class=\"new\" title=\"วัดสระสาลี (ไม่มีหน้า)\">วัดสระสาลี<',\n",
       " '<li><a href=\"/w/index.php?title=%E0%B8%A7%E0%B8%B1%E0%B8%94%E0%B8%AB%E0%B8%99%E0%B8%AD%E0%B8%87%E0%B8%96%E0%B9%89%E0%B8%B3&amp;action=edit&amp;redlink=1\" class=\"new\" title=\"วัดหนองถ้ำ (ไม่มีหน้า)\">วัดหนองถ้ำ<',\n",
       " '<li><a href=\"/w/index.php?title=%E0%B8%A7%E0%B8%B1%E0%B8%94%E0%B9%81%E0%B8%AB%E0%B8%A5%E0%B8%A1%E0%B8%A2%E0%B8%B2%E0%B8%87&amp;action=edit&amp;redlink=1\" class=\"new\" title=\"วัดแหลมยาง (ไม่มีหน้า)\">วัดแหลมยาง<',\n",
       " '<li><a href=\"/w/index.php?title=%E0%B8%A7%E0%B8%B1%E0%B8%94%E0%B8%94%E0%B8%B2%E0%B8%99&amp;action=edit&amp;redlink=1\" class=\"new\" title=\"วัดดาน (ไม่มีหน้า)\">วัดดาน<',\n",
       " '<li><a href=\"/w/index.php?title=%E0%B8%A7%E0%B8%B1%E0%B8%94%E0%B8%82%E0%B8%99%E0%B8%B8%E0%B8%99&amp;action=edit&amp;redlink=1\" class=\"new\" title=\"วัดขนุน (ไม่มีหน้า)\">วัดขนุน<',\n",
       " '<li><a href=\"/w/index.php?title=%E0%B8%A7%E0%B8%B1%E0%B8%94%E0%B9%80%E0%B8%82%E0%B8%B7%E0%B9%88%E0%B8%AD%E0%B8%99&amp;action=edit&amp;redlink=1\" class=\"new\" title=\"วัดเขื่อน (ไม่มีหน้า)\">วัดเขื่อน<',\n",
       " '<li><a href=\"/w/index.php?title=%E0%B8%A7%E0%B8%B1%E0%B8%94%E0%B8%97%E0%B9%88%E0%B8%B2%E0%B8%82%E0%B9%88%E0%B8%AD%E0%B8%A2&amp;action=edit&amp;redlink=1\" class=\"new\" title=\"วัดท่าข่อย (ไม่มีหน้า)\">วัดท่าข่อย<',\n",
       " '<li><a href=\"/w/index.php?title=%E0%B8%A7%E0%B8%B1%E0%B8%94%E0%B8%99%E0%B8%84%E0%B8%A3%E0%B8%8A%E0%B8%B8%E0%B8%A1&amp;action=edit&amp;redlink=1\" class=\"new\" title=\"วัดนครชุม (ไม่มีหน้า)\">วัดนครชุม<',\n",
       " '<li><a href=\"/w/index.php?title=%E0%B8%A7%E0%B8%B1%E0%B8%94%E0%B8%9B%E0%B8%A3%E0%B8%B0%E0%B8%97%E0%B8%A1&amp;action=edit&amp;redlink=1\" class=\"new\" title=\"วัดประทม (ไม่มีหน้า)\">วัดประทม<',\n",
       " '<li><a href=\"/w/index.php?title=%E0%B8%A7%E0%B8%B1%E0%B8%94%E0%B8%AA%E0%B8%A1%E0%B8%B2%E0%B8%9A%E0%B8%B2%E0%B8%9B&amp;action=edit&amp;redlink=1\" class=\"new\" title=\"วัดสมาบาป (ไม่มีหน้า)\">วัดสมาบาป<',\n",
       " '<li><a href=\"/w/index.php?title=%E0%B8%A7%E0%B8%B1%E0%B8%94%E0%B9%82%E0%B8%99%E0%B8%99%E0%B8%AB%E0%B9%89%E0%B8%A7%E0%B8%A2%E0%B8%9B%E0%B8%B1%E0%B8%95&amp;action=edit&amp;redlink=1\" class=\"new\" title=\"วัดโนนห้วยปัต (ไม่มีหน้า)\">วัดโนนห้วยปัต<',\n",
       " '<li><a href=\"/w/index.php?title=%E0%B8%A7%E0%B8%B1%E0%B8%94%E0%B8%A7%E0%B8%B1%E0%B8%87%E0%B8%81%E0%B8%A3%E0%B8%B0%E0%B8%94%E0%B8%B5%E0%B9%88%E0%B8%97%E0%B8%AD%E0%B8%87&amp;action=edit&amp;redlink=1\" class=\"new\" title=\"วัดวังกระดี่ทอง (ไม่มีหน้า)\">วัดวังกระดี่ทอง<',\n",
       " '<li><a href=\"/wiki/%E0%B8%A7%E0%B8%B1%E0%B8%94%E0%B8%AB%E0%B8%87%E0%B8%A9%E0%B9%8C_(%E0%B8%88%E0%B8%B1%E0%B8%87%E0%B8%AB%E0%B8%A7%E0%B8%B1%E0%B8%94%E0%B8%9E%E0%B8%B4%E0%B8%88%E0%B8%B4%E0%B8%95%E0%B8%A3)\" title=\"วัดหงษ์ (จังหวัดพิจิตร)\">วัดหงษ์<',\n",
       " '<li><a href=\"/w/index.php?title=%E0%B8%A7%E0%B8%B1%E0%B8%94%E0%B8%AB%E0%B8%B2%E0%B8%94%E0%B8%A1%E0%B8%B9%E0%B8%A5%E0%B8%81%E0%B8%A3%E0%B8%B0%E0%B8%9A%E0%B8%B7%E0%B8%AD&amp;action=edit&amp;redlink=1\" class=\"new\" title=\"วัดหาดมูลกระบือ (ไม่มีหน้า)\">วัดหาดมูลกระบือ<',\n",
       " '<li><a href=\"/wiki/%E0%B8%A7%E0%B8%B1%E0%B8%94%E0%B8%84%E0%B8%A5%E0%B8%AD%E0%B8%87%E0%B9%82%E0%B8%9E%E0%B8%98%E0%B8%B4%E0%B9%8C\" class=\"mw-disambig\" title=\"วัดคลองโพธิ์\">วัดคลองโพธิ์<',\n",
       " '<li><a href=\"/w/index.php?title=%E0%B8%A7%E0%B8%B1%E0%B8%94%E0%B9%82%E0%B8%A3%E0%B8%87%E0%B8%8A%E0%B9%89%E0%B8%B2%E0%B8%87&amp;action=edit&amp;redlink=1\" class=\"new\" title=\"วัดโรงช้าง (ไม่มีหน้า)\">วัดโรงช้าง<',\n",
       " '<li><a href=\"/w/index.php?title=%E0%B8%A7%E0%B8%B1%E0%B8%94%E0%B8%96%E0%B9%89%E0%B8%B3%E0%B8%84%E0%B8%B0%E0%B8%99%E0%B8%AD%E0%B8%87&amp;action=edit&amp;redlink=1\" class=\"new\" title=\"วัดถ้ำคะนอง (ไม่มีหน้า)\">วัดถ้ำคะนอง<',\n",
       " '<li><a href=\"/w/index.php?title=%E0%B8%A7%E0%B8%B1%E0%B8%94%E0%B8%97%E0%B9%88%E0%B8%B2%E0%B8%9E%E0%B8%B4%E0%B8%81%E0%B8%B8%E0%B8%A5&amp;action=edit&amp;redlink=1\" class=\"new\" title=\"วัดท่าพิกุล (ไม่มีหน้า)\">วัดท่าพิกุล<',\n",
       " '<li><a href=\"/w/index.php?title=%E0%B8%A7%E0%B8%B1%E0%B8%94%E0%B8%9B%E0%B8%B2%E0%B8%81%E0%B8%94%E0%B8%87&amp;action=edit&amp;redlink=1\" class=\"new\" title=\"วัดปากดง (ไม่มีหน้า)\">วัดปากดง<',\n",
       " '<li><a href=\"/w/index.php?title=%E0%B8%A7%E0%B8%B1%E0%B8%94%E0%B8%AA%E0%B8%B2%E0%B8%81%E0%B9%80%E0%B8%AB%E0%B8%A5%E0%B9%87%E0%B8%81&amp;action=edit&amp;redlink=1\" class=\"new\" title=\"วัดสากเหล็ก (ไม่มีหน้า)\">วัดสากเหล็ก<',\n",
       " '<li><a href=\"/w/index.php?title=%E0%B8%A7%E0%B8%B1%E0%B8%94%E0%B8%94%E0%B8%87%E0%B8%AA%E0%B8%A7%E0%B9%88%E0%B8%B2%E0%B8%87&amp;action=edit&amp;redlink=1\" class=\"new\" title=\"วัดดงสว่าง (ไม่มีหน้า)\">วัดดงสว่าง<',\n",
       " '<li><a href=\"/w/index.php?title=%E0%B8%A7%E0%B8%B1%E0%B8%94%E0%B8%9A%E0%B9%89%E0%B8%B2%E0%B8%99%E0%B8%99%E0%B9%89%E0%B8%AD%E0%B8%A2&amp;action=edit&amp;redlink=1\" class=\"new\" title=\"วัดบ้านน้อย (ไม่มีหน้า)\">วัดบ้านน้อย<',\n",
       " '<li><a href=\"/w/index.php?title=%E0%B8%A7%E0%B8%B1%E0%B8%94%E0%B8%AA%E0%B8%B2%E0%B8%A2%E0%B8%84%E0%B8%B3%E0%B9%82%E0%B8%AB%E0%B9%89&amp;action=edit&amp;redlink=1\" class=\"new\" title=\"วัดสายคำโห้ (ไม่มีหน้า)\">วัดสายคำโห้<',\n",
       " '<li><a href=\"/w/index.php?title=%E0%B8%A7%E0%B8%B1%E0%B8%94%E0%B9%80%E0%B8%82%E0%B8%B2%E0%B8%9E%E0%B8%A3%E0%B8%B0&amp;action=edit&amp;redlink=1\" class=\"new\" title=\"วัดเขาพระ (ไม่มีหน้า)\">วัดเขาพระ<',\n",
       " '<li><a href=\"/w/index.php?title=%E0%B8%A7%E0%B8%B1%E0%B8%94%E0%B8%99%E0%B9%89%E0%B8%B3%E0%B9%82%E0%B8%88%E0%B8%99%E0%B9%80%E0%B8%AB%E0%B8%99%E0%B8%B7%E0%B8%AD&amp;action=edit&amp;redlink=1\" class=\"new\" title=\"วัดน้ำโจนเหนือ (ไม่มีหน้า)\">วัดน้ำโจนเหนือ<',\n",
       " '<li><a href=\"/w/index.php?title=%E0%B8%A7%E0%B8%B1%E0%B8%94%E0%B9%80%E0%B8%99%E0%B8%B4%E0%B8%99%E0%B8%A2%E0%B8%B2%E0%B8%A7&amp;action=edit&amp;redlink=1\" class=\"new\" title=\"วัดเนินยาว (ไม่มีหน้า)\">วัดเนินยาว<',\n",
       " '<li><a href=\"/w/index.php?title=%E0%B8%A7%E0%B8%B1%E0%B8%94%E0%B8%A5%E0%B8%B3%E0%B8%8A%E0%B8%B0%E0%B8%A5%E0%B9%88%E0%B8%B2&amp;action=edit&amp;redlink=1\" class=\"new\" title=\"วัดลำชะล่า (ไม่มีหน้า)\">วัดลำชะล่า<',\n",
       " '<li><a href=\"/w/index.php?title=%E0%B8%A7%E0%B8%B1%E0%B8%94%E0%B8%A8%E0%B8%A3%E0%B8%B5%E0%B8%A1%E0%B8%87%E0%B8%84%E0%B8%A5&amp;action=edit&amp;redlink=1\" class=\"new\" title=\"วัดศรีมงคล (ไม่มีหน้า)\">วัดศรีมงคล<',\n",
       " '<li><a href=\"/w/index.php?title=%E0%B8%A7%E0%B8%B1%E0%B8%94%E0%B8%AB%E0%B8%99%E0%B8%AD%E0%B8%87%E0%B8%99%E0%B8%B2%E0%B8%94%E0%B8%B3&amp;action=edit&amp;redlink=1\" class=\"new\" title=\"วัดหนองนาดำ (ไม่มีหน้า)\">วัดหนองนาดำ<',\n",
       " '<li><a href=\"/w/index.php?title=%E0%B8%A7%E0%B8%B1%E0%B8%94%E0%B8%AB%E0%B8%B1%E0%B8%A7%E0%B8%94%E0%B8%87&amp;action=edit&amp;redlink=1\" class=\"new\" title=\"วัดหัวดง (ไม่มีหน้า)\">วัดหัวดง<',\n",
       " '<li><a href=\"/w/index.php?title=%E0%B8%A7%E0%B8%B1%E0%B8%94%E0%B8%81%E0%B8%A3%E0%B8%94%E0%B8%87%E0%B8%B2%E0%B8%A1&amp;action=edit&amp;redlink=1\" class=\"new\" title=\"วัดกรดงาม (ไม่มีหน้า)\">วัดกรดงาม<',\n",
       " '<li><a href=\"/w/index.php?title=%E0%B8%A7%E0%B8%B1%E0%B8%94%E0%B8%94%E0%B8%87%E0%B8%A2%E0%B8%B2%E0%B8%87%E0%B8%9C%E0%B8%B2%E0%B8%AA%E0%B8%B8%E0%B8%81%E0%B8%B2%E0%B8%A3%E0%B8%B2%E0%B8%A1&amp;action=edit&amp;redlink=1\" class=\"new\" title=\"วัดดงยางผาสุการาม (ไม่มีหน้า)\">วัดดงยางผาสุการาม<',\n",
       " '<li><a href=\"/w/index.php?title=%E0%B8%A7%E0%B8%B1%E0%B8%94%E0%B8%99%E0%B8%B4%E0%B8%84%E0%B8%A1%E0%B8%AA%E0%B8%B2%E0%B8%A1%E0%B8%B1%E0%B8%84%E0%B8%84%E0%B8%B5%E0%B8%98%E0%B8%A3%E0%B8%A3%E0%B8%A1&amp;action=edit&amp;redlink=1\" class=\"new\" title=\"วัดนิคมสามัคคีธรรม (ไม่มีหน้า)\">วัดนิคมสามัคคีธรรม<',\n",
       " '<li><a href=\"/wiki/%E0%B8%A7%E0%B8%B1%E0%B8%94%E0%B8%9A%E0%B9%89%E0%B8%B2%E0%B8%99%E0%B8%99%E0%B8%B2\" title=\"วัดบ้านนา\">วัดบ้านนา<',\n",
       " '<li><a href=\"/w/index.php?title=%E0%B8%A7%E0%B8%B1%E0%B8%94%E0%B8%9A%E0%B9%89%E0%B8%B2%E0%B8%99%E0%B8%9A%E0%B8%B6%E0%B8%87%E0%B8%9A%E0%B8%B1%E0%B8%A7_(%E0%B8%9B%E0%B8%97%E0%B8%B8%E0%B8%A1%E0%B8%A3%E0%B8%B1%E0%B8%95%E0%B8%99%E0%B8%B2%E0%B8%A3%E0%B8%B2%E0%B8%A1)&amp;action=edit&amp;redlink=1\" class=\"new\" title=\"วัดบ้านบึงบัว (ปทุมรัตนาราม) (ไม่มีหน้า)\">วัดบ้านบึงบัว (ปทุมรัตนาราม)<',\n",
       " '<li><a href=\"/w/index.php?title=%E0%B8%A7%E0%B8%B1%E0%B8%94%E0%B8%9A%E0%B8%B6%E0%B8%87%E0%B8%9A%E0%B8%B1%E0%B8%A7&amp;action=edit&amp;redlink=1\" class=\"new\" title=\"วัดบึงบัว (ไม่มีหน้า)\">วัดบึงบัว<',\n",
       " '<li><a href=\"/w/index.php?title=%E0%B8%A7%E0%B8%B1%E0%B8%94%E0%B8%A2%E0%B8%B2%E0%B8%87%E0%B9%82%E0%B8%97%E0%B8%99%E0%B8%A7%E0%B8%99%E0%B8%B2%E0%B8%A3%E0%B8%B2%E0%B8%A1&amp;action=edit&amp;redlink=1\" class=\"new\" title=\"วัดยางโทนวนาราม (ไม่มีหน้า)\">วัดยางโทนวนาราม<',\n",
       " '<li><a href=\"/w/index.php?title=%E0%B8%A7%E0%B8%B1%E0%B8%94%E0%B8%A2%E0%B8%B2%E0%B8%87%E0%B9%82%E0%B8%97%E0%B8%99%E0%B8%A7%E0%B8%99%E0%B8%B2%E0%B8%A3%E0%B8%B2%E0%B8%A1&amp;action=edit&amp;redlink=1\" class=\"new\" title=\"วัดยางโทนวนาราม (ไม่มีหน้า)\">วัดยางโทนวนาราม<',\n",
       " '<li><a href=\"/w/index.php?title=%E0%B8%A7%E0%B8%B1%E0%B8%94%E0%B8%AA%E0%B8%B8%E0%B8%99%E0%B8%97%E0%B8%A3%E0%B9%80%E0%B8%81%E0%B8%A9%E0%B8%95%E0%B8%A3%E0%B8%B2%E0%B8%A3%E0%B8%B2%E0%B8%A1&amp;action=edit&amp;redlink=1\" class=\"new\" title=\"วัดสุนทรเกษตราราม (ไม่มีหน้า)\">วัดสุนทรเกษตราราม<',\n",
       " '<li><a href=\"/w/index.php?title=%E0%B8%A7%E0%B8%B1%E0%B8%94%E0%B8%AB%E0%B8%99%E0%B8%AD%E0%B8%87%E0%B8%82%E0%B8%B2%E0%B8%A7&amp;action=edit&amp;redlink=1\" class=\"new\" title=\"วัดหนองขาว (ไม่มีหน้า)\">วัดหนองขาว<',\n",
       " '<li><a href=\"/w/index.php?title=%E0%B8%A7%E0%B8%B1%E0%B8%94%E0%B8%AB%E0%B8%99%E0%B8%AD%E0%B8%87%E0%B8%AA%E0%B8%B0%E0%B9%80%E0%B8%94%E0%B8%B2&amp;action=edit&amp;redlink=1\" class=\"new\" title=\"วัดหนองสะเดา (ไม่มีหน้า)\">วัดหนองสะเดา<',\n",
       " '<li><a href=\"/w/index.php?title=%E0%B8%A7%E0%B8%B1%E0%B8%94%E0%B8%AB%E0%B8%99%E0%B8%AD%E0%B8%87%E0%B8%AB%E0%B8%B9%E0%B8%8A%E0%B9%89%E0%B8%B2%E0%B8%87&amp;action=edit&amp;redlink=1\" class=\"new\" title=\"วัดหนองหูช้าง (ไม่มีหน้า)\">วัดหนองหูช้าง<',\n",
       " '<li><a href=\"/w/index.php?title=%E0%B8%A7%E0%B8%B1%E0%B8%94%E0%B8%AB%E0%B8%A5%E0%B8%B1%E0%B8%87%E0%B8%96%E0%B8%99%E0%B8%99%E0%B8%9B%E0%B8%A3%E0%B8%B0%E0%B8%8A%E0%B8%B2%E0%B8%AA%E0%B8%A3%E0%B8%A3%E0%B8%84%E0%B9%8C&amp;action=edit&amp;redlink=1\" class=\"new\" title=\"วัดหลังถนนประชาสรรค์ (ไม่มีหน้า)\">วัดหลังถนนประชาสรรค์<',\n",
       " '<li><a href=\"/w/index.php?title=%E0%B8%A7%E0%B8%B1%E0%B8%94%E0%B8%AB%E0%B8%A5%E0%B9%88%E0%B8%B2%E0%B8%A2%E0%B8%AB%E0%B8%99%E0%B8%AD%E0%B8%87%E0%B8%AB%E0%B8%A1%E0%B8%B5&amp;action=edit&amp;redlink=1\" class=\"new\" title=\"วัดหล่ายหนองหมี (ไม่มีหน้า)\">วัดหล่ายหนองหมี<',\n",
       " '<li><a href=\"/w/index.php?title=%E0%B8%A7%E0%B8%B1%E0%B8%94%E0%B8%A1%E0%B8%B2%E0%B8%9A%E0%B8%9D%E0%B8%B2%E0%B8%87%E0%B9%80%E0%B8%88%E0%B8%A3%E0%B8%B4%E0%B8%8D%E0%B8%AA%E0%B8%B8%E0%B8%82&amp;action=edit&amp;redlink=1\" class=\"new\" title=\"วัดมาบฝางเจริญสุข (ไม่มีหน้า)\">วัดมาบฝางเจริญสุข<',\n",
       " '<li><a href=\"/w/index.php?title=%E0%B8%A7%E0%B8%B1%E0%B8%94%E0%B8%A2%E0%B8%B2%E0%B8%87%E0%B8%95%E0%B8%B0%E0%B8%9E%E0%B8%B2%E0%B8%A2&amp;action=edit&amp;redlink=1\" class=\"new\" title=\"วัดยางตะพาย (ไม่มีหน้า)\">วัดยางตะพาย<',\n",
       " '<li><a href=\"/w/index.php?title=%E0%B8%A7%E0%B8%B1%E0%B8%94%E0%B8%94%E0%B8%87%E0%B8%A2%E0%B8%B2%E0%B8%87%E0%B8%AA%E0%B8%B2%E0%B8%A1%E0%B8%B1%E0%B8%84%E0%B8%84%E0%B8%B5%E0%B8%98%E0%B8%A3%E0%B8%A3%E0%B8%A1&amp;action=edit&amp;redlink=1\" class=\"new\" title=\"วัดดงยางสามัคคีธรรม (ไม่มีหน้า)\">วัดดงยางสามัคคีธรรม<',\n",
       " '<li><a href=\"/w/index.php?title=%E0%B8%A7%E0%B8%B1%E0%B8%94%E0%B8%A7%E0%B8%B1%E0%B8%87%E0%B9%82%E0%B8%A1%E0%B8%81%E0%B8%82%E0%B9%8C&amp;action=edit&amp;redlink=1\" class=\"new\" title=\"วัดวังโมกข์ (ไม่มีหน้า)\">วัดวังโมกข์<',\n",
       " '<li><a href=\"/w/index.php?title=%E0%B8%A7%E0%B8%B1%E0%B8%94%E0%B8%AA%E0%B8%A3%E0%B8%B0%E0%B8%9A%E0%B8%A3%E0%B9%80%E0%B8%9E%E0%B9%87%E0%B8%94&amp;action=edit&amp;redlink=1\" class=\"new\" title=\"วัดสระบรเพ็ด (ไม่มีหน้า)\">วัดสระบรเพ็ด<',\n",
       " '<li><a href=\"/w/index.php?title=%E0%B8%A7%E0%B8%B1%E0%B8%94%E0%B8%AB%E0%B8%99%E0%B8%AD%E0%B8%87%E0%B8%A3%E0%B8%B4%E0%B9%89%E0%B8%99&amp;action=edit&amp;redlink=1\" class=\"new\" title=\"วัดหนองริ้น (ไม่มีหน้า)\">วัดหนองริ้น<',\n",
       " '<li><a href=\"/w/index.php?title=%E0%B8%A7%E0%B8%B1%E0%B8%94%E0%B8%AB%E0%B8%99%E0%B8%AD%E0%B8%87%E0%B8%AB%E0%B8%8D%E0%B9%89%E0%B8%B2%E0%B8%9B%E0%B8%A5%E0%B9%89%E0%B8%AD%E0%B8%87&amp;action=edit&amp;redlink=1\" class=\"new\" title=\"วัดหนองหญ้าปล้อง (ไม่มีหน้า)\">วัดหนองหญ้าปล้อง<',\n",
       " '<li><a href=\"/w/index.php?title=%E0%B8%A7%E0%B8%B1%E0%B8%94%E0%B8%81%E0%B8%A5%E0%B8%B2%E0%B8%87%E0%B8%A7%E0%B8%87%E0%B8%A8%E0%B9%8C%E0%B8%A1%E0%B8%93%E0%B8%B5&amp;action=edit&amp;redlink=1\" class=\"new\" title=\"วัดกลางวงศ์มณี (ไม่มีหน้า)\">วัดกลางวงศ์มณี<',\n",
       " '<li><a href=\"/w/index.php?title=%E0%B8%A7%E0%B8%B1%E0%B8%94%E0%B9%80%E0%B8%88%E0%B8%A3%E0%B8%B4%E0%B8%8D%E0%B8%AA%E0%B8%B8%E0%B8%82%E0%B8%B2%E0%B8%A3%E0%B8%B2%E0%B8%A1&amp;action=edit&amp;redlink=1\" class=\"new\" title=\"วัดเจริญสุขาราม (ไม่มีหน้า)\">วัดเจริญสุขาราม<',\n",
       " '<li><a href=\"/w/index.php?title=%E0%B8%A7%E0%B8%B1%E0%B8%94%E0%B8%95%E0%B9%89%E0%B8%99%E0%B8%9B%E0%B8%A3%E0%B8%B0%E0%B8%94%E0%B8%B9%E0%B9%88&amp;action=edit&amp;redlink=1\" class=\"new\" title=\"วัดต้นประดู่ (ไม่มีหน้า)\">วัดต้นประดู่<',\n",
       " '<li><a href=\"/w/index.php?title=%E0%B8%A7%E0%B8%B1%E0%B8%94%E0%B9%82%E0%B8%99%E0%B8%99%E0%B8%97%E0%B8%AD%E0%B8%87&amp;action=edit&amp;redlink=1\" class=\"new\" title=\"วัดโนนทอง (ไม่มีหน้า)\">วัดโนนทอง<',\n",
       " '<li><a href=\"/w/index.php?title=%E0%B8%A7%E0%B8%B1%E0%B8%94%E0%B9%82%E0%B8%99%E0%B8%99%E0%B8%9B%E0%B9%88%E0%B8%B2%E0%B9%81%E0%B8%94%E0%B8%87&amp;action=edit&amp;redlink=1\" class=\"new\" title=\"วัดโนนป่าแดง (ไม่มีหน้า)\">วัดโนนป่าแดง<',\n",
       " '<li><a href=\"/w/index.php?title=%E0%B8%A7%E0%B8%B1%E0%B8%94%E0%B8%A2%E0%B8%B2%E0%B8%87%E0%B8%99%E0%B8%81%E0%B8%81%E0%B8%A3%E0%B8%B0%E0%B8%97%E0%B8%B8%E0%B8%87&amp;action=edit&amp;redlink=1\" class=\"new\" title=\"วัดยางนกกระทุง (ไม่มีหน้า)\">วัดยางนกกระทุง<',\n",
       " '<li><a href=\"/w/index.php?title=%E0%B8%A7%E0%B8%B1%E0%B8%94%E0%B8%A7%E0%B8%B1%E0%B8%87%E0%B8%95%E0%B8%B0%E0%B8%82%E0%B8%9A&amp;action=edit&amp;redlink=1\" class=\"new\" title=\"วัดวังตะขบ (ไม่มีหน้า)\">วัดวังตะขบ<',\n",
       " '<li><a href=\"/w/index.php?title=%E0%B8%A7%E0%B8%B1%E0%B8%94%E0%B8%AA%E0%B8%B8%E0%B8%82%E0%B9%80%E0%B8%81%E0%B8%A9%E0%B8%A1%E0%B8%AA%E0%B8%A7%E0%B9%88%E0%B8%B2%E0%B8%87%E0%B8%AD%E0%B8%B2%E0%B8%A3%E0%B8%A1%E0%B8%93%E0%B9%8C&amp;action=edit&amp;redlink=1\" class=\"new\" title=\"วัดสุขเกษมสว่างอารมณ์ (ไม่มีหน้า)\">วัดสุขเกษมสว่างอารมณ์<',\n",
       " '<li><a href=\"/w/index.php?title=%E0%B8%A7%E0%B8%B1%E0%B8%94%E0%B8%AB%E0%B8%99%E0%B8%AD%E0%B8%87%E0%B8%AB%E0%B8%A5%E0%B8%B8%E0%B8%A1&amp;action=edit&amp;redlink=1\" class=\"new\" title=\"วัดหนองหลุม (ไม่มีหน้า)\">วัดหนองหลุม<',\n",
       " '<li><a href=\"/w/index.php?title=%E0%B8%A7%E0%B8%B1%E0%B8%94%E0%B9%80%E0%B8%82%E0%B8%95%E0%B8%A1%E0%B8%87%E0%B8%84%E0%B8%A5&amp;action=edit&amp;redlink=1\" class=\"new\" title=\"วัดเขตมงคล (ไม่มีหน้า)\">วัดเขตมงคล<',\n",
       " '<li><a href=\"/w/index.php?title=%E0%B8%A7%E0%B8%B1%E0%B8%94%E0%B9%80%E0%B8%82%E0%B8%B2%E0%B9%80%E0%B8%82%E0%B8%95&amp;action=edit&amp;redlink=1\" class=\"new\" title=\"วัดเขาเขต (ไม่มีหน้า)\">วัดเขาเขต<',\n",
       " '<li><a href=\"/w/index.php?title=%E0%B8%A7%E0%B8%B1%E0%B8%94%E0%B8%95%E0%B8%B2%E0%B8%81%E0%B9%81%E0%B8%94%E0%B8%94&amp;action=edit&amp;redlink=1\" class=\"new\" title=\"วัดตากแดด (ไม่มีหน้า)\">วัดตากแดด<',\n",
       " '<li><a href=\"/w/index.php?title=%E0%B8%A7%E0%B8%B1%E0%B8%94%E0%B8%97%E0%B8%B8%E0%B9%88%E0%B8%87%E0%B9%82%E0%B8%A1%E0%B9%88%E0%B8%87&amp;action=edit&amp;redlink=1\" class=\"new\" title=\"วัดทุ่งโม่ง (ไม่มีหน้า)\">วัดทุ่งโม่ง<',\n",
       " '<li><a href=\"/w/index.php?title=%E0%B8%A7%E0%B8%B1%E0%B8%94%E0%B9%80%E0%B8%99%E0%B8%B4%E0%B8%99%E0%B8%AB%E0%B8%B1%E0%B8%A7%E0%B9%82%E0%B8%A5%E0%B9%89&amp;action=edit&amp;redlink=1\" class=\"new\" title=\"วัดเนินหัวโล้ (ไม่มีหน้า)\">วัดเนินหัวโล้<',\n",
       " '<li><a href=\"/w/index.php?title=%E0%B8%A7%E0%B8%B1%E0%B8%94%E0%B8%9A%E0%B8%B8%E0%B9%88%E0%B8%87%E0%B8%A1%E0%B8%B0%E0%B8%81%E0%B8%A3%E0%B8%B9%E0%B8%94&amp;action=edit&amp;redlink=1\" class=\"new\" title=\"วัดบุ่งมะกรูด (ไม่มีหน้า)\">วัดบุ่งมะกรูด<',\n",
       " '<li><a href=\"/w/index.php?title=%E0%B8%A7%E0%B8%B1%E0%B8%94%E0%B8%A7%E0%B8%B1%E0%B8%87%E0%B8%97%E0%B8%A3%E0%B8%B2%E0%B8%A2%E0%B8%9E%E0%B8%B9%E0%B8%99&amp;action=edit&amp;redlink=1\" class=\"new\" title=\"วัดวังทรายพูน (ไม่มีหน้า)\">วัดวังทรายพูน<',\n",
       " '<li><a href=\"/w/index.php?title=%E0%B8%A7%E0%B8%B1%E0%B8%94%E0%B8%A7%E0%B8%B1%E0%B8%87%E0%B9%81%E0%B8%AA%E0%B8%87&amp;action=edit&amp;redlink=1\" class=\"new\" title=\"วัดวังแสง (ไม่มีหน้า)\">วัดวังแสง<',\n",
       " '<li><a href=\"/w/index.php?title=%E0%B8%A7%E0%B8%B1%E0%B8%94%E0%B8%AB%E0%B8%99%E0%B8%AD%E0%B8%87%E0%B8%A2%E0%B8%B2%E0%B8%87&amp;action=edit&amp;redlink=1\" class=\"new\" title=\"วัดหนองยาง (ไม่มีหน้า)\">วัดหนองยาง<',\n",
       " '<li><a href=\"/w/index.php?title=%E0%B8%A7%E0%B8%B1%E0%B8%94%E0%B9%80%E0%B8%81%E0%B8%B2%E0%B8%B0%E0%B9%81%E0%B8%81%E0%B9%89%E0%B8%A7&amp;action=edit&amp;redlink=1\" class=\"new\" title=\"วัดเกาะแก้ว (ไม่มีหน้า)\">วัดเกาะแก้ว<',\n",
       " '<li><a href=\"/w/index.php?title=%E0%B8%A7%E0%B8%B1%E0%B8%94%E0%B8%84%E0%B8%A5%E0%B8%AD%E0%B8%87%E0%B8%99%E0%B9%89%E0%B8%AD%E0%B8%A2&amp;action=edit&amp;redlink=1\" class=\"new\" title=\"วัดคลองน้อย (ไม่มีหน้า)\">วัดคลองน้อย<',\n",
       " '<li><a href=\"/wiki/%E0%B8%A7%E0%B8%B1%E0%B8%94%E0%B8%AB%E0%B8%99%E0%B8%AD%E0%B8%87%E0%B8%9B%E0%B8%A5%E0%B9%89%E0%B8%AD%E0%B8%87\" title=\"วัดหนองปล้อง\">วัดหนองปล้อง<',\n",
       " '<li><a href=\"/w/index.php?title=%E0%B8%A7%E0%B8%B1%E0%B8%94%E0%B8%84%E0%B8%A5%E0%B8%AD%E0%B8%87%E0%B8%AA%E0%B8%B0%E0%B9%81%E0%B8%81&amp;action=edit&amp;redlink=1\" class=\"new\" title=\"วัดคลองสะแก (ไม่มีหน้า)\">วัดคลองสะแก<',\n",
       " '<li><a href=\"/wiki/%E0%B8%A7%E0%B8%B1%E0%B8%94%E0%B8%97%E0%B9%88%E0%B8%B2%E0%B8%81%E0%B8%A3%E0%B8%B0%E0%B8%94%E0%B8%B2%E0%B8%99\" title=\"วัดท่ากระดาน\">วัดท่ากระดาน<',\n",
       " '<li><a href=\"/w/index.php?title=%E0%B8%A7%E0%B8%B1%E0%B8%94%E0%B8%9B%E0%B9%88%E0%B8%B2%E0%B8%AB%E0%B8%A7%E0%B8%B2%E0%B8%A2&amp;action=edit&amp;redlink=1\" class=\"new\" title=\"วัดป่าหวาย (ไม่มีหน้า)\">วัดป่าหวาย<',\n",
       " '<li><a href=\"/w/index.php?title=%E0%B8%A7%E0%B8%B1%E0%B8%94%E0%B8%A7%E0%B8%B1%E0%B8%87%E0%B8%97%E0%B8%B1%E0%B8%9A%E0%B9%84%E0%B8%97%E0%B8%A3&amp;action=edit&amp;redlink=1\" class=\"new\" title=\"วัดวังทับไทร (ไม่มีหน้า)\">วัดวังทับไทร<',\n",
       " '<li><a href=\"/w/index.php?title=%E0%B8%A7%E0%B8%B1%E0%B8%94%E0%B8%AB%E0%B8%99%E0%B8%AD%E0%B8%87%E0%B8%9B%E0%B8%A5%E0%B8%B2%E0%B9%84%E0%B8%AB%E0%B8%A5&amp;action=edit&amp;redlink=1\" class=\"new\" title=\"วัดหนองปลาไหล (ไม่มีหน้า)\">วัดหนองปลาไหล<',\n",
       " '<li><a href=\"/w/index.php?title=%E0%B8%A7%E0%B8%B1%E0%B8%94%E0%B9%83%E0%B8%AB%E0%B8%A1%E0%B9%88%E0%B8%AA%E0%B8%B8%E0%B8%82%E0%B8%AA%E0%B8%A7%E0%B8%A3%E0%B8%A3%E0%B8%84%E0%B9%8C&amp;action=edit&amp;redlink=1\" class=\"new\" title=\"วัดใหม่สุขสวรรค์ (ไม่มีหน้า)\">วัดใหม่สุขสวรรค์<',\n",
       " '<li><a href=\"/w/index.php?title=%E0%B8%A7%E0%B8%B1%E0%B8%94%E0%B9%80%E0%B8%82%E0%B8%B2%E0%B8%82%E0%B8%A1%E0%B8%B4%E0%B9%89%E0%B8%99&amp;action=edit&amp;redlink=1\" class=\"new\" title=\"วัดเขาขมิ้น (ไม่มีหน้า)\">วัดเขาขมิ้น<',\n",
       " '<li><a href=\"/w/index.php?title=%E0%B8%A7%E0%B8%B1%E0%B8%94%E0%B9%80%E0%B8%82%E0%B8%B2%E0%B8%9E%E0%B8%99%E0%B8%A1%E0%B8%9E%E0%B8%B2&amp;action=edit&amp;redlink=1\" class=\"new\" title=\"วัดเขาพนมพา (ไม่มีหน้า)\">วัดเขาพนมพา<',\n",
       " '<li><a href=\"/w/index.php?title=%E0%B8%A7%E0%B8%B1%E0%B8%94%E0%B8%94%E0%B8%87%E0%B8%9E%E0%B8%A5%E0%B8%B1%E0%B8%9A&amp;action=edit&amp;redlink=1\" class=\"new\" title=\"วัดดงพลับ (ไม่มีหน้า)\">วัดดงพลับ<',\n",
       " '<li><a href=\"/w/index.php?title=%E0%B8%A7%E0%B8%B1%E0%B8%94%E0%B9%83%E0%B8%94%E0%B8%99%E0%B9%89%E0%B8%B3%E0%B8%82%E0%B8%B8%E0%B9%88%E0%B8%99&amp;action=edit&amp;redlink=1\" class=\"new\" title=\"วัดใดน้ำขุ่น (ไม่มีหน้า)\">วัดใดน้ำขุ่น<',\n",
       " '<li><a href=\"/w/index.php?title=%E0%B8%A7%E0%B8%B1%E0%B8%94%E0%B9%84%E0%B8%95%E0%B8%A3%E0%B8%A2%E0%B8%B2%E0%B8%87%E0%B8%A8%E0%B9%8C%E0%B8%A7%E0%B8%99%E0%B8%B2%E0%B8%A3%E0%B8%B2%E0%B8%A1&amp;action=edit&amp;redlink=1\" class=\"new\" title=\"วัดไตรยางศ์วนาราม (ไม่มีหน้า)\">วัดไตรยางศ์วนาราม<',\n",
       " '<li><a href=\"/w/index.php?title=%E0%B8%A7%E0%B8%B1%E0%B8%94%E0%B8%9A%E0%B9%88%E0%B8%AD%E0%B9%81%E0%B8%95%E0%B9%89&amp;action=edit&amp;redlink=1\" class=\"new\" title=\"วัดบ่อแต้ (ไม่มีหน้า)\">วัดบ่อแต้<',\n",
       " '<li><a href=\"/w/index.php?title=%E0%B8%A7%E0%B8%B1%E0%B8%94%E0%B8%A8%E0%B8%A3%E0%B8%B5%E0%B8%A8%E0%B8%A3%E0%B8%B1%E0%B8%97%E0%B8%98%E0%B8%B2%E0%B8%A3%E0%B8%B2%E0%B8%A1&amp;action=edit&amp;redlink=1\" class=\"new\" title=\"วัดศรีศรัทธาราม (ไม่มีหน้า)\">วัดศรีศรัทธาราม<',\n",
       " '<li><a href=\"/w/index.php?title=%E0%B8%A7%E0%B8%B1%E0%B8%94%E0%B8%AB%E0%B8%99%E0%B8%AD%E0%B8%87%E0%B8%9E%E0%B8%A3%E0%B8%B0&amp;action=edit&amp;redlink=1\" class=\"new\" title=\"วัดหนองพระ (ไม่มีหน้า)\">วัดหนองพระ<',\n",
       " '<li><a href=\"/w/index.php?title=%E0%B8%A7%E0%B8%B1%E0%B8%94%E0%B8%AB%E0%B8%99%E0%B8%AD%E0%B8%87%E0%B9%82%E0%B8%9E%E0%B8%98%E0%B8%B4%E0%B9%8C&amp;action=edit&amp;redlink=1\" class=\"new\" title=\"วัดหนองโพธิ์ (ไม่มีหน้า)\">วัดหนองโพธิ์<',\n",
       " '<li><a href=\"/wiki/%E0%B8%A7%E0%B8%B1%E0%B8%94%E0%B8%9B%E0%B9%88%E0%B8%B2%E0%B9%80%E0%B8%82%E0%B8%B2%E0%B8%99%E0%B9%89%E0%B8%AD%E0%B8%A2\" class=\"mw-disambig\" title=\"วัดป่าเขาน้อย\">วัดป่าเขาน้อย<',\n",
       " '<li><a href=\"/w/index.php?title=%E0%B8%A7%E0%B8%B1%E0%B8%94%E0%B8%81%E0%B8%B3%E0%B9%81%E0%B8%9E%E0%B8%87%E0%B8%94%E0%B8%B4%E0%B8%99&amp;action=edit&amp;redlink=1\" class=\"new\" title=\"วัดกำแพงดิน (ไม่มีหน้า)\">วัดกำแพงดิน<',\n",
       " '<li><a href=\"/w/index.php?title=%E0%B8%A7%E0%B8%B1%E0%B8%94%E0%B8%A7%E0%B8%B1%E0%B8%87%E0%B8%9B%E0%B8%A5%E0%B8%B2%E0%B8%97%E0%B8%B9&amp;action=edit&amp;redlink=1\" class=\"new\" title=\"วัดวังปลาทู (ไม่มีหน้า)\">วัดวังปลาทู<',\n",
       " '<li><a href=\"/w/index.php?title=%E0%B8%A7%E0%B8%B1%E0%B8%94%E0%B8%A8%E0%B8%A3%E0%B8%B5%E0%B8%A8%E0%B8%A3%E0%B8%B1%E0%B8%97%E0%B8%98%E0%B8%B2%E0%B8%A3%E0%B8%B2%E0%B8%A1&amp;action=edit&amp;redlink=1\" class=\"new\" title=\"วัดศรีศรัทธาราม (ไม่มีหน้า)\">วัดศรีศรัทธาราม<',\n",
       " '<li><a href=\"/w/index.php?title=%E0%B8%A7%E0%B8%B1%E0%B8%94%E0%B9%80%E0%B8%99%E0%B8%B4%E0%B8%99%E0%B8%9B%E0%B8%AD&amp;action=edit&amp;redlink=1\" class=\"new\" title=\"วัดเนินปอ (ไม่มีหน้า)\">วัดเนินปอ<',\n",
       " '<li><a href=\"/w/index.php?title=%E0%B8%A7%E0%B8%B1%E0%B8%94%E0%B9%80%E0%B8%99%E0%B8%B4%E0%B8%99%E0%B8%9E%E0%B8%A2%E0%B8%AD%E0%B8%A1&amp;action=edit&amp;redlink=1\" class=\"new\" title=\"วัดเนินพยอม (ไม่มีหน้า)\">วัดเนินพยอม<',\n",
       " '<li><a href=\"/w/index.php?title=%E0%B8%A7%E0%B8%B1%E0%B8%94%E0%B9%80%E0%B8%99%E0%B8%B4%E0%B8%99%E0%B8%9E%E0%B8%A5%E0%B8%A7%E0%B8%87&amp;action=edit&amp;redlink=1\" class=\"new\" title=\"วัดเนินพลวง (ไม่มีหน้า)\">วัดเนินพลวง<',\n",
       " '<li><a href=\"/w/index.php?title=%E0%B8%A7%E0%B8%B1%E0%B8%94%E0%B8%9A%E0%B8%B6%E0%B8%87%E0%B8%95%E0%B8%B0%E0%B8%84%E0%B8%95&amp;action=edit&amp;redlink=1\" class=\"new\" title=\"วัดบึงตะคต (ไม่มีหน้า)\">วัดบึงตะคต<',\n",
       " '<li><a href=\"/w/index.php?title=%E0%B8%A7%E0%B8%B1%E0%B8%94%E0%B8%A1%E0%B8%B2%E0%B8%9A%E0%B9%81%E0%B8%9F%E0%B8%9A&amp;action=edit&amp;redlink=1\" class=\"new\" title=\"วัดมาบแฟบ (ไม่มีหน้า)\">วัดมาบแฟบ<',\n",
       " '<li><a href=\"/w/index.php?title=%E0%B8%A7%E0%B8%B1%E0%B8%94%E0%B8%A2%E0%B8%B2%E0%B8%87%E0%B8%AB%E0%B9%89%E0%B8%B2%E0%B8%AB%E0%B8%A5%E0%B8%B8%E0%B8%A1&amp;action=edit&amp;redlink=1\" class=\"new\" title=\"วัดยางห้าหลุม (ไม่มีหน้า)\">วัดยางห้าหลุม<',\n",
       " '<li><a href=\"/w/index.php?title=%E0%B8%A7%E0%B8%B1%E0%B8%94%E0%B8%A7%E0%B8%B1%E0%B8%87%E0%B8%81%E0%B8%A3%E0%B8%B0%E0%B8%97%E0%B8%B6%E0%B8%87&amp;action=edit&amp;redlink=1\" class=\"new\" title=\"วัดวังกระทึง (ไม่มีหน้า)\">วัดวังกระทึง<',\n",
       " '<li><a href=\"/w/index.php?title=%E0%B8%A7%E0%B8%B1%E0%B8%94%E0%B8%AA%E0%B8%A3%E0%B8%B0%E0%B8%A2%E0%B8%B2%E0%B8%A2%E0%B8%8A%E0%B8%B5&amp;action=edit&amp;redlink=1\" class=\"new\" title=\"วัดสระยายชี (ไม่มีหน้า)\">วัดสระยายชี<',\n",
       " '<li><a href=\"/w/index.php?title=%E0%B8%A7%E0%B8%B1%E0%B8%94%E0%B8%81%E0%B8%A3%E0%B8%B0%E0%B8%97%E0%B8%B8%E0%B9%88%E0%B8%A1%E0%B8%99%E0%B9%89%E0%B8%B3%E0%B9%80%E0%B8%94%E0%B8%B7%E0%B8%AD%E0%B8%94&amp;action=edit&amp;redlink=1\" class=\"new\" title=\"วัดกระทุ่มน้ำเดือด (ไม่มีหน้า)\">วัดกระทุ่มน้ำเดือด<',\n",
       " '<li><a href=\"/w/index.php?title=%E0%B8%A7%E0%B8%B1%E0%B8%94%E0%B8%88%E0%B8%A3%E0%B8%B0%E0%B9%80%E0%B8%82%E0%B9%89%E0%B8%9C%E0%B8%AD%E0%B8%A1&amp;action=edit&amp;redlink=1\" class=\"new\" title=\"วัดจระเข้ผอม (ไม่มีหน้า)\">วัดจระเข้ผอม<',\n",
       " '<li><a href=\"/w/index.php?title=%E0%B8%A7%E0%B8%B1%E0%B8%94%E0%B8%9A%E0%B9%89%E0%B8%B2%E0%B8%99%E0%B9%83%E0%B8%AB%E0%B8%A1%E0%B9%88%E0%B8%84%E0%B8%87%E0%B8%84%E0%B8%B2%E0%B8%A3%E0%B8%B2%E0%B8%A1&amp;action=edit&amp;redlink=1\" class=\"new\" title=\"วัดบ้านใหม่คงคาราม (ไม่มีหน้า)\">วัดบ้านใหม่คงคาราม<',\n",
       " '<li><a href=\"/w/index.php?title=%E0%B8%A7%E0%B8%B1%E0%B8%94%E0%B8%A3%E0%B8%B1%E0%B8%87%E0%B8%99%E0%B8%81&amp;action=edit&amp;redlink=1\" class=\"new\" title=\"วัดรังนก (ไม่มีหน้า)\">วัดรังนก<',\n",
       " '<li><a href=\"/w/index.php?title=%E0%B8%A7%E0%B8%B1%E0%B8%94%E0%B8%AB%E0%B8%99%E0%B8%AD%E0%B8%87%E0%B8%99%E0%B9%89%E0%B8%B3%E0%B9%80%E0%B8%82%E0%B8%B5%E0%B8%A2%E0%B8%A7&amp;action=edit&amp;redlink=1\" class=\"new\" title=\"วัดหนองน้ำเขียว (ไม่มีหน้า)\">วัดหนองน้ำเขียว<',\n",
       " '<li><a href=\"/w/index.php?title=%E0%B8%A7%E0%B8%B1%E0%B8%94%E0%B9%80%E0%B8%97%E0%B8%9E%E0%B8%AA%E0%B8%B4%E0%B8%97%E0%B8%98%E0%B8%B4%E0%B8%81%E0%B8%B2%E0%B8%A3%E0%B8%B2%E0%B8%A1&amp;action=edit&amp;redlink=1\" class=\"new\" title=\"วัดเทพสิทธิการาม (ไม่มีหน้า)\">วัดเทพสิทธิการาม<',\n",
       " '<li><a href=\"/w/index.php?title=%E0%B8%A7%E0%B8%B1%E0%B8%94%E0%B8%A3%E0%B8%B2%E0%B8%A2%E0%B8%8A%E0%B8%B0%E0%B9%82%E0%B8%94&amp;action=edit&amp;redlink=1\" class=\"new\" title=\"วัดรายชะโด (ไม่มีหน้า)\">วัดรายชะโด<',\n",
       " '<li><a href=\"/wiki/%E0%B8%A7%E0%B8%B1%E0%B8%94%E0%B8%A7%E0%B8%B1%E0%B8%87%E0%B9%81%E0%B8%94%E0%B8%87\" title=\"วัดวังแดง\">วัดวังแดง<',\n",
       " '<li><a href=\"/w/index.php?title=%E0%B8%A7%E0%B8%B1%E0%B8%94%E0%B8%AA%E0%B8%B2%E0%B8%A1%E0%B8%87%E0%B9%88%E0%B8%B2%E0%B8%A1&amp;action=edit&amp;redlink=1\" class=\"new\" title=\"วัดสามง่าม (ไม่มีหน้า)\">วัดสามง่าม<',\n",
       " '<li><a href=\"/w/index.php?title=%E0%B8%A7%E0%B8%B1%E0%B8%94%E0%B9%83%E0%B8%AB%E0%B8%A1%E0%B9%88%E0%B8%A3%E0%B8%B2%E0%B8%A9%E0%B8%8E%E0%B8%A3%E0%B9%8C%E0%B8%9A%E0%B8%B3%E0%B8%A3%E0%B8%B8%E0%B8%87&amp;action=edit&amp;redlink=1\" class=\"new\" title=\"วัดใหม่ราษฎร์บำรุง (ไม่มีหน้า)\">วัดใหม่ราษฎร์บำรุง<',\n",
       " '<li><a href=\"/wiki/%E0%B8%A7%E0%B8%B1%E0%B8%94%E0%B8%84%E0%B8%A5%E0%B8%AD%E0%B8%87%E0%B9%80%E0%B8%88%E0%B8%A3%E0%B8%B4%E0%B8%8D\" title=\"วัดคลองเจริญ\">วัดคลองเจริญ<',\n",
       " '<li><a href=\"/w/index.php?title=%E0%B8%A7%E0%B8%B1%E0%B8%94%E0%B8%9A%E0%B8%B6%E0%B8%87%E0%B9%80%E0%B8%92%E0%B9%88%E0%B8%B2&amp;action=edit&amp;redlink=1\" class=\"new\" title=\"วัดบึงเฒ่า (ไม่มีหน้า)\">วัดบึงเฒ่า<',\n",
       " '<li><a href=\"/w/index.php?title=%E0%B8%A7%E0%B8%B1%E0%B8%94%E0%B8%9B%E0%B9%88%E0%B8%B2%E0%B9%81%E0%B8%8B%E0%B8%87&amp;action=edit&amp;redlink=1\" class=\"new\" title=\"วัดป่าแซง (ไม่มีหน้า)\">วัดป่าแซง<',\n",
       " '<li><a href=\"/w/index.php?title=%E0%B8%A7%E0%B8%B1%E0%B8%94%E0%B8%9B%E0%B9%88%E0%B8%B2%E0%B8%9E%E0%B8%A3%E0%B8%AB%E0%B8%A1%E0%B8%A7%E0%B8%B4%E0%B8%AB%E0%B8%B2%E0%B8%A3&amp;action=edit&amp;redlink=1\" class=\"new\" title=\"วัดป่าพรหมวิหาร (ไม่มีหน้า)\">วัดป่าพรหมวิหาร<',\n",
       " '<li><a href=\"/w/index.php?title=%E0%B8%A7%E0%B8%B1%E0%B8%94%E0%B9%84%E0%B8%9C%E0%B9%88%E0%B9%83%E0%B8%AB%E0%B8%8D%E0%B9%88&amp;action=edit&amp;redlink=1\" class=\"new\" title=\"วัดไผ่ใหญ่ (ไม่มีหน้า)\">วัดไผ่ใหญ่<',\n",
       " '<li><a href=\"/w/index.php?title=%E0%B8%A7%E0%B8%B1%E0%B8%94%E0%B8%A1%E0%B8%B2%E0%B8%9A%E0%B8%81%E0%B8%A3%E0%B8%B0%E0%B9%80%E0%B8%9B%E0%B8%B2&amp;action=edit&amp;redlink=1\" class=\"new\" title=\"วัดมาบกระเปา (ไม่มีหน้า)\">วัดมาบกระเปา<',\n",
       " '<li><a href=\"/w/index.php?title=%E0%B8%A7%E0%B8%B1%E0%B8%94%E0%B8%AB%E0%B8%99%E0%B8%AD%E0%B8%87%E0%B8%88%E0%B8%B4%E0%B8%81&amp;action=edit&amp;redlink=1\" class=\"new\" title=\"วัดหนองจิก (ไม่มีหน้า)\">วัดหนองจิก<',\n",
       " '<li><a href=\"/wiki/%E0%B8%A7%E0%B8%B1%E0%B8%94%E0%B8%AB%E0%B8%99%E0%B8%AD%E0%B8%87%E0%B9%82%E0%B8%AA%E0%B8%99\" title=\"วัดหนองโสน\">วัดหนองโสน<',\n",
       " '<li><a href=\"/wiki/%E0%B8%A7%E0%B8%B1%E0%B8%94%E0%B9%84%E0%B8%97%E0%B8%A2\" class=\"mw-redirect\" title=\"วัดไทย\">วัดไทย<']"
      ]
     },
     "execution_count": 176,
     "metadata": {},
     "output_type": "execute_result"
    }
   ],
   "source": [
    "finds"
   ]
  },
  {
   "cell_type": "code",
   "execution_count": 181,
   "metadata": {},
   "outputs": [
    {
     "data": {
      "text/plain": [
       "['<li><a href=\"/w/index.php?title=%E0%B8%A7%E0%B8%B1%E0%B8%94%E0%B8%A7%E0%B8%B1%E0%B8%87%E0%B8%AB%E0%B8%B4%E0%B8%99%E0%B9%81%E0%B8%A3%E0%B8%87&amp;action=edit&amp;redlink=1\" class=\"new\" title=\"วัดวังหินแรง (ไม่มีหน้า)\">วัดวังหินแรง<',\n",
       " '<li><a href=\"/w/index.php?title=%E0%B8%A7%E0%B8%B1%E0%B8%94%E0%B8%AA%E0%B8%B3%E0%B8%99%E0%B8%B1%E0%B8%81%E0%B8%82%E0%B8%B8%E0%B8%99%E0%B9%80%E0%B8%93%E0%B8%A3&amp;action=edit&amp;redlink=1\" class=\"new\" title=\"วัดสำนักขุนเณร (ไม่มีหน้า)\">วัดสำนักขุนเณร<',\n",
       " '<li><a href=\"/w/index.php?title=%E0%B8%A7%E0%B8%B1%E0%B8%94%E0%B9%84%E0%B8%94%E0%B9%82%E0%B8%AA%E0%B8%99&amp;action=edit&amp;redlink=1\" class=\"new\" title=\"วัดไดโสน (ไม่มีหน้า)\">วัดไดโสน<',\n",
       " '<li><a href=\"/w/index.php?title=%E0%B8%A7%E0%B8%B1%E0%B8%94%E0%B8%AB%E0%B9%89%E0%B8%A7%E0%B8%A2%E0%B9%80%E0%B8%82%E0%B8%99&amp;action=edit&amp;redlink=1\" class=\"new\" title=\"วัดห้วยเขน (ไม่มีหน้า)\">วัดห้วยเขน<',\n",
       " '<li><a href=\"/w/index.php?title=%E0%B8%A7%E0%B8%B1%E0%B8%94%E0%B9%80%E0%B8%99%E0%B8%B4%E0%B8%99%E0%B8%8A%E0%B8%B1%E0%B8%A2%E0%B8%A8%E0%B8%A3%E0%B8%B5&amp;action=edit&amp;redlink=1\" class=\"new\" title=\"วัดเนินชัยศรี (ไม่มีหน้า)\">วัดเนินชัยศรี<',\n",
       " '<li><a href=\"/w/index.php?title=%E0%B8%A7%E0%B8%B1%E0%B8%94%E0%B8%A7%E0%B8%B1%E0%B8%87%E0%B8%AB%E0%B8%A7%E0%B9%89%E0%B8%B2&amp;action=edit&amp;redlink=1\" class=\"new\" title=\"วัดวังหว้า (ไม่มีหน้า)\">วัดวังหว้า<',\n",
       " '<li><a href=\"/w/index.php?title=%E0%B8%A7%E0%B8%B1%E0%B8%94%E0%B8%98%E0%B8%A3%E0%B8%A3%E0%B8%A1%E0%B8%AA%E0%B8%B1%E0%B8%87%E0%B9%80%E0%B8%A7%E0%B8%8A&amp;action=edit&amp;redlink=1\" class=\"new\" title=\"วัดธรรมสังเวช (ไม่มีหน้า)\">วัดธรรมสังเวช<',\n",
       " '<li><a href=\"/w/index.php?title=%E0%B8%A7%E0%B8%B1%E0%B8%94%E0%B8%AB%E0%B8%99%E0%B8%AD%E0%B8%87%E0%B8%AA%E0%B8%99%E0%B8%A7%E0%B8%99&amp;action=edit&amp;redlink=1\" class=\"new\" title=\"วัดหนองสนวน (ไม่มีหน้า)\">วัดหนองสนวน<',\n",
       " '<li><a href=\"/w/index.php?title=%E0%B8%A7%E0%B8%B1%E0%B8%94%E0%B8%AB%E0%B8%99%E0%B8%AD%E0%B8%87%E0%B8%AA%E0%B8%AD%E0%B8%87%E0%B8%AB%E0%B9%89%E0%B8%AD%E0%B8%87&amp;action=edit&amp;redlink=1\" class=\"new\" title=\"วัดหนองสองห้อง (ไม่มีหน้า)\">วัดหนองสองห้อง<',\n",
       " '<li><a href=\"/w/index.php?title=%E0%B8%A7%E0%B8%B1%E0%B8%94%E0%B8%9B%E0%B8%B2%E0%B8%81%E0%B8%84%E0%B8%A5%E0%B8%AD%E0%B8%87%E0%B9%84%E0%B8%82%E0%B9%88%E0%B9%80%E0%B8%99%E0%B9%88%E0%B8%B2&amp;action=edit&amp;redlink=1\" class=\"new\" title=\"วัดปากคลองไข่เน่า (ไม่มีหน้า)\">วัดปากคลองไข่เน่า<',\n",
       " '<li><a href=\"/w/index.php?title=%E0%B8%A7%E0%B8%B1%E0%B8%94%E0%B8%AB%E0%B8%AD%E0%B9%84%E0%B8%81%E0%B8%A3&amp;action=edit&amp;redlink=1\" class=\"new\" title=\"วัดหอไกร (ไม่มีหน้า)\">วัดหอไกร<',\n",
       " '<li><a href=\"/w/index.php?title=%E0%B8%A7%E0%B8%B1%E0%B8%94%E0%B8%97%E0%B8%B0%E0%B8%99%E0%B8%87&amp;action=edit&amp;redlink=1\" class=\"new\" title=\"วัดทะนง (ไม่มีหน้า)\">วัดทะนง<',\n",
       " '<li><a href=\"/w/index.php?title=%E0%B8%A7%E0%B8%B1%E0%B8%94%E0%B8%99%E0%B8%B2%E0%B8%84%E0%B8%A7%E0%B8%B4%E0%B8%A5%E0%B8%B1%E0%B8%A2&amp;action=edit&amp;redlink=1\" class=\"new\" title=\"วัดนาควิลัย (ไม่มีหน้า)\">วัดนาควิลัย<',\n",
       " '<li><a href=\"/w/index.php?title=%E0%B8%A7%E0%B8%B1%E0%B8%94%E0%B8%99%E0%B9%89%E0%B8%B3%E0%B8%9C%E0%B8%B6%E0%B9%89%E0%B8%87&amp;action=edit&amp;redlink=1\" class=\"new\" title=\"วัดน้ำผึ้ง (ไม่มีหน้า)\">วัดน้ำผึ้ง<',\n",
       " '<li><a href=\"/w/index.php?title=%E0%B8%A7%E0%B8%B1%E0%B8%94%E0%B8%97%E0%B9%88%E0%B8%B2%E0%B8%82%E0%B8%A1%E0%B8%B4%E0%B9%89%E0%B8%99&amp;action=edit&amp;redlink=1\" class=\"new\" title=\"วัดท่าขมิ้น (ไม่มีหน้า)\">วัดท่าขมิ้น<']"
      ]
     },
     "execution_count": 181,
     "metadata": {},
     "output_type": "execute_result"
    }
   ],
   "source": [
    "finds[180:195]"
   ]
  },
  {
   "cell_type": "code",
   "execution_count": 183,
   "metadata": {},
   "outputs": [
    {
     "name": "stdout",
     "output_type": "stream",
     "text": [
      "['วัดกุดประดู่']\n",
      "['วัดเกาะแก้ว']\n",
      "['วัดตะกรุดไร']\n",
      "['วัดทายการาม']\n",
      "['วัดไทรย้อย']\n",
      "['วัดวังหินแรง']\n",
      "['วัดสำนักขุนเณร']\n",
      "['วัดไดโสน']\n",
      "['วัดห้วยเขน']\n",
      "['วัดเนินชัยศรี']\n"
     ]
    },
    {
     "data": {
      "text/plain": [
       "['วัดกุดประดู่',\n",
       " 'วัดเกาะแก้ว',\n",
       " 'วัดตะกรุดไร',\n",
       " 'วัดทายการาม',\n",
       " 'วัดไทรย้อย',\n",
       " 'วัดวังหินแรง',\n",
       " 'วัดสำนักขุนเณร',\n",
       " 'วัดไดโสน',\n",
       " 'วัดห้วยเขน',\n",
       " 'วัดเนินชัยศรี']"
      ]
     },
     "execution_count": 183,
     "metadata": {},
     "output_type": "execute_result"
    }
   ],
   "source": [
    "def transformT(x):\n",
    "    reg = r'>(วัด.*?)<'\n",
    "    regDistrict = r'>(.*?) ตำบล'\n",
    "    if re.search(\" ตำบล\", x): # check if string include ตำบล\n",
    "        print(re.findall(regDistrict, x))\n",
    "        return re.findall(regDistrict, x)[0].strip()\n",
    "    else:\n",
    "        print(re.findall(reg, x))\n",
    "        return re.findall(reg, x)[0].strip()\n",
    "\n",
    "list(map(transformT, finds[175:185]))"
   ]
  },
  {
   "cell_type": "code",
   "execution_count": 174,
   "metadata": {},
   "outputs": [
    {
     "data": {
      "text/plain": [
       "['วัดประชุมโยธี',\n",
       " 'วัดโฆสิตาราม',\n",
       " 'วัดปาโมกข์',\n",
       " 'วัดอินทภูมิ',\n",
       " 'วัดปากคลอง',\n",
       " 'วัดรมณีย์',\n",
       " 'วัดนารายณิการาม (เหล)',\n",
       " 'วัดนางย่อน',\n",
       " 'วัดบ้านเตรียม',\n",
       " 'วัดตำหนัง',\n",
       " 'วัดบางวัน',\n",
       " 'วัดสามัคคีธรรม',\n",
       " 'วัดป่าสวนงาม',\n",
       " 'วัดมาตุคุณาราม',\n",
       " 'วัดสุวรรณคูหา',\n",
       " 'วัดเจริญรมณาวาส',\n",
       " 'วัดศรีรัตนาราม',\n",
       " 'วัดดอน',\n",
       " 'วัดไตรมารคสถิต',\n",
       " 'วัดไตรรัตนากร',\n",
       " 'วัดราษฎร์สโมสร',\n",
       " 'วัดลำธาร',\n",
       " 'วัดดิตถาราม',\n",
       " 'วัดนากลาง',\n",
       " 'วัดสันติวราราม',\n",
       " 'วัดควนกะไหล',\n",
       " 'วัดราษฎร์โยธี',\n",
       " 'วัดคมนียเขต',\n",
       " 'วัดพนัสนิคม',\n",
       " 'วัดคงคาพิมุข',\n",
       " 'วัดบางมรา',\n",
       " 'วัดพระธาตุคีรีเขต',\n",
       " 'วัดเสนานุชรังสรรค์',\n",
       " 'วัดหน้าเมือง',\n",
       " 'วัดควรนิยม',\n",
       " 'วัดศรีนิคม',\n",
       " 'วัดบางมรวน',\n",
       " 'วัดราษฎร์นิรมิต',\n",
       " 'วัดนิกรวราราม',\n",
       " 'วัดโคกเคียน',\n",
       " 'วัดบางน้ำใส',\n",
       " 'วัดโคกสวย',\n",
       " 'วัดคีรีวงก์',\n",
       " 'วัดนิโครธาราม',\n",
       " 'วัดพิทักษ์ธรรมาราม',\n",
       " 'วัดไสเสียด',\n",
       " 'วัดราษฎร์อุปถัมภ์',\n",
       " 'วัดนิโครธคุณากร',\n",
       " 'วัดศรัทธาราม',\n",
       " 'วัดอุทัยราษฎร์บำรุง',\n",
       " 'วัดปัตติการาม',\n",
       " 'วัดเหมืองประชาราม',\n",
       " 'วัดประชุมศึกษา',\n",
       " 'วัดหาดทรายสมบูรณ์',\n",
       " 'วัดอินทนิน',\n",
       " 'วัดดอนปริง',\n",
       " 'วัดนิคมสโมสร',\n",
       " 'วัดประชาธิการาม',\n",
       " 'วัดลุมพินี',\n",
       " 'วัดราชา',\n",
       " 'วัดสุวรรณาวาส',\n",
       " 'วัดหลักแก่น',\n",
       " 'วัดลาภี',\n",
       " 'วัดนิโรธรังสี',\n",
       " 'วัดลำปี',\n",
       " 'วัดเทสก์ธรรมนาวา',\n",
       " 'วัดธัญญเขต',\n",
       " 'วัดสราภิมุข',\n",
       " 'วัดทักษิณาวาส',\n",
       " 'วัดประพาสประจิมเขต',\n",
       " 'วัดมงคลสุทธาวาส',\n",
       " 'วัดปัจจันตคาม',\n",
       " 'วัดชนาธิการาม',\n",
       " 'วัดมะปริง',\n",
       " 'วัดอรัญญิกาวาส',\n",
       " 'วัดบางเสียด',\n",
       " 'วัดมงคลสถิต',\n",
       " 'วัดประชาสันติ',\n",
       " 'วัดบางเตย',\n",
       " 'วัดไทย']"
      ]
     },
     "execution_count": 174,
     "metadata": {},
     "output_type": "execute_result"
    }
   ],
   "source": [
    "def transform(x):\n",
    "    reg = r'>(วัด.*?)<'\n",
    "    regDistrict = r'>(.*?) ตำบล'\n",
    "    if re.search(\" ตำบล\", x): # check if string include ตำบล\n",
    "        return re.findall(regDistrict, x)[0].strip()\n",
    "    else:\n",
    "        return re.findall(reg, x)[0].strip()\n",
    "\n",
    "list(map(transform, finds))"
   ]
  },
  {
   "cell_type": "code",
   "execution_count": 68,
   "metadata": {},
   "outputs": [
    {
     "data": {
      "text/plain": [
       "['/wiki/%E0%B8%A3%E0%B8%B2%E0%B8%A2%E0%B8%8A%E0%B8%B7%E0%B9%88%E0%B8%AD%E0%B8%A7%E0%B8%B1%E0%B8%94%E0%B9%83%E0%B8%99%E0%B8%88%E0%B8%B1%E0%B8%87%E0%B8%AB%E0%B8%A7%E0%B8%B1%E0%B8%94%E0%B8%9E%E0%B8%B1%E0%B8%87%E0%B8%87%E0%B8%B2',\n",
       " '/wiki/%E0%B8%A3%E0%B8%B2%E0%B8%A2%E0%B8%8A%E0%B8%B7%E0%B9%88%E0%B8%AD%E0%B8%A7%E0%B8%B1%E0%B8%94%E0%B9%83%E0%B8%99%E0%B8%88%E0%B8%B1%E0%B8%87%E0%B8%AB%E0%B8%A7%E0%B8%B1%E0%B8%94%E0%B8%9E%E0%B8%B1%E0%B8%97%E0%B8%A5%E0%B8%B8%E0%B8%87',\n",
       " '/wiki/%E0%B8%A3%E0%B8%B2%E0%B8%A2%E0%B8%8A%E0%B8%B7%E0%B9%88%E0%B8%AD%E0%B8%A7%E0%B8%B1%E0%B8%94%E0%B9%83%E0%B8%99%E0%B8%88%E0%B8%B1%E0%B8%87%E0%B8%AB%E0%B8%A7%E0%B8%B1%E0%B8%94%E0%B8%9E%E0%B8%B4%E0%B8%88%E0%B8%B4%E0%B8%95%E0%B8%A3',\n",
       " '/wiki/%E0%B8%A3%E0%B8%B2%E0%B8%A2%E0%B8%8A%E0%B8%B7%E0%B9%88%E0%B8%AD%E0%B8%A7%E0%B8%B1%E0%B8%94%E0%B9%83%E0%B8%99%E0%B8%88%E0%B8%B1%E0%B8%87%E0%B8%AB%E0%B8%A7%E0%B8%B1%E0%B8%94%E0%B8%9E%E0%B8%B4%E0%B8%A9%E0%B8%93%E0%B8%B8%E0%B9%82%E0%B8%A5%E0%B8%81',\n",
       " '/wiki/%E0%B8%A3%E0%B8%B2%E0%B8%A2%E0%B8%8A%E0%B8%B7%E0%B9%88%E0%B8%AD%E0%B8%A7%E0%B8%B1%E0%B8%94%E0%B9%83%E0%B8%99%E0%B8%88%E0%B8%B1%E0%B8%87%E0%B8%AB%E0%B8%A7%E0%B8%B1%E0%B8%94%E0%B8%AD%E0%B8%B8%E0%B8%9A%E0%B8%A5%E0%B8%A3%E0%B8%B2%E0%B8%8A%E0%B8%98%E0%B8%B2%E0%B8%99%E0%B8%B5']"
      ]
     },
     "execution_count": 68,
     "metadata": {},
     "output_type": "execute_result"
    }
   ],
   "source": [
    "links"
   ]
  },
  {
   "cell_type": "code",
   "execution_count": 14,
   "metadata": {
    "collapsed": false
   },
   "outputs": [],
   "source": [
    "match = re.search(reg, response.text)"
   ]
  },
  {
   "cell_type": "code",
   "execution_count": 15,
   "metadata": {
    "collapsed": false
   },
   "outputs": [
    {
     "data": {
      "text/plain": [
       "'<a href=\"/wiki/%E0%B8%A3%E0%B8%B2%E0%B8%A2%E0%B8%8A%E0%B8%B7%E0%B9%88%E0%B8%AD%E0%B8%A7%E0%B8%B1%E0%B8%94%E0%B9%83%E0%B8%99%E0%B8%88%E0%B8%B1%E0%B8%87%E0%B8%AB%E0%B8%A7%E0%B8%B1%E0%B8%94%E0%B8%AD%E0%B8%B8%E0%B8%9A%E0%B8%A5%E0%B8%A3%E0%B8%B2%E0%B8%8A%E0%B8%98%E0%B8%B2%E0%B8%99%E0%B8%B5\" title=\"รายชื่อวัดในจังหวัดอุบลราชธานี\">'"
      ]
     },
     "execution_count": 15,
     "metadata": {},
     "output_type": "execute_result"
    }
   ],
   "source": [
    "match.group(0)"
   ]
  },
  {
   "cell_type": "code",
   "execution_count": 16,
   "metadata": {
    "collapsed": false
   },
   "outputs": [
    {
     "data": {
      "text/plain": [
       "'พังงา|พัทลุง|พิจิตร|พิษณุโลก|อุบลราชธานี'"
      ]
     },
     "execution_count": 16,
     "metadata": {},
     "output_type": "execute_result"
    }
   ],
   "source": [
    "'|'.join(provinces)"
   ]
  },
  {
   "cell_type": "code",
   "execution_count": 17,
   "metadata": {
    "collapsed": false
   },
   "outputs": [
    {
     "name": "stdout",
     "output_type": "stream",
     "text": [
      "<a href=\"/wiki/%E0%B8%A3%E0%B8%B2%E0%B8%A2%E0%B8%8A%E0%B8%B7%E0%B9%88%E0%B8%AD%E0%B8%A7%E0%B8%B1%E0%B8%94%E0%B9%83%E0%B8%99%E0%B8%88%E0%B8%B1%E0%B8%87%E0%B8%AB%E0%B8%A7%E0%B8%B1%E0%B8%94%E0%B8%AD%E0%B8%B8%E0%B8%9A%E0%B8%A5%E0%B8%A3%E0%B8%B2%E0%B8%8A%E0%B8%98%E0%B8%B2%E0%B8%99%E0%B8%B5\" title=\"รายชื่อวัดในจังหวัดอุบลราชธานี\">\n"
     ]
    }
   ],
   "source": [
    "print(match.group(0))"
   ]
  },
  {
   "cell_type": "code",
   "execution_count": null,
   "metadata": {
    "collapsed": false
   },
   "outputs": [],
   "source": []
  }
 ],
 "metadata": {
  "kernelspec": {
   "display_name": "base",
   "language": "python",
   "name": "python3"
  },
  "language_info": {
   "codemirror_mode": {
    "name": "ipython",
    "version": 3
   },
   "file_extension": ".py",
   "mimetype": "text/x-python",
   "name": "python",
   "nbconvert_exporter": "python",
   "pygments_lexer": "ipython3",
   "version": "3.9.13"
  },
  "vscode": {
   "interpreter": {
    "hash": "79f8f44c13cb4bd9cc857ae28b2509d004417f4d113bd52c2e9df2532b843cc2"
   }
  }
 },
 "nbformat": 4,
 "nbformat_minor": 0
}
